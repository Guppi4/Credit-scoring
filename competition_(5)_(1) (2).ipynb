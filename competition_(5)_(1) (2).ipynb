{
  "cells": [
    {
      "cell_type": "markdown",
      "id": "db8126ba",
      "metadata": {
        "id": "db8126ba"
      },
      "source": [
        "\n",
        "## 1. Введение и Постановка Задачи\n",
        "\n",
        "**Цель:** Разработать модель бинарной классификации для предсказания целевой переменной на основе предоставленных данных о заемщиках.\n",
        "\n",
        "**Метрика качества:** ROC-AUC.\n",
        "\n",
        "**Подход:** я буду использовать градиентный бустинг (LightGBM) как наиболее эффективный алгоритм для табличных данных. Основной упор будет сделан на качественный разведочный анализ данных (EDA), генерацию сильных признаков (Feature Engineering) и надежную кросс-валидацию (Stratified K-Fold)."
      ]
    },
    {
      "cell_type": "markdown",
      "id": "e2472758",
      "metadata": {
        "id": "e2472758"
      },
      "source": [
        "## 2. Настройка окружения и Загрузка библиотек"
      ]
    },
    {
      "cell_type": "code",
      "execution_count": 1,
      "id": "907936b3",
      "metadata": {
        "colab": {
          "base_uri": "https://localhost:8080/"
        },
        "id": "907936b3",
        "outputId": "e88a3386-6ee9-4e39-9a90-a9fa33cd7851"
      },
      "outputs": [
        {
          "output_type": "stream",
          "name": "stdout",
          "text": [
            "Requirement already satisfied: scikit-learn in /usr/local/lib/python3.11/dist-packages (1.6.1)\n",
            "Requirement already satisfied: numpy>=1.19.5 in /usr/local/lib/python3.11/dist-packages (from scikit-learn) (2.0.2)\n",
            "Requirement already satisfied: scipy>=1.6.0 in /usr/local/lib/python3.11/dist-packages (from scikit-learn) (1.16.0)\n",
            "Requirement already satisfied: joblib>=1.2.0 in /usr/local/lib/python3.11/dist-packages (from scikit-learn) (1.5.1)\n",
            "Requirement already satisfied: threadpoolctl>=3.1.0 in /usr/local/lib/python3.11/dist-packages (from scikit-learn) (3.6.0)\n"
          ]
        }
      ],
      "source": [
        "!pip install scikit-learn"
      ]
    },
    {
      "cell_type": "code",
      "source": [
        "from google.colab import drive\n",
        "drive.mount('/content/drive')"
      ],
      "metadata": {
        "colab": {
          "base_uri": "https://localhost:8080/"
        },
        "id": "dyqvJyMVhRcp",
        "outputId": "4fa0ca37-8f47-43e3-b933-a996de1fe4ca"
      },
      "id": "dyqvJyMVhRcp",
      "execution_count": 2,
      "outputs": [
        {
          "output_type": "stream",
          "name": "stdout",
          "text": [
            "Drive already mounted at /content/drive; to attempt to forcibly remount, call drive.mount(\"/content/drive\", force_remount=True).\n"
          ]
        }
      ]
    },
    {
      "cell_type": "code",
      "source": [
        "%cd /content\n"
      ],
      "metadata": {
        "colab": {
          "base_uri": "https://localhost:8080/"
        },
        "id": "dm1l_FIl0nwj",
        "outputId": "81b0de6c-3b54-4dc6-b44a-76e3e478dc18"
      },
      "id": "dm1l_FIl0nwj",
      "execution_count": 3,
      "outputs": [
        {
          "output_type": "stream",
          "name": "stdout",
          "text": [
            "/content\n"
          ]
        }
      ]
    },
    {
      "cell_type": "code",
      "source": [
        "!rm -rf LightGBM\n"
      ],
      "metadata": {
        "id": "674WzWRf1rwX"
      },
      "id": "674WzWRf1rwX",
      "execution_count": 4,
      "outputs": []
    },
    {
      "cell_type": "code",
      "source": [
        "!ls -l\n"
      ],
      "metadata": {
        "colab": {
          "base_uri": "https://localhost:8080/"
        },
        "id": "ot2fKETt1ucZ",
        "outputId": "f49ab8ea-3e9a-4367-8be9-569961538bf5"
      },
      "id": "ot2fKETt1ucZ",
      "execution_count": 5,
      "outputs": [
        {
          "output_type": "stream",
          "name": "stdout",
          "text": [
            "total 8\n",
            "drwx------ 5 root root 4096 Aug  6 14:23 drive\n",
            "drwxr-xr-x 1 root root 4096 Jul 29 13:36 sample_data\n"
          ]
        }
      ]
    },
    {
      "cell_type": "code",
      "source": [
        "%%bash\n",
        "\n"
      ],
      "metadata": {
        "id": "gRXWC5hZ2EC_"
      },
      "id": "gRXWC5hZ2EC_",
      "execution_count": 6,
      "outputs": []
    },
    {
      "cell_type": "code",
      "source": [
        "%%bash\n",
        "apt-get update -y\n",
        "apt-get install -y build-essential cmake libboost-dev opencl-headers\n"
      ],
      "metadata": {
        "colab": {
          "base_uri": "https://localhost:8080/"
        },
        "id": "bq8uEiqc2HZ-",
        "outputId": "da1eab6b-c442-4f65-85d9-23b4c35cc980"
      },
      "id": "bq8uEiqc2HZ-",
      "execution_count": 7,
      "outputs": [
        {
          "output_type": "stream",
          "name": "stdout",
          "text": [
            "Hit:1 https://developer.download.nvidia.com/compute/cuda/repos/ubuntu2204/x86_64  InRelease\n",
            "Hit:2 https://cloud.r-project.org/bin/linux/ubuntu jammy-cran40/ InRelease\n",
            "Hit:3 http://security.ubuntu.com/ubuntu jammy-security InRelease\n",
            "Hit:4 http://archive.ubuntu.com/ubuntu jammy InRelease\n",
            "Hit:5 http://archive.ubuntu.com/ubuntu jammy-updates InRelease\n",
            "Hit:6 http://archive.ubuntu.com/ubuntu jammy-backports InRelease\n",
            "Hit:7 https://ppa.launchpadcontent.net/deadsnakes/ppa/ubuntu jammy InRelease\n",
            "Hit:8 https://r2u.stat.illinois.edu/ubuntu jammy InRelease\n",
            "Hit:9 https://ppa.launchpadcontent.net/graphics-drivers/ppa/ubuntu jammy InRelease\n",
            "Hit:10 https://ppa.launchpadcontent.net/ubuntugis/ppa/ubuntu jammy InRelease\n",
            "Reading package lists...\n",
            "Reading package lists...\n",
            "Building dependency tree...\n",
            "Reading state information...\n",
            "build-essential is already the newest version (12.9ubuntu3).\n",
            "libboost-dev is already the newest version (1.74.0.3ubuntu7).\n",
            "opencl-headers is already the newest version (3.0~2022.01.04-1).\n",
            "cmake is already the newest version (3.22.1-1ubuntu1.22.04.2).\n",
            "0 upgraded, 0 newly installed, 0 to remove and 37 not upgraded.\n"
          ]
        },
        {
          "output_type": "stream",
          "name": "stderr",
          "text": [
            "W: Skipping acquire of configured file 'main/source/Sources' as repository 'https://r2u.stat.illinois.edu/ubuntu jammy InRelease' does not seem to provide it (sources.list entry misspelt?)\n"
          ]
        }
      ]
    },
    {
      "cell_type": "code",
      "source": [
        "%%bash\n",
        "mkdir -p /etc/OpenCL/vendors\n",
        "echo \"libnvidia-opencl.so.1\" > /etc/OpenCL/vendors/nvidia.icd\n"
      ],
      "metadata": {
        "id": "GPNcmhnf2RQv"
      },
      "id": "GPNcmhnf2RQv",
      "execution_count": 8,
      "outputs": []
    },
    {
      "cell_type": "code",
      "source": [
        "%%bash\n",
        "# Remove any previous source build attempt\n",
        "rm -rf /content/LightGBM\n",
        "\n",
        "# Install LightGBM with GPU support using pip\n",
        "pip install lightgbm --config-settings=install.cmake.args=\"-DUSE_GPU=1\" --config-settings=install.cmake.build-args=\"-j$(nproc)\""
      ],
      "metadata": {
        "colab": {
          "base_uri": "https://localhost:8080/"
        },
        "id": "m2XvcKZp2Vhx",
        "outputId": "5c77beca-029a-48b9-f8f8-20bba4306c75"
      },
      "id": "m2XvcKZp2Vhx",
      "execution_count": 9,
      "outputs": [
        {
          "output_type": "stream",
          "name": "stdout",
          "text": [
            "Requirement already satisfied: lightgbm in /usr/local/lib/python3.11/dist-packages (4.6.0)\n",
            "Requirement already satisfied: numpy>=1.17.0 in /usr/local/lib/python3.11/dist-packages (from lightgbm) (2.0.2)\n",
            "Requirement already satisfied: scipy in /usr/local/lib/python3.11/dist-packages (from lightgbm) (1.16.0)\n"
          ]
        }
      ]
    },
    {
      "cell_type": "code",
      "source": [
        "import lightgbm as lgb\n",
        "print(\"LightGBM\", lgb.__version__)\n",
        "# The way to check for GPU support has changed in newer versions.\n",
        "# The previous method using lightgbm.compat.DEVICE_TYPE is no longer valid.\n",
        "# To confirm GPU usage, set device_type='gpu' in the model parameters and\n",
        "# check the output during training if verbose is enabled.\n",
        "\n",
        "# Removed the problematic import and check for DEVICE_TYPE\n",
        "# from lightgbm.compat import DEVICE_TYPE\n",
        "# print(\"Поддержка GPU:\", DEVICE_TYPE.gpu in lgb.basic._get_device_type())"
      ],
      "metadata": {
        "colab": {
          "base_uri": "https://localhost:8080/"
        },
        "id": "69a5VqSkyqHt",
        "outputId": "540b4902-d393-4fc7-c426-c2ce21c571df"
      },
      "id": "69a5VqSkyqHt",
      "execution_count": 10,
      "outputs": [
        {
          "output_type": "stream",
          "name": "stdout",
          "text": [
            "LightGBM 4.6.0\n"
          ]
        }
      ]
    },
    {
      "cell_type": "code",
      "execution_count": 11,
      "id": "256ec46e",
      "metadata": {
        "id": "256ec46e",
        "colab": {
          "base_uri": "https://localhost:8080/"
        },
        "outputId": "01496d7d-66f6-4af7-9ee4-05d9af493e2d"
      },
      "outputs": [
        {
          "output_type": "stream",
          "name": "stdout",
          "text": [
            "Ошибка импорта Pytorch Tabular. Убедитесь, что установка прошла успешно. Ошибка: No module named 'pytorch_tabular'\n"
          ]
        }
      ],
      "source": [
        "import pandas as pd\n",
        "import numpy as np\n",
        "import matplotlib.pyplot as plt\n",
        "import seaborn as sns\n",
        "import gc\n",
        "import warnings\n",
        "import re\n",
        "from datetime import datetime\n",
        "import time\n",
        "\n",
        "from sklearn.metrics import roc_auc_score\n",
        "import lightgbm as lgb\n",
        "from catboost import CatBoostClassifier\n",
        "\n",
        "# !!! НОВОЕ (Итерация 7): Импорты для Стекинга и Оптимизации\n",
        "from sklearn.linear_model import LogisticRegression\n",
        "from scipy.optimize import minimize\n",
        "# ---------------------------------------\n",
        "#  (Итерация 6): Импорты для Нейросети !!!\n",
        "import torch\n",
        "from sklearn.preprocessing import StandardScaler\n",
        "from sklearn.impute import SimpleImputer\n",
        "from sklearn.model_selection import train_test_split\n",
        "\n",
        "# Проверка импорта Pytorch Tabular\n",
        "try:\n",
        "    from pytorch_tabular import TabularModel\n",
        "    from pytorch_tabular.models import FTTransformerConfig\n",
        "    from pytorch_tabular.config import (\n",
        "        DataConfig, OptimizerConfig, TrainerConfig\n",
        "    )\n",
        "except ImportError as e:\n",
        "    print(f\"Ошибка импорта Pytorch Tabular. Убедитесь, что установка прошла успешно. Ошибка: {e}\")\n",
        "# --------------------------------------------------\n",
        "\n",
        "# Настройки\n",
        "warnings.filterwarnings('ignore')\n",
        "# Увеличиваем лимит отображаемых колонок, так как их много\n",
        "pd.set_option('display.max_columns', 150)\n",
        "pd.set_option('display.float_format', lambda x: '{:.5f}'.format(x)) # Отображение чисел без научной нотации\n",
        "sns.set(style=\"whitegrid\")\n",
        "\n",
        "# Константы для воспроизводимости и настройки\n",
        "RANDOM_STATE = 42\n",
        "N_SPLITS = 5 # Количество фолдов для кросс-валидации. Оптимально для большинства задач.\n",
        "# Используем большое число итераций и Early Stopping для определения оптимального количества деревьев\n",
        "N_ESTIMATORS = 5000\n",
        "EARLY_STOPPING_ROUNDS = 150\n",
        "VERBOSE = False # Отключаем подробный вывод во время обучения\n",
        "# Используем предполагаемую текущую дату из контекста для расчета давности событий\n",
        "REFERENCE_DATE = datetime(2025, 8, 1)\n",
        "\n",
        "# !!! НОВОЕ: Фиксация seed для PyTorch\n",
        "torch.manual_seed(RANDOM_STATE)\n",
        "# ...\n",
        "# Моделирование и оценка\n",
        "from sklearn.model_selection import StratifiedKFold\n",
        "# from sklearn.preprocessing import LabelEncoder # Не используем, так как LGBM поддерживает категории нативно\n",
        "from sklearn.metrics import roc_auc_score\n",
        "import lightgbm as lgb\n",
        "\n",
        "# Настройки\n",
        "warnings.filterwarnings('ignore')\n",
        "# Увеличиваем лимит отображаемых колонок, так как их много\n",
        "pd.set_option('display.max_columns', 150)\n",
        "pd.set_option('display.float_format', lambda x: '{:.5f}'.format(x)) # Отображение чисел без научной нотации\n",
        "sns.set(style=\"whitegrid\")"
      ]
    },
    {
      "cell_type": "markdown",
      "id": "729f3398",
      "metadata": {
        "id": "729f3398"
      },
      "source": [
        "## 3. Загрузка данных\n",
        "\n",
        "Загружаем тренировочные и тестовые данные. На больших датасетах.\n"
      ]
    },
    {
      "cell_type": "code",
      "execution_count": 12,
      "id": "2dcc0e56",
      "metadata": {
        "colab": {
          "base_uri": "https://localhost:8080/"
        },
        "id": "2dcc0e56",
        "outputId": "6853637f-e994-43d8-ca96-b2e776fd6b15"
      },
      "outputs": [
        {
          "output_type": "stream",
          "name": "stdout",
          "text": [
            "Конвертация числовых строк в numeric...\n",
            "  Конвертировано колонок: 0\n",
            "Конвертация числовых строк в numeric...\n",
            "  Конвертировано колонок: 0\n",
            "\n",
            "Реальные данные загружены и обработаны. Train: (1210779, 109), Test: (134531, 108)\n"
          ]
        }
      ],
      "source": [
        "# Шаг 2. Загружаем CSV-файлы\n",
        "\n",
        "# --- КОНФИГУРАЦИЯ ---\n",
        "TRAIN_FILE_PATH ='/content/drive/MyDrive/shift_ml_2025_train.csv'\n",
        "TEST_FILE_PATH = '/content/drive/MyDrive/shift_ml_2025_test.csv'\n",
        "\n",
        "TARGET_NAME = 'итоговый_статус_займа'\n",
        "ID_COLUMN = 'id'\n",
        "# --------------------\n",
        "\n",
        "# !!! Итерация 4: Функция для очистки числовых строк (Чек-лист №4) !!!\n",
        "def convert_numeric_strings(df):\n",
        "    print(\"Конвертация числовых строк в numeric...\")\n",
        "    converted_count = 0\n",
        "    # Выбираем колонки типа object\n",
        "    for c in df.select_dtypes('object').columns:\n",
        "        # Заменяем запятые на точки (если они используются как разделители)\n",
        "        tmp = df[c].astype(str).str.replace(',', '.')\n",
        "\n",
        "        # Проверяем, состоит ли колонка в основном из чисел (регулярное выражение)\n",
        "        # Если >80% строк похожи на числа, конвертируем\n",
        "        if tmp.str.match(r'^-?\\d+\\.?\\d*$', na=False).mean() > 0.8:\n",
        "            # Конвертируем в число, ошибки превращаем в NaN (errors='coerce')\n",
        "            df[c] = pd.to_numeric(tmp, errors='coerce')\n",
        "            converted_count += 1\n",
        "    print(f\"  Конвертировано колонок: {converted_count}\")\n",
        "    return df\n",
        "\n",
        "try:\n",
        "    # Используем low_memory=False для надежности\n",
        "    # Specify encoding to handle potential issues with Cyrillic characters\n",
        "    train_df = pd.read_csv(TRAIN_FILE_PATH)\n",
        "    test_df = pd.read_csv(TEST_FILE_PATH)\n",
        "\n",
        "    # Применяем конвертацию\n",
        "    train_df = convert_numeric_strings(train_df)\n",
        "    test_df = convert_numeric_strings(test_df)\n",
        "\n",
        "    print(f\"\\nРеальные данные загружены и обработаны. Train: {train_df.shape}, Test: {test_df.shape}\")\n",
        "\n",
        "except FileNotFoundError:\n",
        "    print(f\"Ошибка: Файлы не найдены по указанным путям.\")\n",
        "except Exception as e:\n",
        "    print(f\"Произошла ошибка при загрузке: {e}\")"
      ]
    },
    {
      "cell_type": "markdown",
      "id": "8faef53a",
      "metadata": {
        "id": "8faef53a"
      },
      "source": [
        "## 3.1. Добавление класса для Target Encoding"
      ]
    },
    {
      "cell_type": "code",
      "execution_count": 13,
      "id": "216f1f94",
      "metadata": {
        "colab": {
          "base_uri": "https://localhost:8080/"
        },
        "id": "216f1f94",
        "outputId": "fba9bc8f-b6b7-4b7f-e8c8-3be72d8d6753"
      },
      "outputs": [
        {
          "output_type": "stream",
          "name": "stdout",
          "text": [
            "Класс TargetEncoder обновлен (с smoothing и min_count).\n"
          ]
        }
      ],
      "source": [
        "# Вспомогательный класс для K-Fold Target Encoding с сглаживанием и минимальным порогом\n",
        "class TargetEncoder:\n",
        "    # !!! Итерация 3: Уменьшили smoothing по умолчанию и добавили min_count !!!\n",
        "    def __init__(self, cols, smoothing=5.0, min_count=10):\n",
        "        self.cols = cols\n",
        "        self.smoothing = smoothing\n",
        "        self.min_count = min_count # Категории с количеством меньше min_count получат глобальное среднее\n",
        "        self.global_mean = None\n",
        "        self.maps = {}\n",
        "\n",
        "    def fit(self, X, y):\n",
        "        X = X.astype(str)\n",
        "        self.global_mean = y.mean()\n",
        "        for col in self.cols:\n",
        "            if col in X.columns:\n",
        "                stats = y.groupby(X[col]).agg(['mean', 'count'])\n",
        "\n",
        "                # !!! Фильтр: игнорируем редкие категории\n",
        "                stats = stats[stats['count'] >= self.min_count]\n",
        "\n",
        "                # Расчет сглаженного среднего\n",
        "                smooth = (stats['count'] * stats['mean'] + self.smoothing * self.global_mean) / (stats['count'] + self.smoothing)\n",
        "                self.maps[col] = smooth\n",
        "\n",
        "    def transform(self, X):\n",
        "        X = X.astype(str)\n",
        "        X_encoded = pd.DataFrame(index=X.index)\n",
        "        for col in self.cols:\n",
        "            if col in X.columns and col in self.maps:\n",
        "                # Применяем маппинг. Новые или редкие (отфильтрованные) категории заполняем глобальным средним.\n",
        "                X_encoded[f'{col}_TE'] = X[col].map(self.maps[col]).fillna(self.global_mean)\n",
        "        return X_encoded\n",
        "\n",
        "print(\"Класс TargetEncoder обновлен (с smoothing и min_count).\")"
      ]
    },
    {
      "cell_type": "markdown",
      "id": "e9c4206a",
      "metadata": {
        "id": "e9c4206a"
      },
      "source": [
        "## 4. EDA (Разведочный анализ данных)\n",
        "\n",
        "### 4.1. Анализ целевой переменной\n",
        "\n",
        "Оценим баланс классов."
      ]
    },
    {
      "cell_type": "code",
      "execution_count": 14,
      "id": "c6a3e307",
      "metadata": {
        "colab": {
          "base_uri": "https://localhost:8080/",
          "height": 506
        },
        "id": "c6a3e307",
        "outputId": "2690aa9d-cad0-4256-ff89-3266a176442b"
      },
      "outputs": [
        {
          "output_type": "display_data",
          "data": {
            "text/plain": [
              "<Figure size 600x400 with 1 Axes>"
            ],
            "image/png": "[encoded data removed]"
          },
          "metadata": {}
        },
        {
          "output_type": "stream",
          "name": "stdout",
          "text": [
            "Распределение классов (%):\n",
            "итоговый_статус_займа\n",
            "0   80.03814\n",
            "1   19.96186\n",
            "Name: proportion, dtype: float64\n"
          ]
        }
      ],
      "source": [
        "plt.figure(figsize=(6, 4))\n",
        "sns.countplot(x=TARGET_NAME, data=train_df)\n",
        "plt.title('Распределение целевой переменной')\n",
        "plt.show()\n",
        "\n",
        "print(\"Распределение классов (%):\")\n",
        "print(train_df[TARGET_NAME].value_counts(normalize=True) * 100)"
      ]
    },
    {
      "cell_type": "markdown",
      "id": "80ad1ec4",
      "metadata": {
        "id": "80ad1ec4"
      },
      "source": [
        "### 4.2. Анализ пропущенных значений\n",
        "\n",
        "Определим, какие признаки содержат много пропусков. Это влияет на  заполнения  или удаления признаков."
      ]
    },
    {
      "cell_type": "code",
      "execution_count": 15,
      "id": "0600bcb9",
      "metadata": {
        "id": "0600bcb9",
        "colab": {
          "base_uri": "https://localhost:8080/",
          "height": 694
        },
        "outputId": "7d325bee-56aa-4092-9c48-07227f1c8133"
      },
      "outputs": [
        {
          "output_type": "stream",
          "name": "stdout",
          "text": [
            "Топ-20 признаков с пропусками в Train:\n"
          ]
        },
        {
          "output_type": "display_data",
          "data": {
            "text/plain": [
              "                                                    Кол-во пропусков  \\\n",
              "дата_следующей_выплаты                                       1210779   \n",
              "кредитный_баланс_по_возоб_счетам                             1193971   \n",
              "совокупный_статус_подтверждения_доходов_заемщиков            1187729   \n",
              "совокупный_пдн_заемщиков                                     1187548   \n",
              "совокупный_доход_заемщиков                                   1187546   \n",
              "кол-во_месяцев_с_последнего_займа                            1005117   \n",
              "кол-во_мес_с_последней_задолженности_по_карте                 923517   \n",
              "кол-во_месяцев_с_последнего_нарушения                         892120   \n",
              "кол-во_мес_с_последней_задолженности_по_возобно...            805599   \n",
              "соотношение_сумм_текущего_баланса_к_лимиту_по_а...            792391   \n",
              "кол-во_месяцев_с_посл_аннуитетного_счета                      739709   \n",
              "соотношение_баланса_к_лимиту_общее                            726952   \n",
              "кол-во_открытых_счетов_за_полгода                             726902   \n",
              "кол-во_заявок_на_кредит_за_год                                726902   \n",
              "кол-во_финансовых_операций                                    726902   \n",
              "кол-во_финансовых_запросов                                    726901   \n",
              "текущий_баланс_по_аннуитетным_счетам                          726901   \n",
              "кол-во_возоб_счетов_за_2_года                                 726901   \n",
              "макс_баланс_по_возоб_счетам                                   726901   \n",
              "кол-во_возоб_счетов_за_год                                    726901   \n",
              "\n",
              "                                                    % от общего числа  \n",
              "дата_следующей_выплаты                                      100.00000  \n",
              "кредитный_баланс_по_возоб_счетам                             98.60000  \n",
              "совокупный_статус_подтверждения_доходов_заемщиков            98.10000  \n",
              "совокупный_пдн_заемщиков                                     98.10000  \n",
              "совокупный_доход_заемщиков                                   98.10000  \n",
              "кол-во_месяцев_с_последнего_займа                            83.00000  \n",
              "кол-во_мес_с_последней_задолженности_по_карте                76.30000  \n",
              "кол-во_месяцев_с_последнего_нарушения                        73.70000  \n",
              "кол-во_мес_с_последней_задолженности_по_возобно...           66.50000  \n",
              "соотношение_сумм_текущего_баланса_к_лимиту_по_а...           65.40000  \n",
              "кол-во_месяцев_с_посл_аннуитетного_счета                     61.10000  \n",
              "соотношение_баланса_к_лимиту_общее                           60.00000  \n",
              "кол-во_открытых_счетов_за_полгода                            60.00000  \n",
              "кол-во_заявок_на_кредит_за_год                               60.00000  \n",
              "кол-во_финансовых_операций                                   60.00000  \n",
              "кол-во_финансовых_запросов                                   60.00000  \n",
              "текущий_баланс_по_аннуитетным_счетам                         60.00000  \n",
              "кол-во_возоб_счетов_за_2_года                                60.00000  \n",
              "макс_баланс_по_возоб_счетам                                  60.00000  \n",
              "кол-во_возоб_счетов_за_год                                   60.00000  "
            ],
            "text/html": [
              "\n",
              "  <div id=\"df-bae36f1f-e10a-4f12-890e-44514e5ac2bf\" class=\"colab-df-container\">\n",
              "    <div>\n",
              "<style scoped>\n",
              "    .dataframe tbody tr th:only-of-type {\n",
              "        vertical-align: middle;\n",
              "    }\n",
              "\n",
              "    .dataframe tbody tr th {\n",
              "        vertical-align: top;\n",
              "    }\n",
              "\n",
              "    .dataframe thead th {\n",
              "        text-align: right;\n",
              "    }\n",
              "</style>\n",
              "<table border=\"1\" class=\"dataframe\">\n",
              "  <thead>\n",
              "    <tr style=\"text-align: right;\">\n",
              "      <th></th>\n",
              "      <th>Кол-во пропусков</th>\n",
              "      <th>% от общего числа</th>\n",
              "    </tr>\n",
              "  </thead>\n",
              "  <tbody>\n",
              "    <tr>\n",
              "      <th>дата_следующей_выплаты</th>\n",
              "      <td>1210779</td>\n",
              "      <td>100.00000</td>\n",
              "    </tr>\n",
              "    <tr>\n",
              "      <th>кредитный_баланс_по_возоб_счетам</th>\n",
              "      <td>1193971</td>\n",
              "      <td>98.60000</td>\n",
              "    </tr>\n",
              "    <tr>\n",
              "      <th>совокупный_статус_подтверждения_доходов_заемщиков</th>\n",
              "      <td>1187729</td>\n",
              "      <td>98.10000</td>\n",
              "    </tr>\n",
              "    <tr>\n",
              "      <th>совокупный_пдн_заемщиков</th>\n",
              "      <td>1187548</td>\n",
              "      <td>98.10000</td>\n",
              "    </tr>\n",
              "    <tr>\n",
              "      <th>совокупный_доход_заемщиков</th>\n",
              "      <td>1187546</td>\n",
              "      <td>98.10000</td>\n",
              "    </tr>\n",
              "    <tr>\n",
              "      <th>кол-во_месяцев_с_последнего_займа</th>\n",
              "      <td>1005117</td>\n",
              "      <td>83.00000</td>\n",
              "    </tr>\n",
              "    <tr>\n",
              "      <th>кол-во_мес_с_последней_задолженности_по_карте</th>\n",
              "      <td>923517</td>\n",
              "      <td>76.30000</td>\n",
              "    </tr>\n",
              "    <tr>\n",
              "      <th>кол-во_месяцев_с_последнего_нарушения</th>\n",
              "      <td>892120</td>\n",
              "      <td>73.70000</td>\n",
              "    </tr>\n",
              "    <tr>\n",
              "      <th>кол-во_мес_с_последней_задолженности_по_возобновляемому_счету</th>\n",
              "      <td>805599</td>\n",
              "      <td>66.50000</td>\n",
              "    </tr>\n",
              "    <tr>\n",
              "      <th>соотношение_сумм_текущего_баланса_к_лимиту_по_аннуитетным_счетам</th>\n",
              "      <td>792391</td>\n",
              "      <td>65.40000</td>\n",
              "    </tr>\n",
              "    <tr>\n",
              "      <th>кол-во_месяцев_с_посл_аннуитетного_счета</th>\n",
              "      <td>739709</td>\n",
              "      <td>61.10000</td>\n",
              "    </tr>\n",
              "    <tr>\n",
              "      <th>соотношение_баланса_к_лимиту_общее</th>\n",
              "      <td>726952</td>\n",
              "      <td>60.00000</td>\n",
              "    </tr>\n",
              "    <tr>\n",
              "      <th>кол-во_открытых_счетов_за_полгода</th>\n",
              "      <td>726902</td>\n",
              "      <td>60.00000</td>\n",
              "    </tr>\n",
              "    <tr>\n",
              "      <th>кол-во_заявок_на_кредит_за_год</th>\n",
              "      <td>726902</td>\n",
              "      <td>60.00000</td>\n",
              "    </tr>\n",
              "    <tr>\n",
              "      <th>кол-во_финансовых_операций</th>\n",
              "      <td>726902</td>\n",
              "      <td>60.00000</td>\n",
              "    </tr>\n",
              "    <tr>\n",
              "      <th>кол-во_финансовых_запросов</th>\n",
              "      <td>726901</td>\n",
              "      <td>60.00000</td>\n",
              "    </tr>\n",
              "    <tr>\n",
              "      <th>текущий_баланс_по_аннуитетным_счетам</th>\n",
              "      <td>726901</td>\n",
              "      <td>60.00000</td>\n",
              "    </tr>\n",
              "    <tr>\n",
              "      <th>кол-во_возоб_счетов_за_2_года</th>\n",
              "      <td>726901</td>\n",
              "      <td>60.00000</td>\n",
              "    </tr>\n",
              "    <tr>\n",
              "      <th>макс_баланс_по_возоб_счетам</th>\n",
              "      <td>726901</td>\n",
              "      <td>60.00000</td>\n",
              "    </tr>\n",
              "    <tr>\n",
              "      <th>кол-во_возоб_счетов_за_год</th>\n",
              "      <td>726901</td>\n",
              "      <td>60.00000</td>\n",
              "    </tr>\n",
              "  </tbody>\n",
              "</table>\n",
              "</div>\n",
              "    <div class=\"colab-df-buttons\">\n",
              "\n",
              "  <div class=\"colab-df-container\">\n",
              "    <button class=\"colab-df-convert\" onclick=\"convertToInteractive('df-bae36f1f-e10a-4f12-890e-44514e5ac2bf')\"\n",
              "            title=\"Convert this dataframe to an interactive table.\"\n",
              "            style=\"display:none;\">\n",
              "\n",
              "  <svg xmlns=\"http://www.w3.org/2000/svg\" height=\"24px\" viewBox=\"0 -960 960 960\">\n",
              "    <path d=\"M120-120v-720h720v720H120Zm60-500h600v-160H180v160Zm220 220h160v-160H400v160Zm0 220h160v-160H400v160ZM180-400h160v-160H180v160Zm440 0h160v-160H620v160ZM180-180h160v-160H180v160Zm440 0h160v-160H620v160Z\"/>\n",
              "  </svg>\n",
              "    </button>\n",
              "\n",
              "  <style>\n",
              "    .colab-df-container {\n",
              "      display:flex;\n",
              "      gap: 12px;\n",
              "    }\n",
              "\n",
              "    .colab-df-convert {\n",
              "      background-color: #E8F0FE;\n",
              "      border: none;\n",
              "      border-radius: 50%;\n",
              "      cursor: pointer;\n",
              "      display: none;\n",
              "      fill: #1967D2;\n",
              "      height: 32px;\n",
              "      padding: 0 0 0 0;\n",
              "      width: 32px;\n",
              "    }\n",
              "\n",
              "    .colab-df-convert:hover {\n",
              "      background-color: #E2EBFA;\n",
              "      box-shadow: 0px 1px 2px rgba(60, 64, 67, 0.3), 0px 1px 3px 1px rgba(60, 64, 67, 0.15);\n",
              "      fill: #174EA6;\n",
              "    }\n",
              "\n",
              "    .colab-df-buttons div {\n",
              "      margin-bottom: 4px;\n",
              "    }\n",
              "\n",
              "    [theme=dark] .colab-df-convert {\n",
              "      background-color: #3B4455;\n",
              "      fill: #D2E3FC;\n",
              "    }\n",
              "\n",
              "    [theme=dark] .colab-df-convert:hover {\n",
              "      background-color: #434B5C;\n",
              "      box-shadow: 0px 1px 3px 1px rgba(0, 0, 0, 0.15);\n",
              "      filter: drop-shadow(0px 1px 2px rgba(0, 0, 0, 0.3));\n",
              "      fill: #FFFFFF;\n",
              "    }\n",
              "  </style>\n",
              "\n",
              "    <script>\n",
              "      const buttonEl =\n",
              "        document.querySelector('#df-bae36f1f-e10a-4f12-890e-44514e5ac2bf button.colab-df-convert');\n",
              "      buttonEl.style.display =\n",
              "        google.colab.kernel.accessAllowed ? 'block' : 'none';\n",
              "\n",
              "      async function convertToInteractive(key) {\n",
              "        const element = document.querySelector('#df-bae36f1f-e10a-4f12-890e-44514e5ac2bf');\n",
              "        const dataTable =\n",
              "          await google.colab.kernel.invokeFunction('convertToInteractive',\n",
              "                                                    [key], {});\n",
              "        if (!dataTable) return;\n",
              "\n",
              "        const docLinkHtml = 'Like what you see? Visit the ' +\n",
              "          '<a target=\"_blank\" href=https://colab.research.google.com/notebooks/data_table.ipynb>data table notebook</a>'\n",
              "          + ' to learn more about interactive tables.';\n",
              "        element.innerHTML = '';\n",
              "        dataTable['output_type'] = 'display_data';\n",
              "        await google.colab.output.renderOutput(dataTable, element);\n",
              "        const docLink = document.createElement('div');\n",
              "        docLink.innerHTML = docLinkHtml;\n",
              "        element.appendChild(docLink);\n",
              "      }\n",
              "    </script>\n",
              "  </div>\n",
              "\n",
              "\n",
              "    <div id=\"df-d7597e13-dfe7-4ed9-bc03-3618b0840d60\">\n",
              "      <button class=\"colab-df-quickchart\" onclick=\"quickchart('df-d7597e13-dfe7-4ed9-bc03-3618b0840d60')\"\n",
              "                title=\"Suggest charts\"\n",
              "                style=\"display:none;\">\n",
              "\n",
              "<svg xmlns=\"http://www.w3.org/2000/svg\" height=\"24px\"viewBox=\"0 0 24 24\"\n",
              "     width=\"24px\">\n",
              "    <g>\n",
              "        <path d=\"M19 3H5c-1.1 0-2 .9-2 2v14c0 1.1.9 2 2 2h14c1.1 0 2-.9 2-2V5c0-1.1-.9-2-2-2zM9 17H7v-7h2v7zm4 0h-2V7h2v10zm4 0h-2v-4h2v4z\"/>\n",
              "    </g>\n",
              "</svg>\n",
              "      </button>\n",
              "\n",
              "<style>\n",
              "  .colab-df-quickchart {\n",
              "      --bg-color: #E8F0FE;\n",
              "      --fill-color: #1967D2;\n",
              "      --hover-bg-color: #E2EBFA;\n",
              "      --hover-fill-color: #174EA6;\n",
              "      --disabled-fill-color: #AAA;\n",
              "      --disabled-bg-color: #DDD;\n",
              "  }\n",
              "\n",
              "  [theme=dark] .colab-df-quickchart {\n",
              "      --bg-color: #3B4455;\n",
              "      --fill-color: #D2E3FC;\n",
              "      --hover-bg-color: #434B5C;\n",
              "      --hover-fill-color: #FFFFFF;\n",
              "      --disabled-bg-color: #3B4455;\n",
              "      --disabled-fill-color: #666;\n",
              "  }\n",
              "\n",
              "  .colab-df-quickchart {\n",
              "    background-color: var(--bg-color);\n",
              "    border: none;\n",
              "    border-radius: 50%;\n",
              "    cursor: pointer;\n",
              "    display: none;\n",
              "    fill: var(--fill-color);\n",
              "    height: 32px;\n",
              "    padding: 0;\n",
              "    width: 32px;\n",
              "  }\n",
              "\n",
              "  .colab-df-quickchart:hover {\n",
              "    background-color: var(--hover-bg-color);\n",
              "    box-shadow: 0 1px 2px rgba(60, 64, 67, 0.3), 0 1px 3px 1px rgba(60, 64, 67, 0.15);\n",
              "    fill: var(--button-hover-fill-color);\n",
              "  }\n",
              "\n",
              "  .colab-df-quickchart-complete:disabled,\n",
              "  .colab-df-quickchart-complete:disabled:hover {\n",
              "    background-color: var(--disabled-bg-color);\n",
              "    fill: var(--disabled-fill-color);\n",
              "    box-shadow: none;\n",
              "  }\n",
              "\n",
              "  .colab-df-spinner {\n",
              "    border: 2px solid var(--fill-color);\n",
              "    border-color: transparent;\n",
              "    border-bottom-color: var(--fill-color);\n",
              "    animation:\n",
              "      spin 1s steps(1) infinite;\n",
              "  }\n",
              "\n",
              "  @keyframes spin {\n",
              "    0% {\n",
              "      border-color: transparent;\n",
              "      border-bottom-color: var(--fill-color);\n",
              "      border-left-color: var(--fill-color);\n",
              "    }\n",
              "    20% {\n",
              "      border-color: transparent;\n",
              "      border-left-color: var(--fill-color);\n",
              "      border-top-color: var(--fill-color);\n",
              "    }\n",
              "    30% {\n",
              "      border-color: transparent;\n",
              "      border-left-color: var(--fill-color);\n",
              "      border-top-color: var(--fill-color);\n",
              "      border-right-color: var(--fill-color);\n",
              "    }\n",
              "    40% {\n",
              "      border-color: transparent;\n",
              "      border-right-color: var(--fill-color);\n",
              "      border-top-color: var(--fill-color);\n",
              "    }\n",
              "    60% {\n",
              "      border-color: transparent;\n",
              "      border-right-color: var(--fill-color);\n",
              "    }\n",
              "    80% {\n",
              "      border-color: transparent;\n",
              "      border-right-color: var(--fill-color);\n",
              "      border-bottom-color: var(--fill-color);\n",
              "    }\n",
              "    90% {\n",
              "      border-color: transparent;\n",
              "      border-bottom-color: var(--fill-color);\n",
              "    }\n",
              "  }\n",
              "</style>\n",
              "\n",
              "      <script>\n",
              "        async function quickchart(key) {\n",
              "          const quickchartButtonEl =\n",
              "            document.querySelector('#' + key + ' button');\n",
              "          quickchartButtonEl.disabled = true;  // To prevent multiple clicks.\n",
              "          quickchartButtonEl.classList.add('colab-df-spinner');\n",
              "          try {\n",
              "            const charts = await google.colab.kernel.invokeFunction(\n",
              "                'suggestCharts', [key], {});\n",
              "          } catch (error) {\n",
              "            console.error('Error during call to suggestCharts:', error);\n",
              "          }\n",
              "          quickchartButtonEl.classList.remove('colab-df-spinner');\n",
              "          quickchartButtonEl.classList.add('colab-df-quickchart-complete');\n",
              "        }\n",
              "        (() => {\n",
              "          let quickchartButtonEl =\n",
              "            document.querySelector('#df-d7597e13-dfe7-4ed9-bc03-3618b0840d60 button');\n",
              "          quickchartButtonEl.style.display =\n",
              "            google.colab.kernel.accessAllowed ? 'block' : 'none';\n",
              "        })();\n",
              "      </script>\n",
              "    </div>\n",
              "\n",
              "    </div>\n",
              "  </div>\n"
            ],
            "application/vnd.google.colaboratory.intrinsic+json": {
              "type": "dataframe",
              "summary": "{\n  \"name\": \"display(missing_stats\",\n  \"rows\": 20,\n  \"fields\": [\n    {\n      \"column\": \"\\u041a\\u043e\\u043b-\\u0432\\u043e \\u043f\\u0440\\u043e\\u043f\\u0443\\u0441\\u043a\\u043e\\u0432\",\n      \"properties\": {\n        \"dtype\": \"number\",\n        \"std\": 199096,\n        \"min\": 726901,\n        \"max\": 1210779,\n        \"num_unique_values\": 14,\n        \"samples\": [\n          792391,\n          726952,\n          1210779\n        ],\n        \"semantic_type\": \"\",\n        \"description\": \"\"\n      }\n    },\n    {\n      \"column\": \"% \\u043e\\u0442 \\u043e\\u0431\\u0449\\u0435\\u0433\\u043e \\u0447\\u0438\\u0441\\u043b\\u0430\",\n      \"properties\": {\n        \"dtype\": \"number\",\n        \"std\": 16.461005756827735,\n        \"min\": 60.0,\n        \"max\": 100.0,\n        \"num_unique_values\": 10,\n        \"samples\": [\n          61.1,\n          98.6,\n          73.7\n        ],\n        \"semantic_type\": \"\",\n        \"description\": \"\"\n      }\n    }\n  ]\n}"
            }
          },
          "metadata": {}
        }
      ],
      "source": [
        "def missing_values_table(df):\n",
        "    mis_val = df.isnull().sum()\n",
        "    mis_val_percent = 100 * df.isnull().sum() / len(df)\n",
        "    mis_val_table = pd.concat([mis_val, mis_val_percent], axis=1)\n",
        "    mis_val_table_ren_columns = mis_val_table.rename(\n",
        "    columns = {0 : 'Кол-во пропусков', 1 : '% от общего числа'})\n",
        "    # Сортировка по убыванию процента пропусков\n",
        "    mis_val_table_ren_columns = mis_val_table_ren_columns[\n",
        "        mis_val_table_ren_columns.iloc[:,1] != 0].sort_values(\n",
        "    '% от общего числа', ascending=False).round(1)\n",
        "    return mis_val_table_ren_columns\n",
        "\n",
        "print(\"Топ-20 признаков с пропусками в Train:\")\n",
        "missing_stats = missing_values_table(train_df)\n",
        "display(missing_stats.head(20))"
      ]
    },
    {
      "cell_type": "markdown",
      "id": "ee61b786",
      "metadata": {
        "id": "ee61b786"
      },
      "source": [
        "### 4.2.1. Удаление признаков с высокой долей пропусков и потенциальных утечек\n",
        "\n",
        "На основе анализа пропусков, мы удалим признаки, заполненные менее чем на 5%.\n",
        "\n",
        "Также, признак `пени_за_дефолт` показал аномально высокую важность. Это сильный индикатор **утечки данных (Data Leak)**. Мы обязаны его удалить для построения корректной модели."
      ]
    },
    {
      "cell_type": "code",
      "execution_count": 16,
      "id": "73d02618",
      "metadata": {
        "id": "73d02618",
        "colab": {
          "base_uri": "https://localhost:8080/"
        },
        "outputId": "6ca6d1d6-ade5-4f75-b0e3-9ada7207a752"
      },
      "outputs": [
        {
          "output_type": "stream",
          "name": "stdout",
          "text": [
            "Количество признаков для удаления (>95% пропусков): 5\n",
            "Удаляем потенциальные утечки: ['пени_за_дефолт']\n"
          ]
        }
      ],
      "source": [
        "# 1. Определение признаков с слишком большим количеством пропусков\n",
        "MISSING_THRESHOLD = 95 # Удаляем все, что выше 95%\n",
        "# Используем статистику missing_stats, рассчитанную ранее в Ячейке 10\n",
        "cols_to_drop_missing = missing_stats[missing_stats['% от общего числа'] > MISSING_THRESHOLD].index.tolist()\n",
        "print(f\"Количество признаков для удаления (>{MISSING_THRESHOLD}% пропусков): {len(cols_to_drop_missing)}\")\n",
        "\n",
        "# 2. Определение потенциальных утечек\n",
        "cols_to_drop_leaks = ['пени_за_дефолт']\n",
        "print(f\"Удаляем потенциальные утечки: {cols_to_drop_leaks}\")\n",
        "\n",
        "# Финальный список на удаление\n",
        "COLS_TO_DROP = list(set(cols_to_drop_missing + cols_to_drop_leaks))\n",
        "\n",
        "# Функция для удаления этих признаков (будет применена позже при объединении)\n",
        "def drop_useless_features(df, cols_to_drop):\n",
        "    # Убедимся, что колонки существуют перед удалением (игнорируем таргет, если он попал в список)\n",
        "    # TARGET_NAME может не быть определен, если вы запускаете ячейки не по порядку, но мы его защитим.\n",
        "    target_name = globals().get('TARGET_NAME', 'default_target_name')\n",
        "\n",
        "    cols_exist = [col for col in cols_to_drop if col in df.columns and col != target_name]\n",
        "    df = df.drop(columns=cols_exist)\n",
        "    return df"
      ]
    },
    {
      "cell_type": "markdown",
      "id": "32d0fbcc",
      "metadata": {
        "id": "32d0fbcc"
      },
      "source": [
        "### 4.3. Анализ типов признаков и Кардинальности\n",
        "\n",
        "Разделим признаки на числовые и категориальные и оценим количество уникальных значений  в категориальных."
      ]
    },
    {
      "cell_type": "code",
      "execution_count": 17,
      "id": "7e04cd65",
      "metadata": {
        "id": "7e04cd65",
        "colab": {
          "base_uri": "https://localhost:8080/",
          "height": 624
        },
        "outputId": "318715ad-d4a1-4ac8-8df4-d14602999906"
      },
      "outputs": [
        {
          "output_type": "stream",
          "name": "stdout",
          "text": [
            "Числовые признаки: 88\n",
            "Категориальные признаки: 19\n",
            "\n",
            "Кардинальность категориальных признаков (Топ-15):\n"
          ]
        },
        {
          "output_type": "display_data",
          "data": {
            "text/plain": [
              "профессия_заемщика                                   273666\n",
              "дата_первого_займа                                      738\n",
              "регион                                                   51\n",
              "допрейтинг                                               35\n",
              "цель_займа                                               14\n",
              "стаж                                                     11\n",
              "рейтинг                                                   7\n",
              "владение_жильем                                           6\n",
              "совокупный_статус_подтверждения_доходов_заемщиков         3\n",
              "пос_стоп_фактор                                           3\n",
              "подтвержден_ли_доход                                      3\n",
              "срок_займа                                                2\n",
              "пени_за_дефолт                                            2\n",
              "первоначальный_статус_займа                               2\n",
              "юридический_статус                                        2\n",
              "dtype: int64"
            ],
            "text/html": [
              "<div>\n",
              "<style scoped>\n",
              "    .dataframe tbody tr th:only-of-type {\n",
              "        vertical-align: middle;\n",
              "    }\n",
              "\n",
              "    .dataframe tbody tr th {\n",
              "        vertical-align: top;\n",
              "    }\n",
              "\n",
              "    .dataframe thead th {\n",
              "        text-align: right;\n",
              "    }\n",
              "</style>\n",
              "<table border=\"1\" class=\"dataframe\">\n",
              "  <thead>\n",
              "    <tr style=\"text-align: right;\">\n",
              "      <th></th>\n",
              "      <th>0</th>\n",
              "    </tr>\n",
              "  </thead>\n",
              "  <tbody>\n",
              "    <tr>\n",
              "      <th>профессия_заемщика</th>\n",
              "      <td>273666</td>\n",
              "    </tr>\n",
              "    <tr>\n",
              "      <th>дата_первого_займа</th>\n",
              "      <td>738</td>\n",
              "    </tr>\n",
              "    <tr>\n",
              "      <th>регион</th>\n",
              "      <td>51</td>\n",
              "    </tr>\n",
              "    <tr>\n",
              "      <th>допрейтинг</th>\n",
              "      <td>35</td>\n",
              "    </tr>\n",
              "    <tr>\n",
              "      <th>цель_займа</th>\n",
              "      <td>14</td>\n",
              "    </tr>\n",
              "    <tr>\n",
              "      <th>стаж</th>\n",
              "      <td>11</td>\n",
              "    </tr>\n",
              "    <tr>\n",
              "      <th>рейтинг</th>\n",
              "      <td>7</td>\n",
              "    </tr>\n",
              "    <tr>\n",
              "      <th>владение_жильем</th>\n",
              "      <td>6</td>\n",
              "    </tr>\n",
              "    <tr>\n",
              "      <th>совокупный_статус_подтверждения_доходов_заемщиков</th>\n",
              "      <td>3</td>\n",
              "    </tr>\n",
              "    <tr>\n",
              "      <th>пос_стоп_фактор</th>\n",
              "      <td>3</td>\n",
              "    </tr>\n",
              "    <tr>\n",
              "      <th>подтвержден_ли_доход</th>\n",
              "      <td>3</td>\n",
              "    </tr>\n",
              "    <tr>\n",
              "      <th>срок_займа</th>\n",
              "      <td>2</td>\n",
              "    </tr>\n",
              "    <tr>\n",
              "      <th>пени_за_дефолт</th>\n",
              "      <td>2</td>\n",
              "    </tr>\n",
              "    <tr>\n",
              "      <th>первоначальный_статус_займа</th>\n",
              "      <td>2</td>\n",
              "    </tr>\n",
              "    <tr>\n",
              "      <th>юридический_статус</th>\n",
              "      <td>2</td>\n",
              "    </tr>\n",
              "  </tbody>\n",
              "</table>\n",
              "</div><br><label><b>dtype:</b> int64</label>"
            ]
          },
          "metadata": {}
        }
      ],
      "source": [
        "features = [col for col in train_df.columns if col not in [ID_COLUMN, TARGET_NAME]]\n",
        "categorical_features = train_df[features].select_dtypes(include=['object', 'category']).columns\n",
        "numerical_features = train_df[features].select_dtypes(include=np.number).columns\n",
        "\n",
        "print(f\"Числовые признаки: {len(numerical_features)}\")\n",
        "print(f\"Категориальные признаки: {len(categorical_features)}\")\n",
        "\n",
        "print(\"\\nКардинальность категориальных признаков (Топ-15):\")\n",
        "cardinality = train_df[categorical_features].nunique().sort_values(ascending=False)\n",
        "display(cardinality.head(15))"
      ]
    },
    {
      "cell_type": "markdown",
      "id": "2ad5ab6f",
      "metadata": {
        "id": "2ad5ab6f"
      },
      "source": [
        "## 5. Feature Engineering и Предобработка\n",
        "\n",
        "Это ключевой этап для достижения высокого скора. Мы объединим train и test для консистентной обработки признаков, что предотвращает утечки данных и гарантирует наличие одинаковых колонок в обеих выборках."
      ]
    },
    {
      "cell_type": "code",
      "execution_count": 18,
      "id": "81491376",
      "metadata": {
        "id": "81491376",
        "colab": {
          "base_uri": "https://localhost:8080/"
        },
        "outputId": "7ff5edc0-8690-4cb2-c074-ce92c120d1e9"
      },
      "outputs": [
        {
          "output_type": "stream",
          "name": "stdout",
          "text": [
            "Объединенный размер данных до FE и очистки: (1345310, 108)\n",
            "Размер после удаления бесполезных признаков и утечек: (1345310, 102)\n"
          ]
        },
        {
          "output_type": "execute_result",
          "data": {
            "text/plain": [
              "222"
            ]
          },
          "metadata": {},
          "execution_count": 18
        }
      ],
      "source": [
        "# Сохраняем ID и таргет\n",
        "train_ids = train_df[ID_COLUMN]\n",
        "test_ids = test_df[ID_COLUMN]\n",
        "train_target = train_df[TARGET_NAME]\n",
        "\n",
        "# Удаляем ID и Target перед объединением\n",
        "train_df_processed = train_df.drop(columns=[ID_COLUMN, TARGET_NAME])\n",
        "# Используем errors='ignore' на случай, если в тестовом файле нет колонки ID (хотя она должна быть)\n",
        "test_df_processed = test_df.drop(columns=[ID_COLUMN], errors='ignore')\n",
        "\n",
        "# Добавляем метку для последующего разделения\n",
        "train_df_processed['is_train'] = 1\n",
        "test_df_processed['is_train'] = 0\n",
        "\n",
        "# Объединяем\n",
        "df = pd.concat([train_df_processed, test_df_processed], ignore_index=True)\n",
        "\n",
        "print(f\"Объединенный размер данных до FE и очистки: {df.shape}\")\n",
        "\n",
        "# !!! НОВОЕ: Применяем удаление бесполезных признаков и утечек !!!\n",
        "df = drop_useless_features(df, COLS_TO_DROP)\n",
        "print(f\"Размер после удаления бесполезных признаков и утечек: {df.shape}\")\n",
        "\n",
        "# Очистка памяти от исходных датафреймов\n",
        "del train_df, test_df, train_df_processed, test_df_processed\n",
        "gc.collect()"
      ]
    },
    {
      "cell_type": "markdown",
      "id": "989ad9a0",
      "metadata": {
        "id": "989ad9a0"
      },
      "source": [
        "### 5.1. Очистка и Преобразование признаков\n",
        "\n",
        "Напишем функцию для обработки \"сырых\" данных. Это обеспечивает структурированность и воспроизводимость кода. Мы фокусируемся на обработке дат, стажа, сроков и информативных пропусков."
      ]
    },
    {
      "cell_type": "code",
      "execution_count": 19,
      "id": "03fa21ec",
      "metadata": {
        "id": "03fa21ec",
        "colab": {
          "base_uri": "https://localhost:8080/"
        },
        "outputId": "0b12c3fd-5b90-40ed-db2d-216933b69998"
      },
      "outputs": [
        {
          "output_type": "stream",
          "name": "stdout",
          "text": [
            "Начало очистки признаков...\n",
            "  Обработан 'коэфф_невыплаченного_сумм_остатка'.\n",
            "Creating NaN flags for 4 columns (>70% missing)...\n",
            "Found 3 delinquency recency columns (Regex).\n",
            "Очистка признаков завершена.\n"
          ]
        }
      ],
      "source": [
        "def clean_features(df):\n",
        "    print(\"Начало очистки признаков...\")\n",
        "     # !!! Итерация 5: Обработка подозрительных констант (На основе анализа сэмпла) !!!\n",
        "    # 'коэфф_невыплаченного_сумм_остатка' имеет постоянное значение ~1345311.5.\n",
        "    # Заменяем значения, близкие к этому, на NaN.\n",
        "    if 'коэфф_невыплаченного_сумм_остатка' in df.columns:\n",
        "        # Убедимся, что колонка числовая\n",
        "        if np.issubdtype(df['коэфф_невыплаченного_сумм_остатка'].dtype, np.number):\n",
        "            suspicious_value = 1345311.5\n",
        "            tolerance = 1.0 # Допуск для сравнения чисел с плавающей точкой\n",
        "            # Используем .mask() для замены значений в пределах допуска на NaN\n",
        "            df['коэфф_невыплаченного_сумм_остатка'] = df['коэфф_невыплаченного_сумм_остатка'].mask(\n",
        "                (df['коэфф_невыплаченного_сумм_остатка'] >= suspicious_value - tolerance) &\n",
        "                (df['коэфф_невыплаченного_сумм_остатка'] <= suspicious_value + tolerance),\n",
        "                np.nan\n",
        "            )\n",
        "            print(\"  Обработан 'коэфф_невыплаченного_сумм_остатка'.\")\n",
        "    # !!! Iteration 4 (Checklist #5): Add NaN flags for columns with >70% missing values\n",
        "    # Do this at the beginning, before filling missing values.\n",
        "    NAN_FLAG_THRESHOLD = 0.7\n",
        "    # Calculate missing value ratios\n",
        "    missing_ratios = df.isna().mean()\n",
        "    hi_missing_cols = missing_ratios[missing_ratios > NAN_FLAG_THRESHOLD].index\n",
        "\n",
        "    print(f\"Creating NaN flags for {len(hi_missing_cols)} columns (>{NAN_FLAG_THRESHOLD*100:.0f}% missing)...\")\n",
        "    for c in hi_missing_cols:\n",
        "        # Protect against creating flags for system columns (e.g., 'is_train')\n",
        "        if c in df.columns and c != 'is_train':\n",
        "            df[f'{c}_isnan'] = df[c].isna().astype(int)\n",
        "\n",
        "    # 1. Process 'стаж'\n",
        "    if 'стаж' in df.columns:\n",
        "        df['стаж_лет'] = df['стаж'].replace({'< 1 года': 0, '10+ лет': 10})\n",
        "        # Check if already numeric after step 1\n",
        "        if pd.api.types.is_object_dtype(df['стаж_лет']):\n",
        "            df['стаж_лет'] = df['стаж_лет'].str.extract('(\\d+)').astype(float)\n",
        "        else:\n",
        "            df['стаж_лет'] = df['стаж_лет'].astype(float)\n",
        "        df['стаж_пропущен'] = df['стаж_лет'].isnull().astype(int)\n",
        "\n",
        "    # 2. Process 'срок_займа' (Iteration 4: Checklist #2 fix)\n",
        "    if 'срок_займа' in df.columns:\n",
        "        raw = df['срок_займа'].astype(str)\n",
        "        val = raw.str.extract('(\\d+)').astype(float).iloc[:, 0]\n",
        "        is_months = raw.str.contains('ме', case=False, na=False)\n",
        "        df['срок_займа_мес'] = np.where(is_months, val, val * 12)\n",
        "\n",
        "    # 3. Process dates ('дата_первого_займа')\n",
        "    if 'дата_первого_займа' in df.columns:\n",
        "        try:\n",
        "            df['дата_первого_займа_dt'] = pd.to_datetime(df['дата_первого_займа'], format='%m-%Y', errors='coerce')\n",
        "        except Exception:\n",
        "            df['дата_первого_займа_dt'] = pd.to_datetime(df['дата_первого_займа'], errors='coerce')\n",
        "        if 'дата_первого_займа_dt' in df.columns:\n",
        "            df['давность_первого_займа_мес'] = (\n",
        "                (REFERENCE_DATE.year - df['дата_первого_займа_dt'].dt.year) * 12 +\n",
        "                (REFERENCE_DATE.month - df['дата_первого_займа_dt'].dt.month)\n",
        "            )\n",
        "            df = df.drop('дата_первого_займа_dt', axis=1)\n",
        "\n",
        "    # 4. Process missing values in delinquency history (Iteration 4: Checklist #3)\n",
        "    # Use regex to find all columns related to delinquency/violation recency\n",
        "    regex_pattern = r'последн.*(просрочк|нарушен)'\n",
        "    cols_delinquency = [col for col in df.columns if re.search(regex_pattern, col, re.IGNORECASE)]\n",
        "    print(f\"Found {len(cols_delinquency)} delinquency recency columns (Regex).\")\n",
        "    for col in cols_delinquency:\n",
        "        # Create binary event indicator\n",
        "        df[f'{col}_флаг_события'] = df[col].notna().astype(int)\n",
        "        # Fill missing with large value (9999)\n",
        "        df[col] = df[col].fillna(9999)\n",
        "\n",
        "    # 5. Process ratings (same as Iteration 3)\n",
        "    grade_map = {'А': 7, 'Б': 6, 'В': 5, 'Г': 4, 'Д': 3, 'Е': 2, 'Ж': 1}\n",
        "    if 'рейтинг' in df.columns:\n",
        "        df['рейтинг_числовой'] = df['рейтинг'].map(grade_map)\n",
        "\n",
        "    # Simplified encoding for 'допрейтинг' (same as Iteration 3)\n",
        "    if 'допрейтинг' in df.columns:\n",
        "        df['допрейтинг_temp'] = df['допрейтинг'].astype(str).fillna('MISSING')\n",
        "        df['допрейтинг_буква_ordinal'] = df['допрейтинг_temp'].str[0].map(grade_map).fillna(0)\n",
        "        df['допрейтинг_цифра_numeric'] = pd.to_numeric(df['допрейтинг_temp'].str[1:], errors='coerce').fillna(0)\n",
        "        df['допрейтинг_цифра_log'] = np.log1p(df['допрейтинг_цифра_numeric'])\n",
        "        df = df.drop(columns=['допрейтинг_temp'], errors='ignore')\n",
        "\n",
        "    # Remove original columns that were transformed\n",
        "    cols_to_drop = ['стаж', 'срок_займа', 'дата_первого_займа']\n",
        "    df = df.drop(columns=[col for col in cols_to_drop if col in df.columns])\n",
        "\n",
        "    print(\"Очистка признаков завершена.\")\n",
        "    return df\n",
        "\n",
        "df = clean_features(df)"
      ]
    },
    {
      "cell_type": "markdown",
      "id": "b11cb09c",
      "metadata": {
        "id": "b11cb09c"
      },
      "source": [
        "### 5.2. Генерация Новых Признаков (Feature Engineering)\n",
        "\n",
        "Используем знания предметной области (кредитный скоринг) для создания новых, более сильных предикторов. Отношения между финансовыми показателями часто работают лучше, чем абсолютные значения."
      ]
    },
    {
      "cell_type": "code",
      "execution_count": 20,
      "id": "58dd68e6",
      "metadata": {
        "id": "58dd68e6",
        "colab": {
          "base_uri": "https://localhost:8080/"
        },
        "outputId": "960dad30-e36c-4d54-9733-cef40df19eec"
      },
      "outputs": [
        {
          "output_type": "stream",
          "name": "stdout",
          "text": [
            "Начало генерации признаков...\n",
            "Генерация признаков завершена.\n",
            "\n",
            "Размер данных после Feature Engineering: (1345310, 137)\n"
          ]
        }
      ],
      "source": [
        "def generate_features(df):\n",
        "    print(\"Начало генерации признаков...\")\n",
        "\n",
        "    # !!! Итерация 5: Эффективный Доход и ПДН (Учет совместных займов) !!!\n",
        "    # Если тип_займа == 'Совместный' И совокупный_доход не NaN, используем его, иначе - индивидуальный.\n",
        "\n",
        "    # 1. Эффективный Доход\n",
        "    # Создаем базовый фоллбэк\n",
        "    df['эффективный_годовой_доход'] = df.get('годовой_доход', np.nan)\n",
        "\n",
        "    if 'тип_займа' in df.columns and 'совокупный_доход_заемщиков' in df.columns and 'годовой_доход' in df.columns:\n",
        "        # Проверяем, что колонки существуют и являются числовыми\n",
        "        if np.issubdtype(df['совокупный_доход_заемщиков'].dtype, np.number) and np.issubdtype(df['годовой_доход'].dtype, np.number):\n",
        "            is_joint = (df['тип_займа'] == 'Совместный') & (df['совокупный_доход_заемщиков'].notna())\n",
        "            df['эффективный_годовой_доход'] = np.where(is_joint, df['совокупный_доход_заемщиков'], df['годовой_доход'])\n",
        "\n",
        "    # 2. Эффективный ПДН\n",
        "    df['эффективный_пдн'] = df.get('пдн', np.nan)\n",
        "\n",
        "    if 'тип_займа' in df.columns and 'совокупный_пдн_заемщиков' in df.columns and 'пдн' in df.columns:\n",
        "        if np.issubdtype(df['совокупный_пдн_заемщиков'].dtype, np.number) and np.issubdtype(df['пдн'].dtype, np.number):\n",
        "            is_joint = (df['тип_займа'] == 'Совместный') & (df['совокупный_пдн_заемщиков'].notna())\n",
        "            df['эффективный_пдн'] = np.where(is_joint, df['совокупный_пдн_заемщиков'], df['пдн'])\n",
        "\n",
        "\n",
        "    # --- Ключевые коэффициенты Долговой Нагрузки (!!! Обновлено: используем Эффективные признаки !!!) ---\n",
        "\n",
        "    df['PTI'] = (df['аннуитет'] * 12) / (df['эффективный_годовой_доход'] + 1e-6)\n",
        "    df['LTI'] = df['сумма_займа'] / (df['эффективный_годовой_доход'] + 1e-6)\n",
        "    df['аннуитет_к_займу'] = df['аннуитет'] / (df['сумма_займа'] + 1e-6)\n",
        "\n",
        "    if 'рейтинг_числовой' in df.columns:\n",
        "        df['ставка_к_рейтингу'] = df['процентная_ставка'] / (df['рейтинг_числовой'] + 1e-6)\n",
        "\n",
        "    # --- Взаимодействия (Обновляем те, что зависят от дохода/пдн) ---\n",
        "    if 'стаж_лет' in df.columns:\n",
        "        # !!! Обновлено: используем Эффективный Доход !!!\n",
        "        df['доход_к_стажу'] = df['эффективный_годовой_доход'] / (df['стаж_лет'].fillna(0) + 1)\n",
        "\n",
        "    if 'стаж_лет' in df.columns and 'давность_первого_займа_мес' in df.columns:\n",
        "         df['стаж_к_кредитной_истории'] = df['стаж_лет'] / (df['давность_первого_займа_мес'] / 12 + 1e-6)\n",
        "\n",
        "    # !!! Обновлено: используем Эффективный ПДН !!!\n",
        "    if 'эффективный_пдн' in df.columns:\n",
        "        # Удаляем старый признак, если он был создан по колонке 'пдн'\n",
        "        df = df.drop(columns=['пдн_х_ставка'], errors='ignore')\n",
        "        df['пдн_х_ставка'] = df['эффективный_пдн'] * df['процентная_ставка']\n",
        "\n",
        "    if 'допрейтинг_буква_ordinal' in df.columns:\n",
        "        df['допрейтинг_ordinal_х_ставка'] = df['допрейтинг_буква_ordinal'] * df['процентная_ставка']\n",
        "\n",
        "\n",
        "    # --- Временные взаимодействия и Плотность Активности (Остается как в Ит.4) ---\n",
        "    if 'давность_первого_займа_мес' in df.columns and 'срок_займа_мес' in df.columns:\n",
        "        df['срок_займа_к_истории'] = df['срок_займа_мес'] / (df['давность_первого_займа_мес'] + 1)\n",
        "\n",
        "    if 'кол-во_открытых_счетов' in df.columns and 'давность_первого_займа_мес' in df.columns and np.issubdtype(df['кол-во_открытых_счетов'].dtype, np.number):\n",
        "        df['плотность_счетов'] = df['кол-во_открытых_счетов'] / (df['давность_первого_займа_мес'] + 1)\n",
        "\n",
        "\n",
        "    # --- Финансовые отношения ---\n",
        "    if 'кредитный_лимит' in df.columns:\n",
        "        # !!! Обновлено: используем Эффективный Доход !!!\n",
        "        df['кредитный_лимит_к_доходу'] = df['кредитный_лимит'] / (df['эффективный_годовой_доход'] + 1e-6)\n",
        "\n",
        "    # (Остальные финансовые отношения и Ratio из Итерации 4 остаются)\n",
        "    if 'верхний_порог_рейтинга_заемщика' in df.columns and 'нижний_порог_рейтинга_заемщика' in df.columns:\n",
        "        df['разница_порогов_рейтинга'] = df['верхний_порог_рейтинга_заемщика'] - df['нижний_порог_рейтинга_заемщика']\n",
        "\n",
        "    required_cols = {'текущий_баланс_по_аннуитетным_счетам', 'кредитный_лимит'}\n",
        "    if required_cols.issubset(df.columns):\n",
        "        if np.issubdtype(df['текущий_баланс_по_аннуитетным_счетам'].dtype, np.number) and np.issubdtype(df['кредитный_лимит'].dtype, np.number):\n",
        "             df['ratio_balance_limit'] = df['текущий_баланс_по_аннуитетным_счетам'] / (df['кредитный_лимит'] + 1e-6)\n",
        "\n",
        "\n",
        "    # --- Обработка выбросов и бесконечностей (ВАЖНО: ОСТАВИТЬ В КОНЦЕ)---\n",
        "    df = df.replace([np.inf, -np.inf], np.nan)\n",
        "\n",
        "\n",
        "    # Clipping и Логарифмирование (Остается как в Ит.4)\n",
        "    features_to_process = ['ставка_к_рейтингу', 'PTI', 'LTI', 'ratio_balance_limit']\n",
        "\n",
        "    for feature in features_to_process:\n",
        "        if feature in df.columns:\n",
        "            # Проверяем, что колонка числовая перед расчетом квантилей\n",
        "            if np.issubdtype(df[feature].dtype, np.number):\n",
        "                q1 = df[feature].quantile(0.01)\n",
        "                q99 = df[feature].quantile(0.99)\n",
        "\n",
        "                df[f'{feature}_clipped'] = df[feature].clip(q1, q99)\n",
        "\n",
        "                if (df[f'{feature}_clipped'].min() >= 0):\n",
        "                     df[f'{feature}_log'] = np.log1p(df[f'{feature}_clipped'])\n",
        "\n",
        "\n",
        "    print(\"Генерация признаков завершена.\")\n",
        "    return df\n",
        "\n",
        "\n",
        "\n",
        "df = generate_features(df)\n",
        "print(f\"\\nРазмер данных после Feature Engineering: {df.shape}\")"
      ]
    },
    {
      "cell_type": "markdown",
      "id": "c8ad30d8",
      "metadata": {
        "id": "c8ad30d8"
      },
      "source": [
        "### 5.2.1. Генерация Агрегированных Признаков (Group Statistics)\n",
        "\n",
        "Создадим признаки, сравнивающие показатели клиента со средними показателями в его группе. Это помогает модели понять, является ли клиент \"типичным\" или выделяется (например, имеет доход выше среднего в своем регионе). Мы используем `transform` для эффективного вычисления на больших данных."
      ]
    },
    {
      "cell_type": "code",
      "execution_count": 21,
      "id": "626e4850",
      "metadata": {
        "id": "626e4850",
        "colab": {
          "base_uri": "https://localhost:8080/"
        },
        "outputId": "3183155b-923b-4692-f14e-ec9702c86243"
      },
      "outputs": [
        {
          "output_type": "stream",
          "name": "stdout",
          "text": [
            "Начало генерации агрегированных признаков...\n",
            "Генерация агрегированных признаков завершена.\n",
            "\n",
            "Размер данных после Group Statistics: (1345310, 197)\n"
          ]
        }
      ],
      "source": [
        "def generate_group_statistics(df):\n",
        "    print(\"Начало генерации агрегированных признаков...\")\n",
        "\n",
        "    # Определяем группы и признаки для агрегации\n",
        "    group_features = [\n",
        "        ['регион'],\n",
        "        ['рейтинг'],\n",
        "        ['допрейтинг'], # Допрейтинг был важен в baseline\n",
        "        ['владение_жильем'],\n",
        "        ['регион', 'рейтинг'], # Комбинация\n",
        "    ]\n",
        "\n",
        "    # Признаки, по которым считаем статистики\n",
        "    target_features = [\n",
        "        'годовой_доход',\n",
        "        'сумма_займа',\n",
        "        'пдн',\n",
        "        'процентная_ставка',\n",
        "        'LTI', # Используем ранее созданные признаки\n",
        "        'PTI'\n",
        "    ]\n",
        "\n",
        "    # Агрегации считаются на всем датасете (train+test). Это НЕ утечка, так как мы не используем таргет.\n",
        "\n",
        "    for group in group_features:\n",
        "        # Проверяем, что все колонки группы существуют (на случай, если были удалены ранее)\n",
        "        if all(g in df.columns for g in group):\n",
        "            for target in target_features:\n",
        "                if target in df.columns:\n",
        "                    group_name = '_'.join(group)\n",
        "\n",
        "                    # 1. Рассчитываем среднее и маппим обратно (используем transform для скорости)\n",
        "                    # Заполняем NaN в группах перед группировкой, чтобы они не влияли на расчеты\n",
        "                    df[group] = df[group].fillna('Missing_Group')\n",
        "                    agg_value = df.groupby(group)[target].transform('mean')\n",
        "\n",
        "                    # 2. Считаем разницу (Клиент минус Среднее по группе)\n",
        "                    df[f'GROUP_{group_name}_{target}_mean_diff'] = df[target] - agg_value\n",
        "\n",
        "                    # 3. Считаем отношение (Клиент / Среднее по группе)\n",
        "                    df[f'GROUP_{group_name}_{target}_mean_ratio'] = df[target] / (agg_value + 1e-6)\n",
        "\n",
        "    # Обработка возможных бесконечностей\n",
        "    df = df.replace([np.inf, -np.inf], np.nan)\n",
        "    print(\"Генерация агрегированных признаков завершена.\")\n",
        "    return df\n",
        "\n",
        "df = generate_group_statistics(df)\n",
        "print(f\"\\nРазмер данных после Group Statistics: {df.shape}\")"
      ]
    },
    {
      "cell_type": "markdown",
      "id": "27c5d01d",
      "metadata": {
        "id": "27c5d01d"
      },
      "source": [
        "### 5.3. Обработка категориальных признаков\n",
        "\n",
        "LightGBM может эффективно обрабатывать категориальные признаки напрямую (без One-Hot Encoding), что экономит память и часто дает лучшее качество. Для этого нужно привести колонки к типу `category`.\n",
        "\n",
        "Для признаков с высокой кардинальностью мы можем применить группировку редких значений, чтобы уменьшить шум (опционально)."
      ]
    },
    {
      "cell_type": "code",
      "execution_count": 22,
      "id": "bbfc9681",
      "metadata": {
        "id": "bbfc9681",
        "colab": {
          "base_uri": "https://localhost:8080/"
        },
        "outputId": "b6deab8b-1527-4f20-a60a-99df4674a0c4"
      },
      "outputs": [
        {
          "output_type": "stream",
          "name": "stdout",
          "text": [
            "Группировка 'профессия_заемщика'. До: 296953. Порог: 0.0005.\n",
            "После: 181.\n",
            "\n",
            "Применение Frequency Encoding...\n",
            "\n",
            "Категориальные признаки для финального кодирования: ['рейтинг', 'допрейтинг', 'профессия_заемщика', 'владение_жильем', 'подтвержден_ли_доход', 'платежный_график', 'цель_займа', 'регион', 'пос_стоп_фактор', 'юридический_статус', 'первоначальный_статус_займа', 'тип_займа', 'особая_ситуация', 'тип_предоставления_кредита']\n",
            "\n",
            "Категориальные признаки обработаны.\n"
          ]
        }
      ],
      "source": [
        "# 1. Группировка редких категорий\n",
        "\n",
        "# Функция для группировки редких категорий\n",
        "def group_rare_categories(df, column, threshold=0.0005, rare_label='Rare/Other'):\n",
        "    \"\"\"Группирует категории, встречающиеся реже threshold (по умолчанию 0.05%).\"\"\"\n",
        "    if column in df.columns:\n",
        "        # Заполняем NaN перед подсчетом\n",
        "        df[column] = df[column].fillna('Missing')\n",
        "        counts = df[column].value_counts(normalize=True)\n",
        "        rare = counts[counts < threshold].index\n",
        "\n",
        "        print(f\"Группировка '{column}'. До: {df[column].nunique()}. Порог: {threshold}.\")\n",
        "\n",
        "        # Заменяем редкие значения\n",
        "        # Используем .mask() как эффективный способ замены\n",
        "        df[column] = df[column].mask(df[column].isin(rare), rare_label)\n",
        "\n",
        "        print(f\"После: {df[column].nunique()}.\")\n",
        "    return df\n",
        "\n",
        "# !!! ОБНОВЛЕНИЕ: Применяем группировку к профессии\n",
        "# Порог 0.05%\n",
        "df = group_rare_categories(df, 'профессия_заемщика', threshold=0.0005)\n",
        "\n",
        "\n",
        "# !!! НОВОЕ: Frequency Encoding !!!\n",
        "# Заменяем категорию на частоту её встречаемости. Помогает при высокой кардинальности.\n",
        "def frequency_encoding(df, column):\n",
        "    if column in df.columns:\n",
        "        # Считаем частоту на всем датасете\n",
        "        encoding = df[column].value_counts(normalize=True)\n",
        "        # Создаем новый числовой признак\n",
        "        df[f'{column}_freq_enc'] = df[column].map(encoding)\n",
        "    return df\n",
        "\n",
        "print(\"\\nПрименение Frequency Encoding...\")\n",
        "df = frequency_encoding(df, 'профессия_заемщика')\n",
        "# Также полезно для региона и допрейтинга\n",
        "df = frequency_encoding(df, 'регион')\n",
        "df = frequency_encoding(df, 'допрейтинг')\n",
        "\n",
        "\n",
        "# 2. Преобразование в тип 'category'\n",
        "categorical_features = df.select_dtypes(include=['object']).columns\n",
        "print(f\"\\nКатегориальные признаки для финального кодирования: {list(categorical_features)}\")\n",
        "\n",
        "for col in categorical_features:\n",
        "    # Убедимся, что пропуски заполнены\n",
        "    df[col] = df[col].fillna('Missing')\n",
        "    # Приводим к строке и затем к типу 'category'\n",
        "    df[col] = df[col].astype(str).astype('category')\n",
        "\n",
        "print(\"\\nКатегориальные признаки обработаны.\")"
      ]
    },
    {
      "cell_type": "markdown",
      "id": "3be59462",
      "metadata": {
        "id": "3be59462"
      },
      "source": [
        "## 6. Моделирование\n",
        "\n",
        "### 6.1. Подготовка данных для модели\n",
        "\n",
        "Разделяем данные обратно на train и test. Финализируем набор признаков."
      ]
    },
    {
      "cell_type": "code",
      "execution_count": 23,
      "id": "163d3c93",
      "metadata": {
        "id": "163d3c93",
        "colab": {
          "base_uri": "https://localhost:8080/"
        },
        "outputId": "f4bfba4d-374f-4116-8d1b-843b246b585b"
      },
      "outputs": [
        {
          "output_type": "stream",
          "name": "stdout",
          "text": [
            "Финальная форма GBDT Train X: (1210779, 199), Test X: (134531, 199)\n",
            "Признаков: 199. Категориальных: 14. Числовых: 185.\n"
          ]
        }
      ],
      "source": [
        "# ====================================================================\n",
        "# РАЗДЕЛ 6.1. Подготовка данных для модели (GBDT и NN)\n",
        "# ====================================================================\n",
        "\n",
        "# Убедимся, что необходимые библиотеки импортированы\n",
        "import numpy as np\n",
        "from sklearn.impute import SimpleImputer\n",
        "from sklearn.preprocessing import StandardScaler\n",
        "from sklearn.model_selection import train_test_split\n",
        "import gc\n",
        "\n",
        "# --- 1. Подготовка данных для GBDT (LGBM/CatBoost) ---\n",
        "# Этот блок предполагает, что 'df' и 'train_target' уже существуют из предыдущих шагов\n",
        "\n",
        "# Разделение обратно на Train и Test по метке 'is_train'\n",
        "X = df[df['is_train'] == 1].drop('is_train', axis=1)\n",
        "X_test = df[df['is_train'] == 0].drop('is_train', axis=1)\n",
        "y = train_target\n",
        "\n",
        "# Финальная проверка колонок для консистентности\n",
        "X_test = X_test[X.columns]\n",
        "\n",
        "# Список всех признаков и категорий\n",
        "features = X.columns.tolist()\n",
        "# Убедимся, что типы object также считаются категориальными\n",
        "categorical_features_names = [col for col in features if X[col].dtype.name == 'category' or X[col].dtype.name == 'object']\n",
        "numerical_features = [col for col in features if col not in categorical_features_names]\n",
        "\n",
        "print(f\"Финальная форма GBDT Train X: {X.shape}, Test X: {X_test.shape}\")\n",
        "print(f\"Признаков: {len(features)}. Категориальных: {len(categorical_features_names)}. Числовых: {len(numerical_features)}.\")\n",
        "\n",
        "\n",
        "# --- 2. Подготовка данных для Нейросети (Imputation + Scaling) ---\n",
        "\n",
        "\n",
        "\n",
        "\n"
      ]
    },
    {
      "cell_type": "markdown",
      "id": "2c081546",
      "metadata": {
        "id": "2c081546"
      },
      "source": [
        "### 6.2. Выбор и Обучение Модели\n",
        "\n",
        "**Модель:** LightGBM (LGBMClassifier).\n",
        "**Причина:** Высочайшая скорость обучения на больших данных и стабильно высокое качество (SOTA) на табличных данных.\n",
        "\n",
        "**Стратегия Валидации:** Stratified K-Fold (K=5). Это обеспечивает надежную локальную оценку модели (OOF Score - Out-Of-Fold Score) и позволяет обучить модель, используя весь тренировочный набор данных, минимизируя риск переобучения.\n",
        "\n",
        "**Параметры:** Используем сильные стартовые параметры. Для достижения Топ-1 потребуется их тонкая настройка (тюнинг)."
      ]
    },
    {
      "cell_type": "code",
      "execution_count": 24,
      "id": "85467556",
      "metadata": {
        "id": "85467556",
        "colab": {
          "base_uri": "https://localhost:8080/",
          "height": 478
        },
        "outputId": "8b8b5994-c8f1-45f1-8209-441ade2c8592"
      },
      "outputs": [
        {
          "output_type": "stream",
          "name": "stdout",
          "text": [
            "--- Начало Обучения Ансамбля (LGBM + CatBoost) ---\n",
            "\n",
            "---> Fold 1/5\n"
          ]
        },
        {
          "output_type": "error",
          "ename": "KeyboardInterrupt",
          "evalue": "",
          "traceback": [
            "\u001b[0;31m---------------------------------------------------------------------------\u001b[0m",
            "\u001b[0;31mKeyboardInterrupt\u001b[0m                         Traceback (most recent call last)",
            "\u001b[0;32m/tmp/ipython-input-1398777503.py\u001b[0m in \u001b[0;36m<cell line: 0>\u001b[0;34m()\u001b[0m\n\u001b[1;32m     81\u001b[0m     \u001b[0mte\u001b[0m\u001b[0;34m.\u001b[0m\u001b[0mfit\u001b[0m\u001b[0;34m(\u001b[0m\u001b[0mX_train\u001b[0m\u001b[0;34m,\u001b[0m \u001b[0my_train\u001b[0m\u001b[0;34m)\u001b[0m\u001b[0;34m\u001b[0m\u001b[0;34m\u001b[0m\u001b[0m\n\u001b[1;32m     82\u001b[0m \u001b[0;34m\u001b[0m\u001b[0m\n\u001b[0;32m---> 83\u001b[0;31m     \u001b[0mX_train_encoded\u001b[0m \u001b[0;34m=\u001b[0m \u001b[0mpd\u001b[0m\u001b[0;34m.\u001b[0m\u001b[0mconcat\u001b[0m\u001b[0;34m(\u001b[0m\u001b[0;34m[\u001b[0m\u001b[0mX_train\u001b[0m\u001b[0;34m,\u001b[0m \u001b[0mte\u001b[0m\u001b[0;34m.\u001b[0m\u001b[0mtransform\u001b[0m\u001b[0;34m(\u001b[0m\u001b[0mX_train\u001b[0m\u001b[0;34m)\u001b[0m\u001b[0;34m]\u001b[0m\u001b[0;34m,\u001b[0m \u001b[0maxis\u001b[0m\u001b[0;34m=\u001b[0m\u001b[0;36m1\u001b[0m\u001b[0;34m)\u001b[0m\u001b[0;34m\u001b[0m\u001b[0;34m\u001b[0m\u001b[0m\n\u001b[0m\u001b[1;32m     84\u001b[0m     \u001b[0mX_val_encoded\u001b[0m \u001b[0;34m=\u001b[0m \u001b[0mpd\u001b[0m\u001b[0;34m.\u001b[0m\u001b[0mconcat\u001b[0m\u001b[0;34m(\u001b[0m\u001b[0;34m[\u001b[0m\u001b[0mX_val\u001b[0m\u001b[0;34m,\u001b[0m \u001b[0mte\u001b[0m\u001b[0;34m.\u001b[0m\u001b[0mtransform\u001b[0m\u001b[0;34m(\u001b[0m\u001b[0mX_val\u001b[0m\u001b[0;34m)\u001b[0m\u001b[0;34m]\u001b[0m\u001b[0;34m,\u001b[0m \u001b[0maxis\u001b[0m\u001b[0;34m=\u001b[0m\u001b[0;36m1\u001b[0m\u001b[0;34m)\u001b[0m\u001b[0;34m\u001b[0m\u001b[0;34m\u001b[0m\u001b[0m\n\u001b[1;32m     85\u001b[0m     \u001b[0mX_test_fold_te\u001b[0m \u001b[0;34m=\u001b[0m \u001b[0mte\u001b[0m\u001b[0;34m.\u001b[0m\u001b[0mtransform\u001b[0m\u001b[0;34m(\u001b[0m\u001b[0mX_test\u001b[0m\u001b[0;34m)\u001b[0m\u001b[0;34m\u001b[0m\u001b[0;34m\u001b[0m\u001b[0m\n",
            "\u001b[0;32m/tmp/ipython-input-2714471884.py\u001b[0m in \u001b[0;36mtransform\u001b[0;34m(self, X)\u001b[0m\n\u001b[1;32m     24\u001b[0m \u001b[0;34m\u001b[0m\u001b[0m\n\u001b[1;32m     25\u001b[0m     \u001b[0;32mdef\u001b[0m \u001b[0mtransform\u001b[0m\u001b[0;34m(\u001b[0m\u001b[0mself\u001b[0m\u001b[0;34m,\u001b[0m \u001b[0mX\u001b[0m\u001b[0;34m)\u001b[0m\u001b[0;34m:\u001b[0m\u001b[0;34m\u001b[0m\u001b[0;34m\u001b[0m\u001b[0m\n\u001b[0;32m---> 26\u001b[0;31m         \u001b[0mX\u001b[0m \u001b[0;34m=\u001b[0m \u001b[0mX\u001b[0m\u001b[0;34m.\u001b[0m\u001b[0mastype\u001b[0m\u001b[0;34m(\u001b[0m\u001b[0mstr\u001b[0m\u001b[0;34m)\u001b[0m\u001b[0;34m\u001b[0m\u001b[0;34m\u001b[0m\u001b[0m\n\u001b[0m\u001b[1;32m     27\u001b[0m         \u001b[0mX_encoded\u001b[0m \u001b[0;34m=\u001b[0m \u001b[0mpd\u001b[0m\u001b[0;34m.\u001b[0m\u001b[0mDataFrame\u001b[0m\u001b[0;34m(\u001b[0m\u001b[0mindex\u001b[0m\u001b[0;34m=\u001b[0m\u001b[0mX\u001b[0m\u001b[0;34m.\u001b[0m\u001b[0mindex\u001b[0m\u001b[0;34m)\u001b[0m\u001b[0;34m\u001b[0m\u001b[0;34m\u001b[0m\u001b[0m\n\u001b[1;32m     28\u001b[0m         \u001b[0;32mfor\u001b[0m \u001b[0mcol\u001b[0m \u001b[0;32min\u001b[0m \u001b[0mself\u001b[0m\u001b[0;34m.\u001b[0m\u001b[0mcols\u001b[0m\u001b[0;34m:\u001b[0m\u001b[0;34m\u001b[0m\u001b[0;34m\u001b[0m\u001b[0m\n",
            "\u001b[0;32m/usr/local/lib/python3.11/dist-packages/pandas/core/generic.py\u001b[0m in \u001b[0;36mastype\u001b[0;34m(self, dtype, copy, errors)\u001b[0m\n\u001b[1;32m   6641\u001b[0m         \u001b[0;32melse\u001b[0m\u001b[0;34m:\u001b[0m\u001b[0;34m\u001b[0m\u001b[0;34m\u001b[0m\u001b[0m\n\u001b[1;32m   6642\u001b[0m             \u001b[0;31m# else, only a single dtype is given\u001b[0m\u001b[0;34m\u001b[0m\u001b[0;34m\u001b[0m\u001b[0m\n\u001b[0;32m-> 6643\u001b[0;31m             \u001b[0mnew_data\u001b[0m \u001b[0;34m=\u001b[0m \u001b[0mself\u001b[0m\u001b[0;34m.\u001b[0m\u001b[0m_mgr\u001b[0m\u001b[0;34m.\u001b[0m\u001b[0mastype\u001b[0m\u001b[0;34m(\u001b[0m\u001b[0mdtype\u001b[0m\u001b[0;34m=\u001b[0m\u001b[0mdtype\u001b[0m\u001b[0;34m,\u001b[0m \u001b[0mcopy\u001b[0m\u001b[0;34m=\u001b[0m\u001b[0mcopy\u001b[0m\u001b[0;34m,\u001b[0m \u001b[0merrors\u001b[0m\u001b[0;34m=\u001b[0m\u001b[0merrors\u001b[0m\u001b[0;34m)\u001b[0m\u001b[0;34m\u001b[0m\u001b[0;34m\u001b[0m\u001b[0m\n\u001b[0m\u001b[1;32m   6644\u001b[0m             \u001b[0mres\u001b[0m \u001b[0;34m=\u001b[0m \u001b[0mself\u001b[0m\u001b[0;34m.\u001b[0m\u001b[0m_constructor_from_mgr\u001b[0m\u001b[0;34m(\u001b[0m\u001b[0mnew_data\u001b[0m\u001b[0;34m,\u001b[0m \u001b[0maxes\u001b[0m\u001b[0;34m=\u001b[0m\u001b[0mnew_data\u001b[0m\u001b[0;34m.\u001b[0m\u001b[0maxes\u001b[0m\u001b[0;34m)\u001b[0m\u001b[0;34m\u001b[0m\u001b[0;34m\u001b[0m\u001b[0m\n\u001b[1;32m   6645\u001b[0m             \u001b[0;32mreturn\u001b[0m \u001b[0mres\u001b[0m\u001b[0;34m.\u001b[0m\u001b[0m__finalize__\u001b[0m\u001b[0;34m(\u001b[0m\u001b[0mself\u001b[0m\u001b[0;34m,\u001b[0m \u001b[0mmethod\u001b[0m\u001b[0;34m=\u001b[0m\u001b[0;34m\"astype\"\u001b[0m\u001b[0;34m)\u001b[0m\u001b[0;34m\u001b[0m\u001b[0;34m\u001b[0m\u001b[0m\n",
            "\u001b[0;32m/usr/local/lib/python3.11/dist-packages/pandas/core/internals/managers.py\u001b[0m in \u001b[0;36mastype\u001b[0;34m(self, dtype, copy, errors)\u001b[0m\n\u001b[1;32m    428\u001b[0m             \u001b[0mcopy\u001b[0m \u001b[0;34m=\u001b[0m \u001b[0;32mFalse\u001b[0m\u001b[0;34m\u001b[0m\u001b[0;34m\u001b[0m\u001b[0m\n\u001b[1;32m    429\u001b[0m \u001b[0;34m\u001b[0m\u001b[0m\n\u001b[0;32m--> 430\u001b[0;31m         return self.apply(\n\u001b[0m\u001b[1;32m    431\u001b[0m             \u001b[0;34m\"astype\"\u001b[0m\u001b[0;34m,\u001b[0m\u001b[0;34m\u001b[0m\u001b[0;34m\u001b[0m\u001b[0m\n\u001b[1;32m    432\u001b[0m             \u001b[0mdtype\u001b[0m\u001b[0;34m=\u001b[0m\u001b[0mdtype\u001b[0m\u001b[0;34m,\u001b[0m\u001b[0;34m\u001b[0m\u001b[0;34m\u001b[0m\u001b[0m\n",
            "\u001b[0;32m/usr/local/lib/python3.11/dist-packages/pandas/core/internals/managers.py\u001b[0m in \u001b[0;36mapply\u001b[0;34m(self, f, align_keys, **kwargs)\u001b[0m\n\u001b[1;32m    361\u001b[0m                 \u001b[0mapplied\u001b[0m \u001b[0;34m=\u001b[0m \u001b[0mb\u001b[0m\u001b[0;34m.\u001b[0m\u001b[0mapply\u001b[0m\u001b[0;34m(\u001b[0m\u001b[0mf\u001b[0m\u001b[0;34m,\u001b[0m \u001b[0;34m**\u001b[0m\u001b[0mkwargs\u001b[0m\u001b[0;34m)\u001b[0m\u001b[0;34m\u001b[0m\u001b[0;34m\u001b[0m\u001b[0m\n\u001b[1;32m    362\u001b[0m             \u001b[0;32melse\u001b[0m\u001b[0;34m:\u001b[0m\u001b[0;34m\u001b[0m\u001b[0;34m\u001b[0m\u001b[0m\n\u001b[0;32m--> 363\u001b[0;31m                 \u001b[0mapplied\u001b[0m \u001b[0;34m=\u001b[0m \u001b[0mgetattr\u001b[0m\u001b[0;34m(\u001b[0m\u001b[0mb\u001b[0m\u001b[0;34m,\u001b[0m \u001b[0mf\u001b[0m\u001b[0;34m)\u001b[0m\u001b[0;34m(\u001b[0m\u001b[0;34m**\u001b[0m\u001b[0mkwargs\u001b[0m\u001b[0;34m)\u001b[0m\u001b[0;34m\u001b[0m\u001b[0;34m\u001b[0m\u001b[0m\n\u001b[0m\u001b[1;32m    364\u001b[0m             \u001b[0mresult_blocks\u001b[0m \u001b[0;34m=\u001b[0m \u001b[0mextend_blocks\u001b[0m\u001b[0;34m(\u001b[0m\u001b[0mapplied\u001b[0m\u001b[0;34m,\u001b[0m \u001b[0mresult_blocks\u001b[0m\u001b[0;34m)\u001b[0m\u001b[0;34m\u001b[0m\u001b[0;34m\u001b[0m\u001b[0m\n\u001b[1;32m    365\u001b[0m \u001b[0;34m\u001b[0m\u001b[0m\n",
            "\u001b[0;32m/usr/local/lib/python3.11/dist-packages/pandas/core/internals/blocks.py\u001b[0m in \u001b[0;36mastype\u001b[0;34m(self, dtype, copy, errors, using_cow, squeeze)\u001b[0m\n\u001b[1;32m    756\u001b[0m             \u001b[0mvalues\u001b[0m \u001b[0;34m=\u001b[0m \u001b[0mvalues\u001b[0m\u001b[0;34m[\u001b[0m\u001b[0;36m0\u001b[0m\u001b[0;34m,\u001b[0m \u001b[0;34m:\u001b[0m\u001b[0;34m]\u001b[0m  \u001b[0;31m# type: ignore[call-overload]\u001b[0m\u001b[0;34m\u001b[0m\u001b[0;34m\u001b[0m\u001b[0m\n\u001b[1;32m    757\u001b[0m \u001b[0;34m\u001b[0m\u001b[0m\n\u001b[0;32m--> 758\u001b[0;31m         \u001b[0mnew_values\u001b[0m \u001b[0;34m=\u001b[0m \u001b[0mastype_array_safe\u001b[0m\u001b[0;34m(\u001b[0m\u001b[0mvalues\u001b[0m\u001b[0;34m,\u001b[0m \u001b[0mdtype\u001b[0m\u001b[0;34m,\u001b[0m \u001b[0mcopy\u001b[0m\u001b[0;34m=\u001b[0m\u001b[0mcopy\u001b[0m\u001b[0;34m,\u001b[0m \u001b[0merrors\u001b[0m\u001b[0;34m=\u001b[0m\u001b[0merrors\u001b[0m\u001b[0;34m)\u001b[0m\u001b[0;34m\u001b[0m\u001b[0;34m\u001b[0m\u001b[0m\n\u001b[0m\u001b[1;32m    759\u001b[0m \u001b[0;34m\u001b[0m\u001b[0m\n\u001b[1;32m    760\u001b[0m         \u001b[0mnew_values\u001b[0m \u001b[0;34m=\u001b[0m \u001b[0mmaybe_coerce_values\u001b[0m\u001b[0;34m(\u001b[0m\u001b[0mnew_values\u001b[0m\u001b[0;34m)\u001b[0m\u001b[0;34m\u001b[0m\u001b[0;34m\u001b[0m\u001b[0m\n",
            "\u001b[0;32m/usr/local/lib/python3.11/dist-packages/pandas/core/dtypes/astype.py\u001b[0m in \u001b[0;36mastype_array_safe\u001b[0;34m(values, dtype, copy, errors)\u001b[0m\n\u001b[1;32m    235\u001b[0m \u001b[0;34m\u001b[0m\u001b[0m\n\u001b[1;32m    236\u001b[0m     \u001b[0;32mtry\u001b[0m\u001b[0;34m:\u001b[0m\u001b[0;34m\u001b[0m\u001b[0;34m\u001b[0m\u001b[0m\n\u001b[0;32m--> 237\u001b[0;31m         \u001b[0mnew_values\u001b[0m \u001b[0;34m=\u001b[0m \u001b[0mastype_array\u001b[0m\u001b[0;34m(\u001b[0m\u001b[0mvalues\u001b[0m\u001b[0;34m,\u001b[0m \u001b[0mdtype\u001b[0m\u001b[0;34m,\u001b[0m \u001b[0mcopy\u001b[0m\u001b[0;34m=\u001b[0m\u001b[0mcopy\u001b[0m\u001b[0;34m)\u001b[0m\u001b[0;34m\u001b[0m\u001b[0;34m\u001b[0m\u001b[0m\n\u001b[0m\u001b[1;32m    238\u001b[0m     \u001b[0;32mexcept\u001b[0m \u001b[0;34m(\u001b[0m\u001b[0mValueError\u001b[0m\u001b[0;34m,\u001b[0m \u001b[0mTypeError\u001b[0m\u001b[0;34m)\u001b[0m\u001b[0;34m:\u001b[0m\u001b[0;34m\u001b[0m\u001b[0;34m\u001b[0m\u001b[0m\n\u001b[1;32m    239\u001b[0m         \u001b[0;31m# e.g. _astype_nansafe can fail on object-dtype of strings\u001b[0m\u001b[0;34m\u001b[0m\u001b[0;34m\u001b[0m\u001b[0m\n",
            "\u001b[0;32m/usr/local/lib/python3.11/dist-packages/pandas/core/dtypes/astype.py\u001b[0m in \u001b[0;36mastype_array\u001b[0;34m(values, dtype, copy)\u001b[0m\n\u001b[1;32m    180\u001b[0m \u001b[0;34m\u001b[0m\u001b[0m\n\u001b[1;32m    181\u001b[0m     \u001b[0;32melse\u001b[0m\u001b[0;34m:\u001b[0m\u001b[0;34m\u001b[0m\u001b[0;34m\u001b[0m\u001b[0m\n\u001b[0;32m--> 182\u001b[0;31m         \u001b[0mvalues\u001b[0m \u001b[0;34m=\u001b[0m \u001b[0m_astype_nansafe\u001b[0m\u001b[0;34m(\u001b[0m\u001b[0mvalues\u001b[0m\u001b[0;34m,\u001b[0m \u001b[0mdtype\u001b[0m\u001b[0;34m,\u001b[0m \u001b[0mcopy\u001b[0m\u001b[0;34m=\u001b[0m\u001b[0mcopy\u001b[0m\u001b[0;34m)\u001b[0m\u001b[0;34m\u001b[0m\u001b[0;34m\u001b[0m\u001b[0m\n\u001b[0m\u001b[1;32m    183\u001b[0m \u001b[0;34m\u001b[0m\u001b[0m\n\u001b[1;32m    184\u001b[0m     \u001b[0;31m# in pandas we don't store numpy str dtypes, so convert to object\u001b[0m\u001b[0;34m\u001b[0m\u001b[0;34m\u001b[0m\u001b[0m\n",
            "\u001b[0;32m/usr/local/lib/python3.11/dist-packages/pandas/core/dtypes/astype.py\u001b[0m in \u001b[0;36m_astype_nansafe\u001b[0;34m(arr, dtype, copy, skipna)\u001b[0m\n\u001b[1;32m     94\u001b[0m         \u001b[0;32mif\u001b[0m \u001b[0marr\u001b[0m\u001b[0;34m.\u001b[0m\u001b[0mndim\u001b[0m \u001b[0;34m>\u001b[0m \u001b[0;36m1\u001b[0m\u001b[0;34m:\u001b[0m\u001b[0;34m\u001b[0m\u001b[0;34m\u001b[0m\u001b[0m\n\u001b[1;32m     95\u001b[0m             \u001b[0marr\u001b[0m \u001b[0;34m=\u001b[0m \u001b[0marr\u001b[0m\u001b[0;34m.\u001b[0m\u001b[0mravel\u001b[0m\u001b[0;34m(\u001b[0m\u001b[0;34m)\u001b[0m\u001b[0;34m\u001b[0m\u001b[0;34m\u001b[0m\u001b[0m\n\u001b[0;32m---> 96\u001b[0;31m         return lib.ensure_string_array(\n\u001b[0m\u001b[1;32m     97\u001b[0m             \u001b[0marr\u001b[0m\u001b[0;34m,\u001b[0m \u001b[0mskipna\u001b[0m\u001b[0;34m=\u001b[0m\u001b[0mskipna\u001b[0m\u001b[0;34m,\u001b[0m \u001b[0mconvert_na_value\u001b[0m\u001b[0;34m=\u001b[0m\u001b[0;32mFalse\u001b[0m\u001b[0;34m\u001b[0m\u001b[0;34m\u001b[0m\u001b[0m\n\u001b[1;32m     98\u001b[0m         ).reshape(shape)\n",
            "\u001b[0;32mlib.pyx\u001b[0m in \u001b[0;36mpandas._libs.lib.ensure_string_array\u001b[0;34m()\u001b[0m\n",
            "\u001b[0;32mlib.pyx\u001b[0m in \u001b[0;36mpandas._libs.lib.ensure_string_array\u001b[0;34m()\u001b[0m\n",
            "\u001b[0;31mKeyboardInterrupt\u001b[0m: "
          ]
        }
      ],
      "source": [
        "\n",
        "# Функция для надежного выравнивания колонок (Остается)\n",
        "def align_columns(train_df, other_df_list):\n",
        "    \"\"\"\n",
        "    Приводит val/test DataFrames к тому же порядку колонок, что и train_df, используя reindex.\n",
        "    \"\"\"\n",
        "    aligned = []\n",
        "    train_cols = train_df.columns\n",
        "    for df_ in other_df_list:\n",
        "        df_aligned = df_.reindex(columns=train_cols)\n",
        "        aligned.append(df_aligned)\n",
        "    return aligned\n",
        "\n",
        "# --- Конфигурация Обучения Ансамбля ---\n",
        "\n",
        "# 1. LightGBM Параметры (Используем лучшие параметры из Итерации 4)\n",
        "import lightgbm as lgb\n",
        "\n",
        "# LightGBM\n",
        "lgb_params = {\n",
        "    'objective': 'binary',\n",
        "    'metric': 'auc',\n",
        "    'boosting_type': 'gbdt',\n",
        "    'device_type': 'gpu',     # ✅ так корректнее\n",
        "    # 'device': 'gpu',        # старый алиас, тоже работает, но лучше device_type\n",
        "    'n_estimators': 8000,\n",
        "    'learning_rate': 0.015,\n",
        "    'num_leaves': 64,\n",
        "    'max_depth': -1,\n",
        "    'min_child_samples': 100,\n",
        "    'tree_learner': 'serial', # GPU поддерживает только serial/voting\n",
        "    'max_bin': 255,           # >255 на GPU нельзя\n",
        "    'seed': 42,\n",
        "    'verbose': 1              # пусть выводит, чтобы видеть строчки GPU\n",
        "}\n",
        "\n",
        "# CatBoost\n",
        "cb_params = {\n",
        "    'iterations': 4000,\n",
        "    'learning_rate': 0.03,\n",
        "    'depth': 8,\n",
        "    'l2_leaf_reg': 3,\n",
        "    'loss_function': 'Logloss',\n",
        "    'eval_metric': 'AUC',\n",
        "    'task_type': 'GPU',       # ✅ обязательно именно так\n",
        "    'devices': '0',           # если несколько карт, перечислите\n",
        "    'auto_class_weights': 'Balanced',\n",
        "    'random_seed': 42,\n",
        "    'verbose': 200            # каждые 200 итераций покажет лог с GPU\n",
        "}\n",
        "\n",
        "\n",
        "# Конфигурация Target Encoding (Остается прежней)\n",
        "TE_COLS = ['профессия_заемщика', 'регион']\n",
        "TE_SMOOTHING = 5.0\n",
        "TE_MIN_COUNT = 10\n",
        "\n",
        "EARLY_STOPPING_ROUNDS = 200\n",
        "\n",
        "# --- Инициализация ---\n",
        "skf = StratifiedKFold(n_splits=N_SPLITS, shuffle=True, random_state=RANDOM_STATE)\n",
        "\n",
        "# Хранение результатов для ансамбля\n",
        "oof_preds = {'lgb': np.zeros(X.shape[0]), 'cb': np.zeros(X.shape[0])}\n",
        "test_preds = {'lgb': np.zeros(X_test.shape[0]), 'cb': np.zeros(X_test.shape[0])}\n",
        "feature_importance_df = pd.DataFrame()\n",
        "\n",
        "\n",
        "print(\"--- Начало Обучения Ансамбля (LGBM + CatBoost) ---\")\n",
        "start_time = time.time()\n",
        "\n",
        "# Цикл обучения по фолдам\n",
        "for fold, (train_index, val_index) in enumerate(skf.split(X, y)):\n",
        "    print(f\"\\n---> Fold {fold+1}/{N_SPLITS}\")\n",
        "\n",
        "    # Разделение данных\n",
        "    X_train, X_val = X.iloc[train_index], X.iloc[val_index]\n",
        "    y_train, y_val = y.iloc[train_index], y.iloc[val_index]\n",
        "\n",
        "    # --- Target Encoding (Внутри цикла) ---\n",
        "    te = TargetEncoder(cols=TE_COLS, smoothing=TE_SMOOTHING, min_count=TE_MIN_COUNT)\n",
        "    te.fit(X_train, y_train)\n",
        "\n",
        "    X_train_encoded = pd.concat([X_train, te.transform(X_train)], axis=1)\n",
        "    X_val_encoded = pd.concat([X_val, te.transform(X_val)], axis=1)\n",
        "    X_test_fold_te = te.transform(X_test)\n",
        "    X_test_encoded_fold = pd.concat([X_test, X_test_fold_te], axis=1)\n",
        "\n",
        "    # Выравнивание колонок\n",
        "    X_val_encoded, X_test_encoded_fold = align_columns(X_train_encoded, [X_val_encoded, X_test_encoded_fold])\n",
        "\n",
        "    # Определяем финальные категориальные признаки\n",
        "    current_cat_features = [c for c in categorical_features_names if c in X_train_encoded.columns]\n",
        "\n",
        "\n",
        "    # --- 1. Обучение LightGBM ---\n",
        "    print(\"  -> Training LightGBM...\")\n",
        "    # Убедимся, что категории имеют тип 'category' для LGBM (были преобразованы в object в Разделе 5.3 для CatBoost)\n",
        "    X_train_lgb = X_train_encoded.copy()\n",
        "    X_val_lgb = X_val_encoded.copy()\n",
        "    X_test_lgb = X_test_encoded_fold.copy()\n",
        "\n",
        "    for col in current_cat_features:\n",
        "        X_train_lgb[col] = X_train_lgb[col].astype('category')\n",
        "        X_val_lgb[col] = X_val_lgb[col].astype('category')\n",
        "        X_test_lgb[col] = X_test_lgb[col].astype('category')\n",
        "\n",
        "    lgb_model = lgb.LGBMClassifier(**lgb_params)\n",
        "    lgb_model.fit(X_train_lgb, y_train,\n",
        "                  eval_set=[(X_val_lgb, y_val)],\n",
        "                  eval_metric='auc',\n",
        "                  categorical_feature=current_cat_features,\n",
        "                  callbacks=[lgb.early_stopping(EARLY_STOPPING_ROUNDS, verbose=VERBOSE)])\n",
        "\n",
        "    # Предсказания LGBM\n",
        "    val_preds_lgb = lgb_model.predict_proba(X_val_lgb)[:, 1]\n",
        "    oof_preds['lgb'][val_index] = val_preds_lgb\n",
        "    test_preds['lgb'] += lgb_model.predict_proba(X_test_lgb)[:, 1] / N_SPLITS\n",
        "    print(f\"    LGBM Fold AUC: {roc_auc_score(y_val, val_preds_lgb):.5f}. Итераций: {lgb_model.best_iteration_}\")\n",
        "\n",
        "    # Сохранение важности признаков (только для LGBM)\n",
        "    fold_importance_df = pd.DataFrame()\n",
        "    fold_importance_df[\"feature\"] = lgb_model.booster_.feature_name()\n",
        "    fold_importance_df[\"importance\"] = lgb_model.booster_.feature_importance(importance_type='gain')\n",
        "    fold_importance_df[\"fold\"] = fold + 1\n",
        "    feature_importance_df = pd.concat([feature_importance_df, fold_importance_df], axis=0)\n",
        "\n",
        "\n",
        "    # --- 2. Обучение CatBoost ---\n",
        "    # CatBoost требует, чтобы категориальные признаки были строками (str).\n",
        "    # Исходные X_train_encoded уже содержат строки (из Раздела 5.3).\n",
        "    X_train_cb = X_train_encoded\n",
        "    X_val_cb = X_val_encoded\n",
        "    X_test_cb = X_test_encoded_fold\n",
        "\n",
        "    print(\"  -> Training CatBoost...\")\n",
        "    cb_model = CatBoostClassifier(**cb_params)\n",
        "    cb_model.fit(X_train_cb, y_train,\n",
        "                 eval_set=[(X_val_cb, y_val)],\n",
        "                 cat_features=current_cat_features,\n",
        "                 early_stopping_rounds=EARLY_STOPPING_ROUNDS,\n",
        "                 verbose=False)\n",
        "\n",
        "    # Предсказания CatBoost\n",
        "    val_preds_cb = cb_model.predict_proba(X_val_cb)[:, 1]\n",
        "    oof_preds['cb'][val_index] = val_preds_cb\n",
        "    test_preds['cb'] += cb_model.predict_proba(X_test_cb)[:, 1] / N_SPLITS\n",
        "    print(f\"    CatBoost Fold AUC: {roc_auc_score(y_val, val_preds_cb):.5f}. Итераций: {cb_model.get_best_iteration()}\")\n",
        "\n",
        "\n",
        "# --- Итоговая оценка и Ансамблирование (Blending) ---\n",
        "oof_auc_lgb = roc_auc_score(y, oof_preds['lgb'])\n",
        "oof_auc_cb = roc_auc_score(y, oof_preds['cb'])\n",
        "\n",
        "print(f\"\\n--- Результаты Моделей ---\")\n",
        "print(f\"LightGBM Overall OOF AUC: {oof_auc_lgb:.5f}\")\n",
        "print(f\"CatBoost Overall OOF AUC: {oof_auc_cb:.5f}\")\n",
        "\n",
        "# Простое усреднение (Blending 50/50). Это стабильный и надежный метод.\n",
        "OOF_WEIGHT_LGB = 0.5\n",
        "OOF_WEIGHT_CB = 0.5\n",
        "\n",
        "oof_preds_ensemble = (oof_preds['lgb'] * OOF_WEIGHT_LGB) + (oof_preds['cb'] * OOF_WEIGHT_CB)\n",
        "test_preds_ensemble = (test_preds['lgb'] * OOF_WEIGHT_LGB) + (test_preds['cb'] * OOF_WEIGHT_CB)\n",
        "\n",
        "oof_auc_ensemble = roc_auc_score(y, oof_preds_ensemble)\n",
        "print(f\"\\n--- Ensemble (Blend 50/50) Overall OOF AUC: {oof_auc_ensemble:.5f} ---\")\n",
        "\n",
        "end_time = time.time()\n",
        "print(f\"Общее время обучения: {(end_time - start_time) / 60:.2f} минут\")"
      ]
    },
    {
      "cell_type": "code",
      "source": [
        "# Устанавливаем совместимые версии библиотек для решения конфликта\n",
        "!pip uninstall -y numpy tensorboard tb-nightly\n",
        "!pip install numpy==1.23.5\n",
        "!pip install pytorch-tabular[all]"
      ],
      "metadata": {
        "id": "zkmByfCwF5BS"
      },
      "id": "zkmByfCwF5BS",
      "execution_count": null,
      "outputs": []
    },
    {
      "cell_type": "markdown",
      "id": "1878c914",
      "metadata": {
        "id": "1878c914"
      },
      "source": [
        "## 7. Анализ Важности Признаков\n",
        "\n",
        "Анализ Feature Importance (на основе Gain) позволяет понять, какие признаки вносят наибольший вклад в предсказания модели. Это помогает интерпретировать результаты и находить идеи для дальнейшего Feature Engineering."
      ]
    },
    {
      "cell_type": "code",
      "execution_count": null,
      "id": "099c97b8",
      "metadata": {
        "id": "099c97b8"
      },
      "outputs": [],
      "source": [
        "def plot_feature_importance(importance_df, top_n=50):\n",
        "    # Усредняем важность признаков по всем фолдам\n",
        "    mean_importance = (importance_df[[\"feature\", \"importance\"]]\n",
        "                       .groupby(\"feature\")\n",
        "                       .mean()\n",
        "                       .sort_values(by=\"importance\", ascending=False))\n",
        "\n",
        "    top_features = mean_importance.head(top_n)\n",
        "\n",
        "    plt.figure(figsize=(10, max(10, top_n / 3))) # Адаптивный размер графика\n",
        "    sns.barplot(x=\"importance\", y=top_features.index, data=top_features.reset_index())\n",
        "    plt.title(f'LightGBM Feature Importance (Gain, Top {top_n}, усредненная по фолдам)')\n",
        "    plt.tight_layout()\n",
        "    plt.show()\n",
        "\n",
        "# Отобразим Топ-30 признаков\n",
        "plot_feature_importance(feature_importance_df, top_n=30)"
      ]
    },
    {
      "cell_type": "markdown",
      "source": [
        "## 7.1. Стекинг (L2) и Оптимизация Ансамбля\n",
        "\n",
        "Мы применяем двухэтапный подход:\n",
        "1. Стекинг GBDT моделей с помощью Логистической Регрессии.\n",
        "2. Оптимизация весов для блендинга результата Стекинга и предсказаний FT-Transformer."
      ],
      "metadata": {
        "id": "55fkVHnTmLa2"
      },
      "id": "55fkVHnTmLa2"
    },
    {
      "cell_type": "code",
      "source": [
        "# ====================================================================\n",
        "# Итерация 7 (Упрощенная): Только Стекинг GBDT моделей\n",
        "# ====================================================================\n",
        "\n",
        "print(\"\\n--- Финальный ансамбль: Стекинг GBDT (LGBM + CatBoost) ---\")\n",
        "\n",
        "# Проверка наличия необходимых данных от GBDT\n",
        "if 'oof_preds' not in globals() or 'test_preds' not in globals():\n",
        "    raise ValueError(\"Необходимые предсказания от GBDT не найдены. Убедитесь, что Раздел 6.2 выполнен.\")\n",
        "\n",
        "# --------------------------------------------------------------------\n",
        "# ЭТАП 1: Обучение Мета-Модели (L2) на GBDT (Этот блок остается без изменений)\n",
        "# --------------------------------------------------------------------\n",
        "print(\"-> Этап 1: Обучение Мета-Модели (L2) на GBDT...\")\n",
        "\n",
        "# 1.1. Подготовка данных для Мета-Модели\n",
        "# Используем OOF предсказания LGBM и CatBoost как признаки\n",
        "X_meta = pd.DataFrame({\n",
        "    'lgb_pred': oof_preds['lgb'],\n",
        "    'cb_pred': oof_preds['cb']\n",
        "})\n",
        "\n",
        "X_test_meta = pd.DataFrame({\n",
        "    'lgb_pred': test_preds['lgb'],\n",
        "    'cb_pred': test_preds['cb']\n",
        "})\n",
        "\n",
        "# 1.2. Обучение Мета-Модели (Логистическая Регрессия)\n",
        "meta_model = LogisticRegression(random_state=RANDOM_STATE, solver='liblinear')\n",
        "meta_model.fit(X_meta, y)\n",
        "\n",
        "# 1.3. Получение предсказаний от Мета-Модели\n",
        "oof_preds_stacking = meta_model.predict_proba(X_meta)[:, 1]\n",
        "test_preds_stacking = meta_model.predict_proba(X_test_meta)[:, 1]\n",
        "\n",
        "# 1.4. Оценка качества Стекинга\n",
        "oof_auc_stacking = roc_auc_score(y, oof_preds_stacking)\n",
        "print(f\"  Итоговый Stacking (LGB+CB) OOF AUC: {oof_auc_stacking:.5f}\")\n",
        "\n",
        "\n",
        "# --------------------------------------------------------------------\n",
        "# ЭТАП 2: Финальное Предсказание (теперь это просто результат стекинга)\n",
        "# --------------------------------------------------------------------\n",
        "# Так как нейросети нет, результат стекинга и есть наш финальный результат.\n",
        "final_test_preds = test_preds_stacking\n",
        "\n",
        "print(\"\\nФинальные предсказания на основе стекинга готовы.\")"
      ],
      "metadata": {
        "id": "LA_D0P1-mPM3"
      },
      "id": "LA_D0P1-mPM3",
      "execution_count": null,
      "outputs": []
    },
    {
      "cell_type": "markdown",
      "source": [],
      "metadata": {
        "id": "FoctVuXJmJot"
      },
      "id": "FoctVuXJmJot"
    },
    {
      "cell_type": "markdown",
      "id": "5f3fdf31",
      "metadata": {
        "id": "5f3fdf31"
      },
      "source": [
        "## 8. Формирование файла для отправки (Submission)\n",
        "\n",
        "Генерируем файл `submission.csv` в требуемом формате: `ID`, `Proba`."
      ]
    },
    {
      "cell_type": "code",
      "execution_count": null,
      "id": "ae3099e7",
      "metadata": {
        "id": "ae3099e7"
      },
      "outputs": [],
      "source": [
        "# Используем финальные предсказания (final_test_preds), которые теперь равны результату стекинга\n",
        "submission_df = pd.DataFrame({'ID': test_ids, 'Proba': final_test_preds})\n",
        "\n",
        "# Приводим ID к целочисленному формату\n",
        "submission_df['ID'] = submission_df['ID'].astype(int)\n",
        "\n",
        "# Сохранение файла с новым именем\n",
        "submission_filename = 'submission_STACKED_GBDT_only.csv'\n",
        "submission_df.to_csv(submission_filename, index=False)\n",
        "\n",
        "print(f\"\\nФайл {submission_filename} успешно сформирован и сохранен.\")\n",
        "display(submission_df.head())"
      ]
    },
    {
      "cell_type": "code",
      "metadata": {
        "id": "g9DeUnEE2Zma"
      },
      "source": [
        "%%bash\n",
        "\n"
      ],
      "id": "g9DeUnEE2Zma",
      "execution_count": null,
      "outputs": []
    }
  ],
  "metadata": {
    "kernelspec": {
      "display_name": "Python 3",
      "name": "python3"
    },
    "language_info": {
      "codemirror_mode": {
        "name": "ipython",
        "version": 3
      },
      "file_extension": ".py",
      "mimetype": "text/x-python",
      "name": "python",
      "nbconvert_exporter": "python",
      "pygments_lexer": "ipython3",
      "version": "3.9.10"
    },
    "colab": {
      "provenance": [],
      "gpuType": "L4",
      "machine_shape": "hm"
    },
    "accelerator": "GPU"
  },
  "nbformat": 4,
  "nbformat_minor": 5
}