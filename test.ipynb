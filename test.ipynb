{
 "cells": [
  {
   "cell_type": "markdown",
   "id": "eef775f8",
   "metadata": {},
   "source": [
    "# Shift ML 2025  (Test Part)\n",
    "\n",
    " Этот ноутбук содержит расчёты, которые использовались для ответов на вопросы теста."
   ]
  },
  {
   "cell_type": "code",
   "execution_count": null,
   "id": "5553effa",
   "metadata": {},
   "outputs": [],
   "source": [
    "%pip install seaborn\n",
    "%pip install --upgrade numpy pandas"
   ]
  },
  {
   "cell_type": "code",
   "execution_count": 1,
   "id": "65fa4c15",
   "metadata": {},
   "outputs": [
    {
     "name": "stderr",
     "output_type": "stream",
     "text": [
      "C:\\Users\\kiril\\AppData\\Local\\Temp\\ipykernel_46384\\1393968543.py:9: DtypeWarning: Columns (49) have mixed types. Specify dtype option on import or set low_memory=False.\n",
      "  df = pd.read_csv('shift_ml_2025_train.csv')\n"
     ]
    },
    {
     "data": {
      "text/html": [
       "<div>\n",
       "<style scoped>\n",
       "    .dataframe tbody tr th:only-of-type {\n",
       "        vertical-align: middle;\n",
       "    }\n",
       "\n",
       "    .dataframe tbody tr th {\n",
       "        vertical-align: top;\n",
       "    }\n",
       "\n",
       "    .dataframe thead th {\n",
       "        text-align: right;\n",
       "    }\n",
       "</style>\n",
       "<table border=\"1\" class=\"dataframe\">\n",
       "  <thead>\n",
       "    <tr style=\"text-align: right;\">\n",
       "      <th></th>\n",
       "      <th>id</th>\n",
       "      <th>сумма_займа</th>\n",
       "      <th>срок_займа</th>\n",
       "      <th>процентная_ставка</th>\n",
       "      <th>аннуитет</th>\n",
       "      <th>рейтинг</th>\n",
       "      <th>допрейтинг</th>\n",
       "      <th>профессия_заемщика</th>\n",
       "      <th>стаж</th>\n",
       "      <th>владение_жильем</th>\n",
       "      <th>...</th>\n",
       "      <th>процент_счетов_прев_75_лимита</th>\n",
       "      <th>кол-во_публ_банкротств</th>\n",
       "      <th>кол-во_залогов</th>\n",
       "      <th>кредитный_лимит</th>\n",
       "      <th>кредитный_баланс_без_ипотеки</th>\n",
       "      <th>лимит_по_картам</th>\n",
       "      <th>лимит_по_аннуитетным_счетам</th>\n",
       "      <th>кредитный_баланс_по_возоб_счетам</th>\n",
       "      <th>особая_ситуация</th>\n",
       "      <th>тип_предоставления_кредита</th>\n",
       "    </tr>\n",
       "  </thead>\n",
       "  <tbody>\n",
       "    <tr>\n",
       "      <th>0</th>\n",
       "      <td>68355089</td>\n",
       "      <td>1,235,000.00</td>\n",
       "      <td>3 года</td>\n",
       "      <td>11.99</td>\n",
       "      <td>41,014.00</td>\n",
       "      <td>В</td>\n",
       "      <td>В1</td>\n",
       "      <td>инженер</td>\n",
       "      <td>10+ лет</td>\n",
       "      <td>ИПОТЕКА</td>\n",
       "      <td>...</td>\n",
       "      <td>7.70</td>\n",
       "      <td>0.00</td>\n",
       "      <td>0.00</td>\n",
       "      <td>15,700,850.00</td>\n",
       "      <td>1,973,750.00</td>\n",
       "      <td>3,965,000.00</td>\n",
       "      <td>1,233,350.00</td>\n",
       "      <td>NaN</td>\n",
       "      <td>Нет</td>\n",
       "      <td>Наличные</td>\n",
       "    </tr>\n",
       "    <tr>\n",
       "      <th>1</th>\n",
       "      <td>68341763</td>\n",
       "      <td>1,000,000.00</td>\n",
       "      <td>5 лет</td>\n",
       "      <td>10.78</td>\n",
       "      <td>21,633.00</td>\n",
       "      <td>Б</td>\n",
       "      <td>Б4</td>\n",
       "      <td>водитель грузовика</td>\n",
       "      <td>10+ лет</td>\n",
       "      <td>ИПОТЕКА</td>\n",
       "      <td>...</td>\n",
       "      <td>50.00</td>\n",
       "      <td>0.00</td>\n",
       "      <td>0.00</td>\n",
       "      <td>10,920,900.00</td>\n",
       "      <td>934,800.00</td>\n",
       "      <td>310,000.00</td>\n",
       "      <td>743,850.00</td>\n",
       "      <td>NaN</td>\n",
       "      <td>Нет</td>\n",
       "      <td>Наличные</td>\n",
       "    </tr>\n",
       "    <tr>\n",
       "      <th>2</th>\n",
       "      <td>68426831</td>\n",
       "      <td>597,500.00</td>\n",
       "      <td>3 года</td>\n",
       "      <td>13.44</td>\n",
       "      <td>20,259.00</td>\n",
       "      <td>В</td>\n",
       "      <td>В3</td>\n",
       "      <td>ветеринарный техник</td>\n",
       "      <td>4 года</td>\n",
       "      <td>АРЕНДА</td>\n",
       "      <td>...</td>\n",
       "      <td>100.00</td>\n",
       "      <td>0.00</td>\n",
       "      <td>0.00</td>\n",
       "      <td>845,000.00</td>\n",
       "      <td>639,900.00</td>\n",
       "      <td>470,000.00</td>\n",
       "      <td>200,000.00</td>\n",
       "      <td>NaN</td>\n",
       "      <td>Нет</td>\n",
       "      <td>Наличные</td>\n",
       "    </tr>\n",
       "    <tr>\n",
       "      <th>3</th>\n",
       "      <td>68476668</td>\n",
       "      <td>1,000,000.00</td>\n",
       "      <td>3 года</td>\n",
       "      <td>9.17</td>\n",
       "      <td>31,879.00</td>\n",
       "      <td>Б</td>\n",
       "      <td>Б2</td>\n",
       "      <td>вице-президент операций по набору персонала</td>\n",
       "      <td>10+ лет</td>\n",
       "      <td>ИПОТЕКА</td>\n",
       "      <td>...</td>\n",
       "      <td>100.00</td>\n",
       "      <td>0.00</td>\n",
       "      <td>0.00</td>\n",
       "      <td>19,442,600.00</td>\n",
       "      <td>5,838,100.00</td>\n",
       "      <td>1,575,000.00</td>\n",
       "      <td>2,322,600.00</td>\n",
       "      <td>NaN</td>\n",
       "      <td>Нет</td>\n",
       "      <td>Наличные</td>\n",
       "    </tr>\n",
       "    <tr>\n",
       "      <th>4</th>\n",
       "      <td>67275481</td>\n",
       "      <td>1,000,000.00</td>\n",
       "      <td>3 года</td>\n",
       "      <td>8.49</td>\n",
       "      <td>31,563.00</td>\n",
       "      <td>Б</td>\n",
       "      <td>Б1</td>\n",
       "      <td>дорожному водителю</td>\n",
       "      <td>10+ лет</td>\n",
       "      <td>ИПОТЕКА</td>\n",
       "      <td>...</td>\n",
       "      <td>0.00</td>\n",
       "      <td>0.00</td>\n",
       "      <td>0.00</td>\n",
       "      <td>9,669,500.00</td>\n",
       "      <td>1,396,850.00</td>\n",
       "      <td>725,000.00</td>\n",
       "      <td>1,807,200.00</td>\n",
       "      <td>NaN</td>\n",
       "      <td>Нет</td>\n",
       "      <td>Наличные</td>\n",
       "    </tr>\n",
       "  </tbody>\n",
       "</table>\n",
       "<p>5 rows × 109 columns</p>\n",
       "</div>"
      ],
      "text/plain": [
       "         id  сумма_займа срок_займа  процентная_ставка  аннуитет рейтинг  \\\n",
       "0  68355089 1,235,000.00     3 года              11.99 41,014.00       В   \n",
       "1  68341763 1,000,000.00      5 лет              10.78 21,633.00       Б   \n",
       "2  68426831   597,500.00     3 года              13.44 20,259.00       В   \n",
       "3  68476668 1,000,000.00     3 года               9.17 31,879.00       Б   \n",
       "4  67275481 1,000,000.00     3 года               8.49 31,563.00       Б   \n",
       "\n",
       "  допрейтинг                           профессия_заемщика     стаж  \\\n",
       "0         В1                                      инженер  10+ лет   \n",
       "1         Б4                           водитель грузовика  10+ лет   \n",
       "2         В3                          ветеринарный техник   4 года   \n",
       "3         Б2  вице-президент операций по набору персонала  10+ лет   \n",
       "4         Б1                           дорожному водителю  10+ лет   \n",
       "\n",
       "  владение_жильем  ...  процент_счетов_прев_75_лимита кол-во_публ_банкротств  \\\n",
       "0         ИПОТЕКА  ...                           7.70                   0.00   \n",
       "1         ИПОТЕКА  ...                          50.00                   0.00   \n",
       "2          АРЕНДА  ...                         100.00                   0.00   \n",
       "3         ИПОТЕКА  ...                         100.00                   0.00   \n",
       "4         ИПОТЕКА  ...                           0.00                   0.00   \n",
       "\n",
       "   кол-во_залогов  кредитный_лимит кредитный_баланс_без_ипотеки  \\\n",
       "0            0.00    15,700,850.00                 1,973,750.00   \n",
       "1            0.00    10,920,900.00                   934,800.00   \n",
       "2            0.00       845,000.00                   639,900.00   \n",
       "3            0.00    19,442,600.00                 5,838,100.00   \n",
       "4            0.00     9,669,500.00                 1,396,850.00   \n",
       "\n",
       "   лимит_по_картам лимит_по_аннуитетным_счетам  \\\n",
       "0     3,965,000.00                1,233,350.00   \n",
       "1       310,000.00                  743,850.00   \n",
       "2       470,000.00                  200,000.00   \n",
       "3     1,575,000.00                2,322,600.00   \n",
       "4       725,000.00                1,807,200.00   \n",
       "\n",
       "   кредитный_баланс_по_возоб_счетам  особая_ситуация  \\\n",
       "0                               NaN              Нет   \n",
       "1                               NaN              Нет   \n",
       "2                               NaN              Нет   \n",
       "3                               NaN              Нет   \n",
       "4                               NaN              Нет   \n",
       "\n",
       "  тип_предоставления_кредита  \n",
       "0                   Наличные  \n",
       "1                   Наличные  \n",
       "2                   Наличные  \n",
       "3                   Наличные  \n",
       "4                   Наличные  \n",
       "\n",
       "[5 rows x 109 columns]"
      ]
     },
     "execution_count": 1,
     "metadata": {},
     "output_type": "execute_result"
    }
   ],
   "source": [
    "import numpy as np\n",
    "import pandas as pd\n",
    "import seaborn as sns\n",
    "from scipy import stats\n",
    "import matplotlib.pyplot as plt\n",
    "pd.set_option('display.float_format', '{:,.2f}'.format)\n",
    "\n",
    "# Загрузка тренировочного датасета\n",
    "df = pd.read_csv('shift_ml_2025_train.csv')\n",
    "df.head()"
   ]
  },
  {
   "cell_type": "markdown",
   "id": "5eb0a657",
   "metadata": {},
   "source": [
    "## 1. 25‑й квантиль признака годовой_доход"
   ]
  },
  {
   "cell_type": "code",
   "execution_count": 2,
   "id": "2466fc40",
   "metadata": {},
   "outputs": [
    {
     "data": {
      "text/plain": [
       "np.float64(915200.0)"
      ]
     },
     "execution_count": 2,
     "metadata": {},
     "output_type": "execute_result"
    }
   ],
   "source": [
    "df['годовой_доход'].quantile(0.25)"
   ]
  },
  {
   "cell_type": "markdown",
   "id": "7e43edc5",
   "metadata": {},
   "source": [
    "## 2. Замена пропусков медианой в колонке годовой_доход"
   ]
  },
  {
   "cell_type": "markdown",
   "id": "81b9fe77",
   "metadata": {},
   "source": [
    "## 3. Строки, где итоговый_статус_займа = 1"
   ]
  },
  {
   "cell_type": "code",
   "execution_count": null,
   "id": "232c007b",
   "metadata": {},
   "outputs": [],
   "source": [
    "df['годовой_доход'] = df['годовой_доход'].fillna(df['годовой_доход'].median())"
   ]
  },
  {
   "cell_type": "code",
   "execution_count": null,
   "id": "06692fc3",
   "metadata": {},
   "outputs": [],
   "source": [
    "\n",
    "df1 = df[df['итоговый_статус_займа'] == 1]\n",
    "\n",
    "\n",
    "df2 = df.loc[df['итоговый_статус_займа'] == 1]\n",
    "\n",
    "# filter не работает для логической фильтрации по значениям\n",
    "# df.filter(итоговый_статус_займа.like=1) \n",
    "\n",
    "df3 = df.query(\"итоговый_статус_займа == 1\")\n"
   ]
  },
  {
   "cell_type": "markdown",
   "id": "952cc1f5",
   "metadata": {},
   "source": [
    "## 4. Корреляция между сумма_займа и годовой_доход"
   ]
  },
  {
   "cell_type": "code",
   "execution_count": 2,
   "id": "b1cc9ef8",
   "metadata": {},
   "outputs": [
    {
     "name": "stdout",
     "output_type": "stream",
     "text": [
      "Корреляция (вариант 1): 0.3119181397547345\n",
      "\n",
      "Корреляционная матрица (вариант 3):\n",
      "                сумма_займа  годовой_доход\n",
      "сумма_займа           1.00           0.31\n",
      "годовой_доход         0.31           1.00\n"
     ]
    }
   ],
   "source": [
    "# Вариант 1 — верный\n",
    "corr1 = df['сумма_займа'].corr(df['годовой_доход'])\n",
    "print(\"Корреляция (вариант 1):\", corr1)\n",
    "\n",
    "# Вариант 3 — тоже верный\n",
    "corr_matrix = df[['сумма_займа', 'годовой_доход']].corr()\n",
    "print(\"\\nКорреляционная матрица (вариант 3):\\n\", corr_matrix)\n",
    "\n",
    "# Вариант 2 — вызовет ошибку\n",
    "# df.corrwith('сумма_займа', 'годовой_доход')  # \n",
    "\n",
    "# Вариант 4 — не существует такой функции\n",
    "# pd.corr(df['сумма_займа'], df['годовой_доход'])  # \n"
   ]
  },
  {
   "cell_type": "markdown",
   "id": "63ccca7f",
   "metadata": {},
   "source": [
    "## 5. Средний итоговый_статус_займа в зависимости от рейтинга"
   ]
  },
  {
   "cell_type": "code",
   "execution_count": 3,
   "id": "5d972777",
   "metadata": {},
   "outputs": [
    {
     "data": {
      "text/plain": [
       "рейтинг\n",
       "А   0.06\n",
       "Б   0.13\n",
       "В   0.22\n",
       "Г   0.30\n",
       "Д   0.38\n",
       "Е   0.45\n",
       "Ж   0.50\n",
       "Name: итоговый_статус_займа, dtype: float64"
      ]
     },
     "execution_count": 3,
     "metadata": {},
     "output_type": "execute_result"
    }
   ],
   "source": [
    "df.groupby('рейтинг')['итоговый_статус_займа'].mean()"
   ]
  },
  {
   "cell_type": "markdown",
   "id": "c486805e",
   "metadata": {},
   "source": [
    "## 6. Как рассчитать 3-месячное скользящее среднее сумма_дефолта по регионам?\n",
    "\n",
    "Выбран вариант:\n",
    "`df.set_index('дата_выдачи_займа').groupby('регион')['сумма_дефолта'].rolling('90D').mean()`\n",
    "\n",
    "Комментарий:  \n",
    "Поскольку скользящее среднее должно рассчитываться по времени, важно, чтобы индексом была дата. В этом варианте группировка по регионам сохраняется, и rolling('90D') работает по дате. Остальные варианты либо не учитывают регионы, либо не работают с временным окном.\n"
   ]
  },
  {
   "cell_type": "code",
   "execution_count": null,
   "id": "bd5256ee",
   "metadata": {},
   "outputs": [],
   "source": [
    "df.set_index('дата_выдачи_займа').groupby('регион')['сумма_дефолта'].rolling('90D').mean()"
   ]
  },
  {
   "cell_type": "markdown",
   "id": "3431eaf0",
   "metadata": {},
   "source": [
    "## 7. Средняя сумма займа инженеров с рейтингом «Б»\n",
    "\n",
    "Код ниже фильтрует инженеров (профессия_заемщика == \"инженер\") с рейтингом «Б» и выводит среднюю `сумма_займа.\n"
   ]
  },
  {
   "cell_type": "code",
   "execution_count": 5,
   "id": "74a762bb",
   "metadata": {},
   "outputs": [
    {
     "data": {
      "text/plain": [
       "np.float64(772842.0256991686)"
      ]
     },
     "execution_count": 5,
     "metadata": {},
     "output_type": "execute_result"
    }
   ],
   "source": [
    "# Фильтруем инженеров с рейтингом \"Б\"\n",
    "eng_B = df[(df['профессия_заемщика'] == 'инженер') & (df['рейтинг'] == 'Б')]\n",
    "\n",
    "# Средняя сумма займа\n",
    "mean_loan = eng_B['сумма_займа'].mean()\n",
    "mean_loan\n"
   ]
  },
  {
   "cell_type": "markdown",
   "id": "c089bb6b",
   "metadata": {},
   "source": [
    "## 8. Признак с наибольшим числом пропусков\n"
   ]
  },
  {
   "cell_type": "code",
   "execution_count": 6,
   "id": "3ed043b9",
   "metadata": {},
   "outputs": [
    {
     "data": {
      "text/plain": [
       "дата_следующей_выплаты                               1210779\n",
       "кредитный_баланс_по_возоб_счетам                     1193971\n",
       "совокупный_статус_подтверждения_доходов_заемщиков    1187729\n",
       "совокупный_пдн_заемщиков                             1187548\n",
       "совокупный_доход_заемщиков                           1187546\n",
       "dtype: int64"
      ]
     },
     "execution_count": 6,
     "metadata": {},
     "output_type": "execute_result"
    }
   ],
   "source": [
    "# Считаем количество пропусков по каждому столбцу и сортируем по убыванию\n",
    "na_counts = df.isna().sum().sort_values(ascending=False)\n",
    "na_counts.head()\n"
   ]
  },
  {
   "cell_type": "markdown",
   "id": "548c5881",
   "metadata": {},
   "source": [
    "## 9. Уникальные значения признака тип_предоставления_кредита\n"
   ]
  },
  {
   "cell_type": "code",
   "execution_count": 7,
   "id": "794ac605",
   "metadata": {},
   "outputs": [
    {
     "data": {
      "text/plain": [
       "array(['Наличные', 'Перевод'], dtype=object)"
      ]
     },
     "execution_count": 7,
     "metadata": {},
     "output_type": "execute_result"
    }
   ],
   "source": [
    "# Список уникальных значений\n",
    "df['тип_предоставления_кредита'].dropna().unique()\n"
   ]
  },
  {
   "cell_type": "markdown",
   "id": "6f92ae7c",
   "metadata": {},
   "source": [
    "## 10. T-тест для рейтинга «Ж»\n",
    "\n",
    "Размеры групп ~4 000 записей, p-value = 0.33 (> 0.05)  \n",
    "→ различие средних статистически незначимо, нулевая гипотеза НЕ отвергается.\n",
    "\n"
   ]
  },
  {
   "cell_type": "code",
   "execution_count": 8,
   "id": "d93be2ec",
   "metadata": {},
   "outputs": [
    {
     "name": "stdout",
     "output_type": "stream",
     "text": [
      "Paid group size   : 4074\n",
      "Unpaid group size : 4118\n",
      "p-value = 0.330\n"
     ]
    }
   ],
   "source": [
    "from scipy import stats\n",
    "\n",
    "# Фильтруем рейтинг = 'Ж'\n",
    "mask = df['рейтинг'] == 'Ж'\n",
    "group_paid   = df[mask & (df['итоговый_статус_займа'] == 1)]['сумма_займа']\n",
    "group_unpaid = df[mask & (df['итоговый_статус_займа'] == 0)]['сумма_займа']\n",
    "\n",
    "# Размеры групп\n",
    "print(f\"Paid group size   : {len(group_paid)}\")\n",
    "print(f\"Unpaid group size : {len(group_unpaid)}\")\n",
    "\n",
    "# T-тест (Welch, т.к. дисперсии могут различаться)\n",
    "t_stat, p_val = stats.ttest_ind(group_paid, group_unpaid,\n",
    "                                equal_var=False, nan_policy='omit')\n",
    "print(f\"p-value = {p_val:.3f}\")\n"
   ]
  },
  {
   "cell_type": "markdown",
   "id": "ad13089f",
   "metadata": {},
   "source": [
    "## 11. Boxplot годового дохода по статусу займа"
   ]
  },
  {
   "cell_type": "code",
   "execution_count": 10,
   "id": "71837c3f",
   "metadata": {},
   "outputs": [
    {
     "data": {
      "image/png": "[encoded data removed]",
      "text/plain": [
       "<Figure size 600x400 with 1 Axes>"
      ]
     },
     "metadata": {},
     "output_type": "display_data"
    }
   ],
   "source": [
    "# Обрезаем по 99-му перцентилю, чтобы убрать экстремальные выбросы\n",
    "filtered_df = df[df['годовой_доход'] < df['годовой_доход'].quantile(0.99)]\n",
    "\n",
    "plt.figure(figsize=(6,4))\n",
    "sns.boxplot(x='итоговый_статус_займа', y='годовой_доход', data=filtered_df)\n",
    "plt.title('Годовой доход по статусу займа (до 99‑го перцентиля)')\n",
    "plt.show()\n",
    "\n"
   ]
  },
  {
   "cell_type": "markdown",
   "id": "06e1c84d",
   "metadata": {},
   "source": [
    "## 12. Почему accuracy = 0.95 при ROC AUC = 0.65?\n",
    "\n",
    "**Ответ:** сильный дисбаланс классов.\n",
    "\n",
    "Обоснование: при преобладании одного класса модель может почти всегда\n",
    "выдавать его, получая accuracy ≈ доля крупного класса (0.95),\n",
    "но ROC AUC остаётся низким (0.65), потому что различать оба класса\n",
    "модель умеет слабо.\n"
   ]
  },
  {
   "cell_type": "markdown",
   "id": "5aa30e14",
   "metadata": {},
   "source": [
    "## 13. Значение ROC AUC, указывающее на наилучшее качество предсказаний\n",
    "\n",
    "\n",
    "Объяснение:  \n",
    "ROC AUC показывает, насколько хорошо модель различает два класса.  \n",
    "Чем ближе к 1.0 тем лучше.\n",
    "\n",
    " 0.9  модель почти идеально отличает классы.\n",
    " 0.5  модель работает случайно, как подбрасывание монетки.\n",
    " 0.1 или 0 —модель всё путает или метки могли быть перепутаны.\n",
    "\n",
    "Поэтому **0.9** — наилучший результат среди предложенных.\n"
   ]
  },
  {
   "cell_type": "markdown",
   "id": "e628e736",
   "metadata": {},
   "source": [
    "## 14. Boxplot сумма_займа по рейтингам\n"
   ]
  },
  {
   "cell_type": "code",
   "execution_count": 11,
   "id": "0507f768",
   "metadata": {},
   "outputs": [
    {
     "data": {
      "image/png": "[encoded data removed]",
      "text/plain": [
       "<Figure size 800x400 with 1 Axes>"
      ]
     },
     "metadata": {},
     "output_type": "display_data"
    }
   ],
   "source": [
    "\n",
    "\n",
    "plt.figure(figsize=(8,4))\n",
    "sns.boxplot(\n",
    "    x='рейтинг',\n",
    "    y='сумма_займа',\n",
    "    data=df,\n",
    "    order=['В','Б','А','Д','Г','Е','Ж']  \n",
    ")\n",
    "plt.title('Сумма займа по рейтингу')\n",
    "plt.show()\n"
   ]
  }
 ],
 "metadata": {
  "kernelspec": {
   "display_name": "Python 3",
   "language": "python",
   "name": "python3"
  },
  "language_info": {
   "codemirror_mode": {
    "name": "ipython",
    "version": 3
   },
   "file_extension": ".py",
   "mimetype": "text/x-python",
   "name": "python",
   "nbconvert_exporter": "python",
   "pygments_lexer": "ipython3",
   "version": "3.9.10"
  }
 },
 "nbformat": 4,
 "nbformat_minor": 5
}
