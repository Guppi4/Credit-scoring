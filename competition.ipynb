{
 "cells": [
  {
   "cell_type": "markdown",
   "id": "db8126ba",
   "metadata": {},
   "source": [
    "\n",
    "## 1. Введение и Постановка Задачи\n",
    "\n",
    "**Цель:** Разработать модель бинарной классификации для предсказания целевой переменной на основе предоставленных данных о заемщиках.\n",
    "\n",
    "**Метрика качества:** ROC-AUC. \n",
    "\n",
    "**Подход:** я буду использовать градиентный бустинг (LightGBM) как наиболее эффективный алгоритм для табличных данных. Основной упор будет сделан на качественный разведочный анализ данных (EDA), генерацию сильных признаков (Feature Engineering) и надежную кросс-валидацию (Stratified K-Fold)."
   ]
  },
  {
   "cell_type": "markdown",
   "id": "e2472758",
   "metadata": {},
   "source": [
    "## 2. Настройка окружения и Загрузка библиотек"
   ]
  },
  {
   "cell_type": "code",
   "execution_count": 20,
   "id": "907936b3",
   "metadata": {},
   "outputs": [
    {
     "name": "stdout",
     "output_type": "stream",
     "text": [
      "Defaulting to user installation because normal site-packages is not writeable\n",
      "Requirement already satisfied: scikit-learn in c:\\users\\kiril\\appdata\\roaming\\python\\python39\\site-packages (1.6.1)\n",
      "Requirement already satisfied: numpy>=1.19.5 in c:\\users\\kiril\\appdata\\roaming\\python\\python39\\site-packages (from scikit-learn) (2.0.2)\n",
      "Requirement already satisfied: scipy>=1.6.0 in c:\\users\\kiril\\appdata\\roaming\\python\\python39\\site-packages (from scikit-learn) (1.13.1)\n",
      "Requirement already satisfied: joblib>=1.2.0 in c:\\users\\kiril\\appdata\\roaming\\python\\python39\\site-packages (from scikit-learn) (1.5.1)\n",
      "Requirement already satisfied: threadpoolctl>=3.1.0 in c:\\users\\kiril\\appdata\\roaming\\python\\python39\\site-packages (from scikit-learn) (3.6.0)\n"
     ]
    },
    {
     "name": "stderr",
     "output_type": "stream",
     "text": [
      "\n",
      "[notice] A new release of pip is available: 24.3.1 -> 25.1.1\n",
      "[notice] To update, run: python.exe -m pip install --upgrade pip\n"
     ]
    }
   ],
   "source": [
    "!pip install scikit-learn"
   ]
  },
  {
   "cell_type": "code",
   "execution_count": 21,
   "id": "e380a6e4",
   "metadata": {},
   "outputs": [
    {
     "name": "stdout",
     "output_type": "stream",
     "text": [
      "Defaulting to user installation because normal site-packages is not writeable\n",
      "Requirement already satisfied: lightgbm in c:\\users\\kiril\\appdata\\roaming\\python\\python39\\site-packages (4.6.0)\n",
      "Requirement already satisfied: numpy>=1.17.0 in c:\\users\\kiril\\appdata\\roaming\\python\\python39\\site-packages (from lightgbm) (2.0.2)\n",
      "Requirement already satisfied: scipy in c:\\users\\kiril\\appdata\\roaming\\python\\python39\\site-packages (from lightgbm) (1.13.1)\n"
     ]
    },
    {
     "name": "stderr",
     "output_type": "stream",
     "text": [
      "\n",
      "[notice] A new release of pip is available: 24.3.1 -> 25.1.1\n",
      "[notice] To update, run: python.exe -m pip install --upgrade pip\n"
     ]
    }
   ],
   "source": [
    "!pip install lightgbm"
   ]
  },
  {
   "cell_type": "code",
   "execution_count": 22,
   "id": "256ec46e",
   "metadata": {},
   "outputs": [],
   "source": [
    "import pandas as pd\n",
    "import numpy as np\n",
    "import matplotlib.pyplot as plt\n",
    "import seaborn as sns\n",
    "import gc\n",
    "import warnings\n",
    "import re\n",
    "from datetime import datetime\n",
    "import time\n",
    "\n",
    "# Моделирование и оценка\n",
    "from sklearn.model_selection import StratifiedKFold\n",
    "# from sklearn.preprocessing import LabelEncoder # Не используем, так как LGBM поддерживает категории нативно\n",
    "from sklearn.metrics import roc_auc_score\n",
    "import lightgbm as lgb\n",
    "\n",
    "# Настройки\n",
    "warnings.filterwarnings('ignore')\n",
    "# Увеличиваем лимит отображаемых колонок, так как их много\n",
    "pd.set_option('display.max_columns', 150)\n",
    "pd.set_option('display.float_format', lambda x: '{:.5f}'.format(x)) # Отображение чисел без научной нотации\n",
    "sns.set(style=\"whitegrid\")\n",
    "\n",
    "# Константы для воспроизводимости и настройки\n",
    "RANDOM_STATE = 42\n",
    "N_SPLITS = 5 # Количество фолдов для кросс-валидации. Оптимально для большинства задач.\n",
    "# Используем большое число итераций и Early Stopping для определения оптимального количества деревьев\n",
    "N_ESTIMATORS = 5000\n",
    "EARLY_STOPPING_ROUNDS = 150\n",
    "VERBOSE = False # Отключаем подробный вывод во время обучения\n",
    "# Используем предполагаемую текущую дату из контекста для расчета давности событий\n",
    "REFERENCE_DATE = datetime(2025, 8, 1)"
   ]
  },
  {
   "cell_type": "markdown",
   "id": "729f3398",
   "metadata": {},
   "source": [
    "## 3. Загрузка данных\n",
    "\n",
    "Загружаем тренировочные и тестовые данные. На больших датасетах.\n"
   ]
  },
  {
   "cell_type": "code",
   "execution_count": 23,
   "id": "2dcc0e56",
   "metadata": {},
   "outputs": [
    {
     "name": "stdout",
     "output_type": "stream",
     "text": [
      "Конвертация числовых строк в numeric...\n",
      "  Конвертировано колонок: 0\n",
      "Конвертация числовых строк в numeric...\n",
      "  Конвертировано колонок: 0\n",
      "\n",
      "Реальные данные загружены и обработаны. Train: (1210779, 109), Test: (134531, 108)\n"
     ]
    }
   ],
   "source": [
    "\n",
    "# --- КОНФИГУРАЦИЯ ---\n",
    "TRAIN_FILE_PATH = 'shift_ml_2025_train.csv'\n",
    "TEST_FILE_PATH = 'shift_ml_2025_test.csv'\n",
    "TARGET_NAME = 'итоговый_статус_займа'\n",
    "ID_COLUMN = 'id'\n",
    "# --------------------\n",
    "\n",
    "# !!! Итерация 4: Функция для очистки числовых строк (Чек-лист №4) !!!\n",
    "def convert_numeric_strings(df):\n",
    "    print(\"Конвертация числовых строк в numeric...\")\n",
    "    converted_count = 0\n",
    "    # Выбираем колонки типа object\n",
    "    for c in df.select_dtypes('object').columns:\n",
    "        # Заменяем запятые на точки (если они используются как разделители)\n",
    "        tmp = df[c].astype(str).str.replace(',', '.')\n",
    "        \n",
    "        # Проверяем, состоит ли колонка в основном из чисел (регулярное выражение)\n",
    "        # Если >80% строк похожи на числа, конвертируем\n",
    "        if tmp.str.match(r'^-?\\d+\\.?\\d*$', na=False).mean() > 0.8:\n",
    "            # Конвертируем в число, ошибки превращаем в NaN (errors='coerce')\n",
    "            df[c] = pd.to_numeric(tmp, errors='coerce')\n",
    "            converted_count += 1\n",
    "    print(f\"  Конвертировано колонок: {converted_count}\")\n",
    "    return df\n",
    "\n",
    "try:\n",
    "    # Используем low_memory=False для надежности\n",
    "    train_df = pd.read_csv(TRAIN_FILE_PATH, low_memory=False)\n",
    "    test_df = pd.read_csv(TEST_FILE_PATH, low_memory=False)\n",
    "    \n",
    "    # Применяем конвертацию\n",
    "    train_df = convert_numeric_strings(train_df)\n",
    "    test_df = convert_numeric_strings(test_df)\n",
    "\n",
    "    print(f\"\\nРеальные данные загружены и обработаны. Train: {train_df.shape}, Test: {test_df.shape}\")\n",
    "\n",
    "except FileNotFoundError:\n",
    "    print(f\"Ошибка: Файлы не найдены по указанным путям.\")\n",
    "except Exception as e:\n",
    "    print(f\"Произошла ошибка при загрузке: {e}\")\n",
    "\n"
   ]
  },
  {
   "cell_type": "markdown",
   "id": "8faef53a",
   "metadata": {},
   "source": [
    "## 3.1. Добавление класса для Target Encoding"
   ]
  },
  {
   "cell_type": "code",
   "execution_count": 24,
   "id": "216f1f94",
   "metadata": {},
   "outputs": [
    {
     "name": "stdout",
     "output_type": "stream",
     "text": [
      "Класс TargetEncoder обновлен (с smoothing и min_count).\n"
     ]
    }
   ],
   "source": [
    "# Вспомогательный класс для K-Fold Target Encoding с сглаживанием и минимальным порогом\n",
    "class TargetEncoder:\n",
    "    # !!! Итерация 3: Уменьшили smoothing по умолчанию и добавили min_count !!!\n",
    "    def __init__(self, cols, smoothing=5.0, min_count=10):\n",
    "        self.cols = cols\n",
    "        self.smoothing = smoothing\n",
    "        self.min_count = min_count # Категории с количеством меньше min_count получат глобальное среднее\n",
    "        self.global_mean = None\n",
    "        self.maps = {}\n",
    "\n",
    "    def fit(self, X, y):\n",
    "        X = X.astype(str)\n",
    "        self.global_mean = y.mean()\n",
    "        for col in self.cols:\n",
    "            if col in X.columns:\n",
    "                stats = y.groupby(X[col]).agg(['mean', 'count'])\n",
    "                \n",
    "                # !!! Фильтр: игнорируем редкие категории\n",
    "                stats = stats[stats['count'] >= self.min_count]\n",
    "                \n",
    "                # Расчет сглаженного среднего\n",
    "                smooth = (stats['count'] * stats['mean'] + self.smoothing * self.global_mean) / (stats['count'] + self.smoothing)\n",
    "                self.maps[col] = smooth\n",
    "\n",
    "    def transform(self, X):\n",
    "        X = X.astype(str)\n",
    "        X_encoded = pd.DataFrame(index=X.index)\n",
    "        for col in self.cols:\n",
    "            if col in X.columns and col in self.maps:\n",
    "                # Применяем маппинг. Новые или редкие (отфильтрованные) категории заполняем глобальным средним.\n",
    "                X_encoded[f'{col}_TE'] = X[col].map(self.maps[col]).fillna(self.global_mean)\n",
    "        return X_encoded\n",
    "\n",
    "print(\"Класс TargetEncoder обновлен (с smoothing и min_count).\")"
   ]
  },
  {
   "cell_type": "markdown",
   "id": "e9c4206a",
   "metadata": {},
   "source": [
    "## 4. EDA (Разведочный анализ данных)\n",
    "\n",
    "### 4.1. Анализ целевой переменной\n",
    "\n",
    "Оценим баланс классов."
   ]
  },
  {
   "cell_type": "code",
   "execution_count": 25,
   "id": "c6a3e307",
   "metadata": {},
   "outputs": [
    {
     "data": {
      "image/png": "[encoded data removed]",
      "text/plain": [
       "<Figure size 600x400 with 1 Axes>"
      ]
     },
     "metadata": {},
     "output_type": "display_data"
    },
    {
     "name": "stdout",
     "output_type": "stream",
     "text": [
      "Распределение классов (%):\n",
      "итоговый_статус_займа\n",
      "0   80.03814\n",
      "1   19.96186\n",
      "Name: proportion, dtype: float64\n"
     ]
    }
   ],
   "source": [
    "plt.figure(figsize=(6, 4))\n",
    "sns.countplot(x=TARGET_NAME, data=train_df)\n",
    "plt.title('Распределение целевой переменной')\n",
    "plt.show()\n",
    "\n",
    "print(\"Распределение классов (%):\")\n",
    "print(train_df[TARGET_NAME].value_counts(normalize=True) * 100)"
   ]
  },
  {
   "cell_type": "markdown",
   "id": "80ad1ec4",
   "metadata": {},
   "source": [
    "### 4.2. Анализ пропущенных значений\n",
    "\n",
    "Определим, какие признаки содержат много пропусков. Это влияет на  заполнения  или удаления признаков."
   ]
  },
  {
   "cell_type": "code",
   "execution_count": 26,
   "id": "0600bcb9",
   "metadata": {},
   "outputs": [
    {
     "name": "stdout",
     "output_type": "stream",
     "text": [
      "Топ-20 признаков с пропусками в Train:\n"
     ]
    },
    {
     "data": {
      "text/html": [
       "<div>\n",
       "<style scoped>\n",
       "    .dataframe tbody tr th:only-of-type {\n",
       "        vertical-align: middle;\n",
       "    }\n",
       "\n",
       "    .dataframe tbody tr th {\n",
       "        vertical-align: top;\n",
       "    }\n",
       "\n",
       "    .dataframe thead th {\n",
       "        text-align: right;\n",
       "    }\n",
       "</style>\n",
       "<table border=\"1\" class=\"dataframe\">\n",
       "  <thead>\n",
       "    <tr style=\"text-align: right;\">\n",
       "      <th></th>\n",
       "      <th>Кол-во пропусков</th>\n",
       "      <th>% от общего числа</th>\n",
       "    </tr>\n",
       "  </thead>\n",
       "  <tbody>\n",
       "    <tr>\n",
       "      <th>дата_следующей_выплаты</th>\n",
       "      <td>1210779</td>\n",
       "      <td>100.00000</td>\n",
       "    </tr>\n",
       "    <tr>\n",
       "      <th>кредитный_баланс_по_возоб_счетам</th>\n",
       "      <td>1193971</td>\n",
       "      <td>98.60000</td>\n",
       "    </tr>\n",
       "    <tr>\n",
       "      <th>совокупный_статус_подтверждения_доходов_заемщиков</th>\n",
       "      <td>1187729</td>\n",
       "      <td>98.10000</td>\n",
       "    </tr>\n",
       "    <tr>\n",
       "      <th>совокупный_пдн_заемщиков</th>\n",
       "      <td>1187548</td>\n",
       "      <td>98.10000</td>\n",
       "    </tr>\n",
       "    <tr>\n",
       "      <th>совокупный_доход_заемщиков</th>\n",
       "      <td>1187546</td>\n",
       "      <td>98.10000</td>\n",
       "    </tr>\n",
       "    <tr>\n",
       "      <th>кол-во_месяцев_с_последнего_займа</th>\n",
       "      <td>1005117</td>\n",
       "      <td>83.00000</td>\n",
       "    </tr>\n",
       "    <tr>\n",
       "      <th>кол-во_мес_с_последней_задолженности_по_карте</th>\n",
       "      <td>923517</td>\n",
       "      <td>76.30000</td>\n",
       "    </tr>\n",
       "    <tr>\n",
       "      <th>кол-во_месяцев_с_последнего_нарушения</th>\n",
       "      <td>892120</td>\n",
       "      <td>73.70000</td>\n",
       "    </tr>\n",
       "    <tr>\n",
       "      <th>кол-во_мес_с_последней_задолженности_по_возобновляемому_счету</th>\n",
       "      <td>805599</td>\n",
       "      <td>66.50000</td>\n",
       "    </tr>\n",
       "    <tr>\n",
       "      <th>соотношение_сумм_текущего_баланса_к_лимиту_по_аннуитетным_счетам</th>\n",
       "      <td>792391</td>\n",
       "      <td>65.40000</td>\n",
       "    </tr>\n",
       "    <tr>\n",
       "      <th>кол-во_месяцев_с_посл_аннуитетного_счета</th>\n",
       "      <td>739709</td>\n",
       "      <td>61.10000</td>\n",
       "    </tr>\n",
       "    <tr>\n",
       "      <th>соотношение_баланса_к_лимиту_общее</th>\n",
       "      <td>726952</td>\n",
       "      <td>60.00000</td>\n",
       "    </tr>\n",
       "    <tr>\n",
       "      <th>кол-во_открытых_счетов_за_полгода</th>\n",
       "      <td>726902</td>\n",
       "      <td>60.00000</td>\n",
       "    </tr>\n",
       "    <tr>\n",
       "      <th>кол-во_заявок_на_кредит_за_год</th>\n",
       "      <td>726902</td>\n",
       "      <td>60.00000</td>\n",
       "    </tr>\n",
       "    <tr>\n",
       "      <th>кол-во_финансовых_операций</th>\n",
       "      <td>726902</td>\n",
       "      <td>60.00000</td>\n",
       "    </tr>\n",
       "    <tr>\n",
       "      <th>кол-во_финансовых_запросов</th>\n",
       "      <td>726901</td>\n",
       "      <td>60.00000</td>\n",
       "    </tr>\n",
       "    <tr>\n",
       "      <th>текущий_баланс_по_аннуитетным_счетам</th>\n",
       "      <td>726901</td>\n",
       "      <td>60.00000</td>\n",
       "    </tr>\n",
       "    <tr>\n",
       "      <th>кол-во_возоб_счетов_за_2_года</th>\n",
       "      <td>726901</td>\n",
       "      <td>60.00000</td>\n",
       "    </tr>\n",
       "    <tr>\n",
       "      <th>макс_баланс_по_возоб_счетам</th>\n",
       "      <td>726901</td>\n",
       "      <td>60.00000</td>\n",
       "    </tr>\n",
       "    <tr>\n",
       "      <th>кол-во_возоб_счетов_за_год</th>\n",
       "      <td>726901</td>\n",
       "      <td>60.00000</td>\n",
       "    </tr>\n",
       "  </tbody>\n",
       "</table>\n",
       "</div>"
      ],
      "text/plain": [
       "                                                    Кол-во пропусков  \\\n",
       "дата_следующей_выплаты                                       1210779   \n",
       "кредитный_баланс_по_возоб_счетам                             1193971   \n",
       "совокупный_статус_подтверждения_доходов_заемщиков            1187729   \n",
       "совокупный_пдн_заемщиков                                     1187548   \n",
       "совокупный_доход_заемщиков                                   1187546   \n",
       "кол-во_месяцев_с_последнего_займа                            1005117   \n",
       "кол-во_мес_с_последней_задолженности_по_карте                 923517   \n",
       "кол-во_месяцев_с_последнего_нарушения                         892120   \n",
       "кол-во_мес_с_последней_задолженности_по_возобно...            805599   \n",
       "соотношение_сумм_текущего_баланса_к_лимиту_по_а...            792391   \n",
       "кол-во_месяцев_с_посл_аннуитетного_счета                      739709   \n",
       "соотношение_баланса_к_лимиту_общее                            726952   \n",
       "кол-во_открытых_счетов_за_полгода                             726902   \n",
       "кол-во_заявок_на_кредит_за_год                                726902   \n",
       "кол-во_финансовых_операций                                    726902   \n",
       "кол-во_финансовых_запросов                                    726901   \n",
       "текущий_баланс_по_аннуитетным_счетам                          726901   \n",
       "кол-во_возоб_счетов_за_2_года                                 726901   \n",
       "макс_баланс_по_возоб_счетам                                   726901   \n",
       "кол-во_возоб_счетов_за_год                                    726901   \n",
       "\n",
       "                                                    % от общего числа  \n",
       "дата_следующей_выплаты                                      100.00000  \n",
       "кредитный_баланс_по_возоб_счетам                             98.60000  \n",
       "совокупный_статус_подтверждения_доходов_заемщиков            98.10000  \n",
       "совокупный_пдн_заемщиков                                     98.10000  \n",
       "совокупный_доход_заемщиков                                   98.10000  \n",
       "кол-во_месяцев_с_последнего_займа                            83.00000  \n",
       "кол-во_мес_с_последней_задолженности_по_карте                76.30000  \n",
       "кол-во_месяцев_с_последнего_нарушения                        73.70000  \n",
       "кол-во_мес_с_последней_задолженности_по_возобно...           66.50000  \n",
       "соотношение_сумм_текущего_баланса_к_лимиту_по_а...           65.40000  \n",
       "кол-во_месяцев_с_посл_аннуитетного_счета                     61.10000  \n",
       "соотношение_баланса_к_лимиту_общее                           60.00000  \n",
       "кол-во_открытых_счетов_за_полгода                            60.00000  \n",
       "кол-во_заявок_на_кредит_за_год                               60.00000  \n",
       "кол-во_финансовых_операций                                   60.00000  \n",
       "кол-во_финансовых_запросов                                   60.00000  \n",
       "текущий_баланс_по_аннуитетным_счетам                         60.00000  \n",
       "кол-во_возоб_счетов_за_2_года                                60.00000  \n",
       "макс_баланс_по_возоб_счетам                                  60.00000  \n",
       "кол-во_возоб_счетов_за_год                                   60.00000  "
      ]
     },
     "metadata": {},
     "output_type": "display_data"
    }
   ],
   "source": [
    "def missing_values_table(df):\n",
    "    mis_val = df.isnull().sum()\n",
    "    mis_val_percent = 100 * df.isnull().sum() / len(df)\n",
    "    mis_val_table = pd.concat([mis_val, mis_val_percent], axis=1)\n",
    "    mis_val_table_ren_columns = mis_val_table.rename(\n",
    "    columns = {0 : 'Кол-во пропусков', 1 : '% от общего числа'})\n",
    "    # Сортировка по убыванию процента пропусков\n",
    "    mis_val_table_ren_columns = mis_val_table_ren_columns[\n",
    "        mis_val_table_ren_columns.iloc[:,1] != 0].sort_values(\n",
    "    '% от общего числа', ascending=False).round(1)\n",
    "    return mis_val_table_ren_columns\n",
    "\n",
    "print(\"Топ-20 признаков с пропусками в Train:\")\n",
    "missing_stats = missing_values_table(train_df)\n",
    "display(missing_stats.head(20))"
   ]
  },
  {
   "cell_type": "markdown",
   "id": "ee61b786",
   "metadata": {},
   "source": [
    "### 4.2.1. Удаление признаков с высокой долей пропусков и потенциальных утечек\n",
    "\n",
    "На основе анализа пропусков, мы удалим признаки, заполненные менее чем на 5%.\n",
    "\n",
    "Также, признак `пени_за_дефолт` показал аномально высокую важность. Это сильный индикатор **утечки данных (Data Leak)**. Мы обязаны его удалить для построения корректной модели."
   ]
  },
  {
   "cell_type": "code",
   "execution_count": 27,
   "id": "73d02618",
   "metadata": {},
   "outputs": [
    {
     "name": "stdout",
     "output_type": "stream",
     "text": [
      "Количество признаков для удаления (>95% пропусков): 5\n",
      "Удаляем потенциальные утечки: ['пени_за_дефолт']\n"
     ]
    }
   ],
   "source": [
    "# 1. Определение признаков с слишком большим количеством пропусков\n",
    "MISSING_THRESHOLD = 95 # Удаляем все, что выше 95%\n",
    "# Используем статистику missing_stats, рассчитанную ранее в Ячейке 10\n",
    "cols_to_drop_missing = missing_stats[missing_stats['% от общего числа'] > MISSING_THRESHOLD].index.tolist()\n",
    "print(f\"Количество признаков для удаления (>{MISSING_THRESHOLD}% пропусков): {len(cols_to_drop_missing)}\")\n",
    "\n",
    "# 2. Определение потенциальных утечек\n",
    "cols_to_drop_leaks = ['пени_за_дефолт']\n",
    "print(f\"Удаляем потенциальные утечки: {cols_to_drop_leaks}\")\n",
    "\n",
    "# Финальный список на удаление\n",
    "COLS_TO_DROP = list(set(cols_to_drop_missing + cols_to_drop_leaks))\n",
    "\n",
    "# Функция для удаления этих признаков (будет применена позже при объединении)\n",
    "def drop_useless_features(df, cols_to_drop):\n",
    "    # Убедимся, что колонки существуют перед удалением (игнорируем таргет, если он попал в список)\n",
    "    # TARGET_NAME может не быть определен, если вы запускаете ячейки не по порядку, но мы его защитим.\n",
    "    target_name = globals().get('TARGET_NAME', 'default_target_name')\n",
    "    \n",
    "    cols_exist = [col for col in cols_to_drop if col in df.columns and col != target_name]\n",
    "    df = df.drop(columns=cols_exist)\n",
    "    return df"
   ]
  },
  {
   "cell_type": "markdown",
   "id": "32d0fbcc",
   "metadata": {},
   "source": [
    "### 4.3. Анализ типов признаков и Кардинальности\n",
    "\n",
    "Разделим признаки на числовые и категориальные и оценим количество уникальных значений  в категориальных."
   ]
  },
  {
   "cell_type": "code",
   "execution_count": 28,
   "id": "7e04cd65",
   "metadata": {},
   "outputs": [
    {
     "name": "stdout",
     "output_type": "stream",
     "text": [
      "Числовые признаки: 88\n",
      "Категориальные признаки: 19\n",
      "\n",
      "Кардинальность категориальных признаков (Топ-15):\n"
     ]
    },
    {
     "data": {
      "text/plain": [
       "профессия_заемщика                                   273666\n",
       "дата_первого_займа                                      738\n",
       "регион                                                   51\n",
       "допрейтинг                                               35\n",
       "цель_займа                                               14\n",
       "стаж                                                     11\n",
       "рейтинг                                                   7\n",
       "владение_жильем                                           6\n",
       "совокупный_статус_подтверждения_доходов_заемщиков         3\n",
       "пос_стоп_фактор                                           3\n",
       "подтвержден_ли_доход                                      3\n",
       "срок_займа                                                2\n",
       "пени_за_дефолт                                            2\n",
       "первоначальный_статус_займа                               2\n",
       "юридический_статус                                        2\n",
       "dtype: int64"
      ]
     },
     "metadata": {},
     "output_type": "display_data"
    }
   ],
   "source": [
    "features = [col for col in train_df.columns if col not in [ID_COLUMN, TARGET_NAME]]\n",
    "categorical_features = train_df[features].select_dtypes(include=['object', 'category']).columns\n",
    "numerical_features = train_df[features].select_dtypes(include=np.number).columns\n",
    "\n",
    "print(f\"Числовые признаки: {len(numerical_features)}\")\n",
    "print(f\"Категориальные признаки: {len(categorical_features)}\")\n",
    "\n",
    "print(\"\\nКардинальность категориальных признаков (Топ-15):\")\n",
    "cardinality = train_df[categorical_features].nunique().sort_values(ascending=False)\n",
    "display(cardinality.head(15))"
   ]
  },
  {
   "cell_type": "markdown",
   "id": "2ad5ab6f",
   "metadata": {},
   "source": [
    "## 5. Feature Engineering и Предобработка\n",
    "\n",
    "Это ключевой этап для достижения высокого скора. Мы объединим train и test для консистентной обработки признаков, что предотвращает утечки данных и гарантирует наличие одинаковых колонок в обеих выборках."
   ]
  },
  {
   "cell_type": "code",
   "execution_count": 29,
   "id": "81491376",
   "metadata": {},
   "outputs": [
    {
     "name": "stdout",
     "output_type": "stream",
     "text": [
      "Объединенный размер данных до FE и очистки: (1345310, 108)\n",
      "Размер после удаления бесполезных признаков и утечек: (1345310, 102)\n"
     ]
    },
    {
     "data": {
      "text/plain": [
       "354"
      ]
     },
     "execution_count": 29,
     "metadata": {},
     "output_type": "execute_result"
    }
   ],
   "source": [
    "# Сохраняем ID и таргет\n",
    "train_ids = train_df[ID_COLUMN]\n",
    "test_ids = test_df[ID_COLUMN]\n",
    "train_target = train_df[TARGET_NAME]\n",
    "\n",
    "# Удаляем ID и Target перед объединением\n",
    "train_df_processed = train_df.drop(columns=[ID_COLUMN, TARGET_NAME])\n",
    "# Используем errors='ignore' на случай, если в тестовом файле нет колонки ID (хотя она должна быть)\n",
    "test_df_processed = test_df.drop(columns=[ID_COLUMN], errors='ignore') \n",
    "\n",
    "# Добавляем метку для последующего разделения\n",
    "train_df_processed['is_train'] = 1\n",
    "test_df_processed['is_train'] = 0\n",
    "\n",
    "# Объединяем\n",
    "df = pd.concat([train_df_processed, test_df_processed], ignore_index=True)\n",
    "\n",
    "print(f\"Объединенный размер данных до FE и очистки: {df.shape}\")\n",
    "\n",
    "# !!! НОВОЕ: Применяем удаление бесполезных признаков и утечек !!!\n",
    "df = drop_useless_features(df, COLS_TO_DROP)\n",
    "print(f\"Размер после удаления бесполезных признаков и утечек: {df.shape}\")\n",
    "\n",
    "# Очистка памяти от исходных датафреймов\n",
    "del train_df, test_df, train_df_processed, test_df_processed\n",
    "gc.collect()"
   ]
  },
  {
   "cell_type": "markdown",
   "id": "989ad9a0",
   "metadata": {},
   "source": [
    "### 5.1. Очистка и Преобразование признаков\n",
    "\n",
    "Напишем функцию для обработки \"сырых\" данных. Это обеспечивает структурированность и воспроизводимость кода. Мы фокусируемся на обработке дат, стажа, сроков и информативных пропусков."
   ]
  },
  {
   "cell_type": "code",
   "execution_count": 31,
   "id": "03fa21ec",
   "metadata": {},
   "outputs": [
    {
     "name": "stdout",
     "output_type": "stream",
     "text": [
      "Начало очистки признаков...\n",
      "Creating NaN flags for 3 columns (>70% missing)...\n",
      "Found 3 delinquency recency columns (Regex).\n",
      "Очистка признаков завершена.\n"
     ]
    }
   ],
   "source": [
    "def clean_features(df):\n",
    "    print(\"Начало очистки признаков...\")\n",
    "\n",
    "    # !!! Iteration 4 (Checklist #5): Add NaN flags for columns with >70% missing values\n",
    "    # Do this at the beginning, before filling missing values.\n",
    "    NAN_FLAG_THRESHOLD = 0.7\n",
    "    # Calculate missing value ratios\n",
    "    missing_ratios = df.isna().mean()\n",
    "    hi_missing_cols = missing_ratios[missing_ratios > NAN_FLAG_THRESHOLD].index\n",
    "\n",
    "    print(f\"Creating NaN flags for {len(hi_missing_cols)} columns (>{NAN_FLAG_THRESHOLD*100:.0f}% missing)...\")\n",
    "    for c in hi_missing_cols:\n",
    "        # Protect against creating flags for system columns (e.g., 'is_train')\n",
    "        if c in df.columns and c != 'is_train':\n",
    "            df[f'{c}_isnan'] = df[c].isna().astype(int)\n",
    "\n",
    "    # 1. Process 'стаж'\n",
    "    if 'стаж' in df.columns:\n",
    "        df['стаж_лет'] = df['стаж'].replace({'< 1 года': 0, '10+ лет': 10})\n",
    "        # Check if already numeric after step 1\n",
    "        if pd.api.types.is_object_dtype(df['стаж_лет']):\n",
    "            df['стаж_лет'] = df['стаж_лет'].str.extract('(\\d+)').astype(float)\n",
    "        else:\n",
    "            df['стаж_лет'] = df['стаж_лет'].astype(float)\n",
    "        df['стаж_пропущен'] = df['стаж_лет'].isnull().astype(int)\n",
    "\n",
    "    # 2. Process 'срок_займа' (Iteration 4: Checklist #2 fix)\n",
    "    if 'срок_займа' in df.columns:\n",
    "        raw = df['срок_займа'].astype(str)\n",
    "        val = raw.str.extract('(\\d+)').astype(float).iloc[:, 0]\n",
    "        is_months = raw.str.contains('ме', case=False, na=False)\n",
    "        df['срок_займа_мес'] = np.where(is_months, val, val * 12)\n",
    "\n",
    "    # 3. Process dates ('дата_первого_займа')\n",
    "    if 'дата_первого_займа' in df.columns:\n",
    "        try:\n",
    "            df['дата_первого_займа_dt'] = pd.to_datetime(df['дата_первого_займа'], format='%m-%Y', errors='coerce')\n",
    "        except Exception:\n",
    "            df['дата_первого_займа_dt'] = pd.to_datetime(df['дата_первого_займа'], errors='coerce')\n",
    "        if 'дата_первого_займа_dt' in df.columns:\n",
    "            df['давность_первого_займа_мес'] = (\n",
    "                (REFERENCE_DATE.year - df['дата_первого_займа_dt'].dt.year) * 12 +\n",
    "                (REFERENCE_DATE.month - df['дата_первого_займа_dt'].dt.month)\n",
    "            )\n",
    "            df = df.drop('дата_первого_займа_dt', axis=1)\n",
    "\n",
    "    # 4. Process missing values in delinquency history (Iteration 4: Checklist #3)\n",
    "    # Use regex to find all columns related to delinquency/violation recency\n",
    "    regex_pattern = r'последн.*(просрочк|нарушен)'\n",
    "    cols_delinquency = [col for col in df.columns if re.search(regex_pattern, col, re.IGNORECASE)]\n",
    "    print(f\"Found {len(cols_delinquency)} delinquency recency columns (Regex).\")\n",
    "    for col in cols_delinquency:\n",
    "        # Create binary event indicator\n",
    "        df[f'{col}_флаг_события'] = df[col].notna().astype(int)\n",
    "        # Fill missing with large value (9999)\n",
    "        df[col] = df[col].fillna(9999)\n",
    "\n",
    "    # 5. Process ratings (same as Iteration 3)\n",
    "    grade_map = {'А': 7, 'Б': 6, 'В': 5, 'Г': 4, 'Д': 3, 'Е': 2, 'Ж': 1}\n",
    "    if 'рейтинг' in df.columns:\n",
    "        df['рейтинг_числовой'] = df['рейтинг'].map(grade_map)\n",
    "\n",
    "    # Simplified encoding for 'допрейтинг' (same as Iteration 3)\n",
    "    if 'допрейтинг' in df.columns:\n",
    "        df['допрейтинг_temp'] = df['допрейтинг'].astype(str).fillna('MISSING')\n",
    "        df['допрейтинг_буква_ordinal'] = df['допрейтинг_temp'].str[0].map(grade_map).fillna(0)\n",
    "        df['допрейтинг_цифра_numeric'] = pd.to_numeric(df['допрейтинг_temp'].str[1:], errors='coerce').fillna(0)\n",
    "        df['допрейтинг_цифра_log'] = np.log1p(df['допрейтинг_цифра_numeric'])\n",
    "        df = df.drop(columns=['допрейтинг_temp'], errors='ignore')\n",
    "\n",
    "    # Remove original columns that were transformed\n",
    "    cols_to_drop = ['стаж', 'срок_займа', 'дата_первого_займа']\n",
    "    df = df.drop(columns=[col for col in cols_to_drop if col in df.columns])\n",
    "\n",
    "    print(\"Очистка признаков завершена.\")\n",
    "    return df\n",
    "\n",
    "df = clean_features(df)"
   ]
  },
  {
   "cell_type": "markdown",
   "id": "b11cb09c",
   "metadata": {},
   "source": [
    "### 5.2. Генерация Новых Признаков (Feature Engineering)\n",
    "\n",
    "Используем знания предметной области (кредитный скоринг) для создания новых, более сильных предикторов. Отношения между финансовыми показателями часто работают лучше, чем абсолютные значения."
   ]
  },
  {
   "cell_type": "code",
   "execution_count": 32,
   "id": "58dd68e6",
   "metadata": {},
   "outputs": [
    {
     "name": "stdout",
     "output_type": "stream",
     "text": [
      "Начало генерации признаков...\n",
      "Генерация признаков завершена.\n",
      "\n",
      "Размер данных после Feature Engineering: (1345310, 134)\n"
     ]
    }
   ],
   "source": [
    "def generate_features(df):\n",
    "    print(\"Начало генерации признаков...\")\n",
    "    \n",
    "    # --- Ключевые коэффициенты Долговой Нагрузки (Остается прежним) ---\n",
    "    df['PTI'] = (df['аннуитет'] * 12) / (df['годовой_доход'] + 1e-6)\n",
    "    df['LTI'] = df['сумма_займа'] / (df['годовой_доход'] + 1e-6)\n",
    "    df['аннуитет_к_займу'] = df['аннуитет'] / (df['сумма_займа'] + 1e-6)\n",
    "    \n",
    "    if 'рейтинг_числовой' in df.columns:\n",
    "        df['ставка_к_рейтингу'] = df['процентная_ставка'] / (df['рейтинг_числовой'] + 1e-6)\n",
    "\n",
    "        \n",
    "    # --- Взаимодействия (Стаж, Доход, КИ, ПДН, Допрейтинг) ---\n",
    "    # (Этот блок кода остается как в Итерации 3)\n",
    "    if 'стаж_лет' in df.columns:\n",
    "        df['доход_к_стажу'] = df['годовой_доход'] / (df['стаж_лет'].fillna(0) + 1)\n",
    "\n",
    "    if 'стаж_лет' in df.columns and 'давность_первого_займа_мес' in df.columns:\n",
    "         df['стаж_к_кредитной_истории'] = df['стаж_лет'] / (df['давность_первого_займа_мес'] / 12 + 1e-6)\n",
    "\n",
    "    if 'пдн' in df.columns:\n",
    "        df['пдн_х_ставка'] = df['пдн'] * df['процентная_ставка']\n",
    "        \n",
    "    if 'допрейтинг_буква_ordinal' in df.columns:\n",
    "        df['допрейтинг_ordinal_х_ставка'] = df['допрейтинг_буква_ordinal'] * df['процентная_ставка']\n",
    "\n",
    "        \n",
    "    # --- Временные взаимодействия и Плотность Активности ---\n",
    "    if 'давность_первого_займа_мес' in df.columns and 'срок_займа_мес' in df.columns:\n",
    "        df['срок_займа_к_истории'] = df['срок_займа_мес'] / (df['давность_первого_займа_мес'] + 1)\n",
    "\n",
    "    # Проверяем, что колонка числовая после Шага 1\n",
    "    if 'кол-во_открытых_счетов' in df.columns and 'давность_первого_займа_мес' in df.columns and np.issubdtype(df['кол-во_открытых_счетов'].dtype, np.number):\n",
    "        df['плотность_счетов'] = df['кол-во_открытых_счетов'] / (df['давность_первого_займа_мес'] + 1)\n",
    "\n",
    "        \n",
    "    # --- Финансовые отношения ---\n",
    "    if 'кредитный_лимит' in df.columns and 'годовой_доход' in df.columns:\n",
    "        df['кредитный_лимит_к_доходу'] = df['кредитный_лимит'] / (df['годовой_доход'] + 1e-6)\n",
    "\n",
    "    if 'верхний_порог_рейтинга_заемщика' in df.columns and 'нижний_порог_рейтинга_заемщика' in df.columns:\n",
    "        df['разница_порогов_рейтинга'] = df['верхний_порог_рейтинга_заемщика'] - df['нижний_порог_рейтинга_заемщика']\n",
    "\n",
    "        \n",
    "    # !!! Итерация 4 (Чек-лист #6): Фича-ratio: current_balance / credit_limit !!!\n",
    "    # Проверяем наличие обеих колонок\n",
    "    required_cols = {'текущий_баланс_по_аннуитетным_счетам', 'кредитный_лимит'}\n",
    "    if required_cols.issubset(df.columns):\n",
    "        # Убедимся, что колонки числовые\n",
    "        if np.issubdtype(df['текущий_баланс_по_аннуитетным_счетам'].dtype, np.number) and np.issubdtype(df['кредитный_лимит'].dtype, np.number):\n",
    "             df['ratio_balance_limit'] = df['текущий_баланс_по_аннуитетным_счетам'] / (df['кредитный_лимит'] + 1e-6)\n",
    "\n",
    "        \n",
    "    # --- Обработка выбросов и бесконечностей (!!! ВАЖНО: Сначала обработка Inf !!!) ---\n",
    "    df = df.replace([np.inf, -np.inf], np.nan)\n",
    "\n",
    "    \n",
    "    # !!! Итерация 4 (Чек-лист #7): Clipping и Логарифмирование !!!\n",
    "    # Применяем к потенциально важным признакам с выбросами.\n",
    "    features_to_process = ['ставка_к_рейтингу', 'PTI', 'LTI', 'ratio_balance_limit']\n",
    "    \n",
    "    for feature in features_to_process:\n",
    "        if feature in df.columns:\n",
    "            # Определяем 1% и 99% квантили (игнорируя NaN)\n",
    "            q1 = df[feature].quantile(0.01)\n",
    "            q99 = df[feature].quantile(0.99)\n",
    "            \n",
    "            # Ограничиваем (Clip) значения этими квантилями. Создаем новый признак.\n",
    "            df[f'{feature}_clipped'] = df[feature].clip(q1, q99)\n",
    "            \n",
    "            # Создаем логарифмированную версию (если значения неотрицательные)\n",
    "            # Используем np.log1p(x) = log(1+x)\n",
    "            # Проверяем минимальное значение после клиппинга\n",
    "            if (df[f'{feature}_clipped'].min() >= 0):\n",
    "                 df[f'{feature}_log'] = np.log1p(df[f'{feature}_clipped'])\n",
    "\n",
    "    \n",
    "    print(\"Генерация признаков завершена.\")\n",
    "    return df\n",
    "\n",
    "\n",
    "\n",
    "df = generate_features(df)\n",
    "print(f\"\\nРазмер данных после Feature Engineering: {df.shape}\")"
   ]
  },
  {
   "cell_type": "markdown",
   "id": "c8ad30d8",
   "metadata": {},
   "source": [
    "### 5.2.1. Генерация Агрегированных Признаков (Group Statistics)\n",
    "\n",
    "Создадим признаки, сравнивающие показатели клиента со средними показателями в его группе. Это помогает модели понять, является ли клиент \"типичным\" или выделяется (например, имеет доход выше среднего в своем регионе). Мы используем `transform` для эффективного вычисления на больших данных."
   ]
  },
  {
   "cell_type": "code",
   "execution_count": 33,
   "id": "626e4850",
   "metadata": {},
   "outputs": [
    {
     "name": "stdout",
     "output_type": "stream",
     "text": [
      "Начало генерации агрегированных признаков...\n",
      "Генерация агрегированных признаков завершена.\n",
      "\n",
      "Размер данных после Group Statistics: (1345310, 194)\n"
     ]
    }
   ],
   "source": [
    "def generate_group_statistics(df):\n",
    "    print(\"Начало генерации агрегированных признаков...\")\n",
    "\n",
    "    # Определяем группы и признаки для агрегации\n",
    "    group_features = [\n",
    "        ['регион'],\n",
    "        ['рейтинг'],\n",
    "        ['допрейтинг'], # Допрейтинг был важен в baseline\n",
    "        ['владение_жильем'],\n",
    "        ['регион', 'рейтинг'], # Комбинация\n",
    "    ]\n",
    "    \n",
    "    # Признаки, по которым считаем статистики\n",
    "    target_features = [\n",
    "        'годовой_доход',\n",
    "        'сумма_займа',\n",
    "        'пдн',\n",
    "        'процентная_ставка',\n",
    "        'LTI', # Используем ранее созданные признаки\n",
    "        'PTI'\n",
    "    ]\n",
    "\n",
    "    # Агрегации считаются на всем датасете (train+test). Это НЕ утечка, так как мы не используем таргет.\n",
    "\n",
    "    for group in group_features:\n",
    "        # Проверяем, что все колонки группы существуют (на случай, если были удалены ранее)\n",
    "        if all(g in df.columns for g in group):\n",
    "            for target in target_features:\n",
    "                if target in df.columns:\n",
    "                    group_name = '_'.join(group)\n",
    "                    \n",
    "                    # 1. Рассчитываем среднее и маппим обратно (используем transform для скорости)\n",
    "                    # Заполняем NaN в группах перед группировкой, чтобы они не влияли на расчеты\n",
    "                    df[group] = df[group].fillna('Missing_Group')\n",
    "                    agg_value = df.groupby(group)[target].transform('mean')\n",
    "                    \n",
    "                    # 2. Считаем разницу (Клиент минус Среднее по группе)\n",
    "                    df[f'GROUP_{group_name}_{target}_mean_diff'] = df[target] - agg_value\n",
    "                    \n",
    "                    # 3. Считаем отношение (Клиент / Среднее по группе)\n",
    "                    df[f'GROUP_{group_name}_{target}_mean_ratio'] = df[target] / (agg_value + 1e-6)\n",
    "\n",
    "    # Обработка возможных бесконечностей\n",
    "    df = df.replace([np.inf, -np.inf], np.nan)\n",
    "    print(\"Генерация агрегированных признаков завершена.\")\n",
    "    return df\n",
    "\n",
    "df = generate_group_statistics(df)\n",
    "print(f\"\\nРазмер данных после Group Statistics: {df.shape}\")"
   ]
  },
  {
   "cell_type": "markdown",
   "id": "27c5d01d",
   "metadata": {},
   "source": [
    "### 5.3. Обработка категориальных признаков\n",
    "\n",
    "LightGBM может эффективно обрабатывать категориальные признаки напрямую (без One-Hot Encoding), что экономит память и часто дает лучшее качество. Для этого нужно привести колонки к типу `category`.\n",
    "\n",
    "Для признаков с высокой кардинальностью мы можем применить группировку редких значений, чтобы уменьшить шум (опционально)."
   ]
  },
  {
   "cell_type": "code",
   "execution_count": 34,
   "id": "bbfc9681",
   "metadata": {},
   "outputs": [
    {
     "name": "stdout",
     "output_type": "stream",
     "text": [
      "Группировка 'профессия_заемщика'. До: 296953. Порог: 0.0005.\n",
      "После: 181.\n",
      "\n",
      "Применение Frequency Encoding...\n",
      "\n",
      "Категориальные признаки для финального кодирования: ['рейтинг', 'допрейтинг', 'профессия_заемщика', 'владение_жильем', 'подтвержден_ли_доход', 'платежный_график', 'цель_займа', 'регион', 'пос_стоп_фактор', 'юридический_статус', 'первоначальный_статус_займа', 'тип_займа', 'особая_ситуация', 'тип_предоставления_кредита']\n",
      "\n",
      "Категориальные признаки обработаны.\n"
     ]
    }
   ],
   "source": [
    "# 1. Группировка редких категорий\n",
    "\n",
    "# Функция для группировки редких категорий\n",
    "def group_rare_categories(df, column, threshold=0.0005, rare_label='Rare/Other'):\n",
    "    \"\"\"Группирует категории, встречающиеся реже threshold (по умолчанию 0.05%).\"\"\"\n",
    "    if column in df.columns:\n",
    "        # Заполняем NaN перед подсчетом\n",
    "        df[column] = df[column].fillna('Missing')\n",
    "        counts = df[column].value_counts(normalize=True)\n",
    "        rare = counts[counts < threshold].index\n",
    "        \n",
    "        print(f\"Группировка '{column}'. До: {df[column].nunique()}. Порог: {threshold}.\")\n",
    "        \n",
    "        # Заменяем редкие значения\n",
    "        # Используем .mask() как эффективный способ замены\n",
    "        df[column] = df[column].mask(df[column].isin(rare), rare_label)\n",
    "        \n",
    "        print(f\"После: {df[column].nunique()}.\")\n",
    "    return df\n",
    "\n",
    "# !!! ОБНОВЛЕНИЕ: Применяем группировку к профессии\n",
    "# Порог 0.05%\n",
    "df = group_rare_categories(df, 'профессия_заемщика', threshold=0.0005)\n",
    "\n",
    "\n",
    "# !!! НОВОЕ: Frequency Encoding !!!\n",
    "# Заменяем категорию на частоту её встречаемости. Помогает при высокой кардинальности.\n",
    "def frequency_encoding(df, column):\n",
    "    if column in df.columns:\n",
    "        # Считаем частоту на всем датасете\n",
    "        encoding = df[column].value_counts(normalize=True)\n",
    "        # Создаем новый числовой признак\n",
    "        df[f'{column}_freq_enc'] = df[column].map(encoding)\n",
    "    return df\n",
    "\n",
    "print(\"\\nПрименение Frequency Encoding...\")\n",
    "df = frequency_encoding(df, 'профессия_заемщика')\n",
    "# Также полезно для региона и допрейтинга\n",
    "df = frequency_encoding(df, 'регион')\n",
    "df = frequency_encoding(df, 'допрейтинг')\n",
    "\n",
    "\n",
    "# 2. Преобразование в тип 'category'\n",
    "categorical_features = df.select_dtypes(include=['object']).columns\n",
    "print(f\"\\nКатегориальные признаки для финального кодирования: {list(categorical_features)}\")\n",
    "\n",
    "for col in categorical_features:\n",
    "    # Убедимся, что пропуски заполнены\n",
    "    df[col] = df[col].fillna('Missing')\n",
    "    # Приводим к строке и затем к типу 'category'\n",
    "    df[col] = df[col].astype(str).astype('category')\n",
    "\n",
    "print(\"\\nКатегориальные признаки обработаны.\")"
   ]
  },
  {
   "cell_type": "markdown",
   "id": "3be59462",
   "metadata": {},
   "source": [
    "## 6. Моделирование\n",
    "\n",
    "### 6.1. Подготовка данных для модели\n",
    "\n",
    "Разделяем данные обратно на train и test. Финализируем набор признаков."
   ]
  },
  {
   "cell_type": "code",
   "execution_count": 35,
   "id": "163d3c93",
   "metadata": {},
   "outputs": [
    {
     "name": "stdout",
     "output_type": "stream",
     "text": [
      "Финальная форма Train X: (1210779, 196)\n",
      "Финальная форма Test X: (134531, 196)\n",
      "Количество признаков: 196\n",
      "Из них категориальных (передаются в модель): 14\n"
     ]
    },
    {
     "data": {
      "text/plain": [
       "17"
      ]
     },
     "execution_count": 35,
     "metadata": {},
     "output_type": "execute_result"
    }
   ],
   "source": [
    "# Разделение обратно на Train и Test по метке 'is_train'\n",
    "X = df[df['is_train'] == 1].drop('is_train', axis=1)\n",
    "X_test = df[df['is_train'] == 0].drop('is_train', axis=1)\n",
    "y = train_target\n",
    "\n",
    "# Финальная проверка: колонки в Train и Test должны строго совпадать по порядку\n",
    "# Это критически важно для корректного предсказания\n",
    "X_test = X_test[X.columns]\n",
    "\n",
    "# Список всех признаков\n",
    "features = X.columns.tolist()\n",
    "# Список категориальных признаков для передачи в LightGBM\n",
    "categorical_features_names = [col for col in features if X[col].dtype.name == 'category']\n",
    "\n",
    "print(f\"Финальная форма Train X: {X.shape}\")\n",
    "print(f\"Финальная форма Test X: {X_test.shape}\")\n",
    "print(f\"Количество признаков: {len(features)}\")\n",
    "print(f\"Из них категориальных (передаются в модель): {len(categorical_features_names)}\")\n",
    "\n",
    "# Очистка памяти\n",
    "del df\n",
    "gc.collect()"
   ]
  },
  {
   "cell_type": "markdown",
   "id": "2c081546",
   "metadata": {},
   "source": [
    "### 6.2. Выбор и Обучение Модели\n",
    "\n",
    "**Модель:** LightGBM (LGBMClassifier).\n",
    "**Причина:** Высочайшая скорость обучения на больших данных и стабильно высокое качество (SOTA) на табличных данных.\n",
    "\n",
    "**Стратегия Валидации:** Stratified K-Fold (K=5). Это обеспечивает надежную локальную оценку модели (OOF Score - Out-Of-Fold Score) и позволяет обучить модель, используя весь тренировочный набор данных, минимизируя риск переобучения.\n",
    "\n",
    "**Параметры:** Используем сильные стартовые параметры. Для достижения Топ-1 потребуется их тонкая настройка (тюнинг)."
   ]
  },
  {
   "cell_type": "code",
   "execution_count": null,
   "id": "85467556",
   "metadata": {},
   "outputs": [
    {
     "name": "stdout",
     "output_type": "stream",
     "text": [
      "--- Начало обучения LightGBM (Итерация 3) ---\n",
      "\n",
      "-> Fold 1/5\n"
     ]
    }
   ],
   "source": [
    "# !!! НОВОЕ: Функция для надежного выравнивания колонок (Совет друга) !!!\n",
    "def align_columns(train_df, other_df_list):\n",
    "    \"\"\"\n",
    "    Приводит val/test DataFrames к тому же порядку колонок, что и train_df, используя reindex.\n",
    "    \"\"\"\n",
    "    aligned = []\n",
    "    train_cols = train_df.columns\n",
    "    for df_ in other_df_list:\n",
    "        # reindex гарантирует порядок и состав колонок. Отсутствующие колонки заполнятся NaN.\n",
    "        df_aligned = df_.reindex(columns=train_cols)\n",
    "        # Дополнительная проверка (можно убрать для скорости, но полезна при отладке)\n",
    "        if not list(df_aligned.columns) == list(train_cols):\n",
    "             print(\"ВНИМАНИЕ: Критическое несовпадение колонок после выравнивания!\")\n",
    "        aligned.append(df_aligned)\n",
    "    return aligned\n",
    "# --------------------------------------------------------------------\n",
    "\n",
    "\n",
    "# Параметры LightGBM. Итерация 4: Тестируем альтернативный набор (Чек-лист №8, Вариант B).\n",
    "params = {\n",
    "    'objective': 'binary',\n",
    "    'metric': 'auc',\n",
    "    'boosting_type': 'gbdt',\n",
    "    \n",
    "    # Увеличиваем итерации и уменьшаем LR\n",
    "    'n_estimators': 8000,        # Увеличили (было 5000)\n",
    "    'learning_rate': 0.015,      # Уменьшили (было 0.02)\n",
    "    \n",
    "    # Увеличиваем сложность, но добавляем регуляризацию\n",
    "    'num_leaves': 64,            # Увеличили (было 48)\n",
    "    'min_child_samples': 100,    # !!! НОВОЕ: Регуляризация (минимальное число объектов в листе)\n",
    "    \n",
    "    'max_depth': -1,\n",
    "    'seed': RANDOM_STATE,\n",
    "    'n_jobs': -1,\n",
    "    'verbose': -1,\n",
    "    \n",
    "    # Стандартная регуляризация\n",
    "    'colsample_bytree': 0.7,\n",
    "    'subsample': 0.7,\n",
    "    'reg_alpha': 0.2,\n",
    "    'reg_lambda': 0.2,\n",
    "    \n",
    "    # !!! НОВОЕ: Включаем bagging\n",
    "    'bagging_freq': 1, \n",
    "    \n",
    "    # !!! Изменение: Убираем 'class_weight': 'balanced' и используем 'is_unbalance'\n",
    "    # 'class_weight': 'balanced', \n",
    "    'is_unbalance': True\n",
    "}\n",
    "\n",
    "# Увеличим Early Stopping, так как LR меньше\n",
    "EARLY_STOPPING_ROUNDS = 200 # Увеличили с 150\n",
    "\n",
    "\n",
    "# !!! Итерация 3: Оптимизация Target Encoding !!!\n",
    "TE_COLS = [\n",
    "    'профессия_заемщика', # Оставляем высококардинальные\n",
    "    'регион',\n",
    "    # 'допрейтинг' убрали, так как мы его закодировали вручную в Шаге 2\n",
    "]\n",
    "TE_SMOOTHING = 5.0  # Уменьшили с 15.0\n",
    "TE_MIN_COUNT = 10   # Новый параметр\n",
    "\n",
    "# Инициализация кросс-валидации\n",
    "skf = StratifiedKFold(n_splits=N_SPLITS, shuffle=True, random_state=RANDOM_STATE)\n",
    "\n",
    "# Массивы для хранения предсказаний\n",
    "oof_preds = np.zeros(X.shape[0])\n",
    "test_preds = np.zeros(X_test.shape[0])\n",
    "feature_importance_df = pd.DataFrame()\n",
    "models = [] # Сохраняем модели для возможного анализа SHAP\n",
    "\n",
    "print(\"--- Начало обучения LightGBM (Итерация 3) ---\")\n",
    "start_time = time.time()\n",
    "\n",
    "# Цикл обучения по фолдам\n",
    "for fold, (train_index, val_index) in enumerate(skf.split(X, y)):\n",
    "    print(f\"\\n-> Fold {fold+1}/{N_SPLITS}\")\n",
    "    \n",
    "    # Разделение данных\n",
    "    X_train, X_val = X.iloc[train_index], X.iloc[val_index]\n",
    "    y_train, y_val = y.iloc[train_index], y.iloc[val_index]\n",
    "\n",
    "    # --- Target Encoding (Внутри цикла!) ---\n",
    "    # 1. Обучаем энкодер (Используем новые параметры)\n",
    "    te = TargetEncoder(cols=TE_COLS, smoothing=TE_SMOOTHING, min_count=TE_MIN_COUNT)\n",
    "    te.fit(X_train, y_train)\n",
    "    \n",
    "    # 2. Трансформируем выборки\n",
    "    X_train_encoded = pd.concat([X_train, te.transform(X_train)], axis=1)\n",
    "    X_val_encoded = pd.concat([X_val, te.transform(X_val)], axis=1)\n",
    "    X_test_fold_te = te.transform(X_test)\n",
    "    X_test_encoded_fold = pd.concat([X_test, X_test_fold_te], axis=1)\n",
    "\n",
    "    # 3. !!! Применяем выравнивание колонок !!!\n",
    "    X_val_encoded, X_test_encoded_fold = align_columns(X_train_encoded, [X_val_encoded, X_test_encoded_fold])\n",
    "\n",
    "    \n",
    "    # --- Обучение Модели ---\n",
    "    model = lgb.LGBMClassifier(**params)\n",
    "    \n",
    "    model.fit(X_train_encoded, y_train,\n",
    "              eval_set=[(X_val_encoded, y_val)],\n",
    "              eval_metric='auc',\n",
    "              categorical_feature=[c for c in categorical_features_names if c in X_train_encoded.columns],\n",
    "              callbacks=[lgb.early_stopping(EARLY_STOPPING_ROUNDS, verbose=VERBOSE)])\n",
    "    \n",
    "    models.append(model)\n",
    "\n",
    "    # Предсказания на валидации\n",
    "    val_preds = model.predict_proba(X_val_encoded)[:, 1]\n",
    "    oof_preds[val_index] = val_preds\n",
    "    \n",
    "    # Предсказания на тесте\n",
    "    test_preds += model.predict_proba(X_test_encoded_fold)[:, 1] / N_SPLITS\n",
    "\n",
    "    # Сохранение важности признаков (Код Feature Importance остается прежним)\n",
    "    fold_importance_df = pd.DataFrame()\n",
    "    model_features = model.booster_.feature_name()\n",
    "    fold_importance_df[\"feature\"] = model_features\n",
    "    fold_importance_df[\"importance\"] = model.booster_.feature_importance(importance_type='gain')\n",
    "    fold_importance_df[\"fold\"] = fold + 1\n",
    "    feature_importance_df = pd.concat([feature_importance_df, fold_importance_df], axis=0)\n",
    "    \n",
    "    print(f\"   Fold {fold+1} AUC: {roc_auc_score(y_val, val_preds):.5f}. Итераций: {model.best_iteration_}\")\n",
    "\n",
    "# Итоговая оценка качества модели\n",
    "oof_auc = roc_auc_score(y, oof_preds)\n",
    "end_time = time.time()\n",
    "print(f\"\\n--- Overall OOF AUC: {oof_auc:.5f} ---\")\n",
    "print(f\"Время обучения: {(end_time - start_time):.2f} секунд\")"
   ]
  },
  {
   "cell_type": "markdown",
   "id": "1878c914",
   "metadata": {},
   "source": [
    "## 7. Анализ Важности Признаков\n",
    "\n",
    "Анализ Feature Importance (на основе Gain) позволяет понять, какие признаки вносят наибольший вклад в предсказания модели. Это помогает интерпретировать результаты и находить идеи для дальнейшего Feature Engineering."
   ]
  },
  {
   "cell_type": "code",
   "execution_count": null,
   "id": "099c97b8",
   "metadata": {},
   "outputs": [
    {
     "data": {
      "image/png": "[encoded data removed]",
      "text/plain": [
       "<Figure size 1000x1000 with 1 Axes>"
      ]
     },
     "metadata": {},
     "output_type": "display_data"
    }
   ],
   "source": [
    "def plot_feature_importance(importance_df, top_n=50):\n",
    "    # Усредняем важность признаков по всем фолдам\n",
    "    mean_importance = (importance_df[[\"feature\", \"importance\"]]\n",
    "                       .groupby(\"feature\")\n",
    "                       .mean()\n",
    "                       .sort_values(by=\"importance\", ascending=False))\n",
    "\n",
    "    top_features = mean_importance.head(top_n)\n",
    "\n",
    "    plt.figure(figsize=(10, max(10, top_n / 3))) # Адаптивный размер графика\n",
    "    sns.barplot(x=\"importance\", y=top_features.index, data=top_features.reset_index())\n",
    "    plt.title(f'LightGBM Feature Importance (Gain, Top {top_n}, усредненная по фолдам)')\n",
    "    plt.tight_layout()\n",
    "    plt.show()\n",
    "\n",
    "# Отобразим Топ-30 признаков\n",
    "plot_feature_importance(feature_importance_df, top_n=30)"
   ]
  },
  {
   "cell_type": "markdown",
   "id": "5f3fdf31",
   "metadata": {},
   "source": [
    "## 8. Формирование файла для отправки (Submission)\n",
    "\n",
    "Генерируем файл `submission.csv` в требуемом формате: `ID`, `Proba`."
   ]
  },
  {
   "cell_type": "code",
   "execution_count": null,
   "id": "ae3099e7",
   "metadata": {},
   "outputs": [
    {
     "name": "stdout",
     "output_type": "stream",
     "text": [
      "\n",
      "Файл submission.csv успешно сформирован и сохранен.\n"
     ]
    },
    {
     "data": {
      "text/html": [
       "<div>\n",
       "<style scoped>\n",
       "    .dataframe tbody tr th:only-of-type {\n",
       "        vertical-align: middle;\n",
       "    }\n",
       "\n",
       "    .dataframe tbody tr th {\n",
       "        vertical-align: top;\n",
       "    }\n",
       "\n",
       "    .dataframe thead th {\n",
       "        text-align: right;\n",
       "    }\n",
       "</style>\n",
       "<table border=\"1\" class=\"dataframe\">\n",
       "  <thead>\n",
       "    <tr style=\"text-align: right;\">\n",
       "      <th></th>\n",
       "      <th>ID</th>\n",
       "      <th>Proba</th>\n",
       "    </tr>\n",
       "  </thead>\n",
       "  <tbody>\n",
       "    <tr>\n",
       "      <th>0</th>\n",
       "      <td>85540387</td>\n",
       "      <td>0.22159</td>\n",
       "    </tr>\n",
       "    <tr>\n",
       "      <th>1</th>\n",
       "      <td>28112500</td>\n",
       "      <td>0.13658</td>\n",
       "    </tr>\n",
       "    <tr>\n",
       "      <th>2</th>\n",
       "      <td>65731570</td>\n",
       "      <td>0.31660</td>\n",
       "    </tr>\n",
       "    <tr>\n",
       "      <th>3</th>\n",
       "      <td>65874747</td>\n",
       "      <td>0.82617</td>\n",
       "    </tr>\n",
       "    <tr>\n",
       "      <th>4</th>\n",
       "      <td>57893355</td>\n",
       "      <td>0.58278</td>\n",
       "    </tr>\n",
       "  </tbody>\n",
       "</table>\n",
       "</div>"
      ],
      "text/plain": [
       "         ID   Proba\n",
       "0  85540387 0.22159\n",
       "1  28112500 0.13658\n",
       "2  65731570 0.31660\n",
       "3  65874747 0.82617\n",
       "4  57893355 0.58278"
      ]
     },
     "metadata": {},
     "output_type": "display_data"
    }
   ],
   "source": [
    "submission_df = pd.DataFrame({'ID': test_ids, 'Proba': test_preds})\n",
    "\n",
    "# Приводим ID к целочисленному формату (как в примере)\n",
    "submission_df['ID'] = submission_df['ID'].astype(int)\n",
    "\n",
    "# Сохранение файла\n",
    "submission_df.to_csv('submission.csv', index=False)\n",
    "\n",
    "print(\"\\nФайл submission.csv успешно сформирован и сохранен.\")\n",
    "display(submission_df.head())"
   ]
  }
 ],
 "metadata": {
  "kernelspec": {
   "display_name": "Python 3",
   "language": "python",
   "name": "python3"
  },
  "language_info": {
   "codemirror_mode": {
    "name": "ipython",
    "version": 3
   },
   "file_extension": ".py",
   "mimetype": "text/x-python",
   "name": "python",
   "nbconvert_exporter": "python",
   "pygments_lexer": "ipython3",
   "version": "3.9.10"
  }
 },
 "nbformat": 4,
 "nbformat_minor": 5
}
